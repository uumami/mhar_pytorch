{
  "nbformat": 4,
  "nbformat_minor": 0,
  "metadata": {
    "colab": {
      "name": "mhar_mst.ipynb",
      "provenance": [],
      "collapsed_sections": [],
      "machine_shape": "hm"
    },
    "kernelspec": {
      "name": "python3",
      "display_name": "Python 3"
    }
  },
  "cells": [
    {
      "cell_type": "code",
      "metadata": {
        "id": "jmgZgK5oURv6",
        "colab_type": "code",
        "colab": {
          "base_uri": "https://localhost:8080/",
          "height": 73
        },
        "outputId": "0d85305b-4ccc-45a1-d341-66acf26e8e88"
      },
      "source": [
        "'''\n",
        "\n",
        "function ConnectButton(){\n",
        "    console.log(\"Connect pushed\"); \n",
        "    document.querySelector(\"#top-toolbar > colab-connect-button\").shadowRoot.querySelector(\"#connect\").click() \n",
        "}\n",
        "setInterval(ConnectButton,60000);\n",
        "\n",
        "\n",
        "function ClickConnect(){\n",
        "console.log(\"Working\"); \n",
        "document.querySelector(\"colab-toolbar-button#connect\").click() \n",
        "}\n",
        "setInterval(ClickConnect,60000)\n",
        "'''"
      ],
      "execution_count": 2,
      "outputs": [
        {
          "output_type": "execute_result",
          "data": {
            "application/vnd.google.colaboratory.intrinsic+json": {
              "type": "string"
            },
            "text/plain": [
              "'\\n\\nfunction ConnectButton(){\\n    console.log(\"Connect pushed\"); \\n    document.querySelector(\"#top-toolbar > colab-connect-button\").shadowRoot.querySelector(\"#connect\").click() \\n}\\nsetInterval(ConnectButton,60000);\\n\\n\\nfunction ClickConnect(){\\nconsole.log(\"Working\"); \\ndocument.querySelector(\"colab-toolbar-button#connect\").click() \\n}\\nsetInterval(ClickConnect,60000)\\n'"
            ]
          },
          "metadata": {
            "tags": []
          },
          "execution_count": 2
        }
      ]
    },
    {
      "cell_type": "code",
      "metadata": {
        "id": "Px-sNHUF1DXX",
        "colab_type": "code",
        "colab": {
          "base_uri": "https://localhost:8080/",
          "height": 35
        },
        "outputId": "203a8ca1-b377-4610-f489-4afb4549d68b"
      },
      "source": [
        "from google.colab import drive\n",
        "drive.mount('/content/drive')"
      ],
      "execution_count": 3,
      "outputs": [
        {
          "output_type": "stream",
          "text": [
            "Drive already mounted at /content/drive; to attempt to forcibly remount, call drive.mount(\"/content/drive\", force_remount=True).\n"
          ],
          "name": "stdout"
        }
      ]
    },
    {
      "cell_type": "code",
      "metadata": {
        "id": "DyaVLFWwA7fC",
        "colab_type": "code",
        "colab": {
          "base_uri": "https://localhost:8080/",
          "height": 880
        },
        "outputId": "596601db-5af8-4043-b3ca-2af8b0db64d3"
      },
      "source": [
        "!cat /proc/meminfo"
      ],
      "execution_count": 4,
      "outputs": [
        {
          "output_type": "stream",
          "text": [
            "MemTotal:       26751700 kB\n",
            "MemFree:        25502976 kB\n",
            "MemAvailable:   25716984 kB\n",
            "Buffers:           20560 kB\n",
            "Cached:           464808 kB\n",
            "SwapCached:            0 kB\n",
            "Active:           657548 kB\n",
            "Inactive:         318536 kB\n",
            "Active(anon):     471712 kB\n",
            "Inactive(anon):      376 kB\n",
            "Active(file):     185836 kB\n",
            "Inactive(file):   318160 kB\n",
            "Unevictable:           0 kB\n",
            "Mlocked:               0 kB\n",
            "SwapTotal:             0 kB\n",
            "SwapFree:              0 kB\n",
            "Dirty:               644 kB\n",
            "Writeback:             0 kB\n",
            "AnonPages:        490940 kB\n",
            "Mapped:           116148 kB\n",
            "Shmem:               928 kB\n",
            "Slab:             123520 kB\n",
            "SReclaimable:      66848 kB\n",
            "SUnreclaim:        56672 kB\n",
            "KernelStack:        4720 kB\n",
            "PageTables:         7164 kB\n",
            "NFS_Unstable:          0 kB\n",
            "Bounce:                0 kB\n",
            "WritebackTmp:          0 kB\n",
            "CommitLimit:    13375848 kB\n",
            "Committed_AS:    3254808 kB\n",
            "VmallocTotal:   34359738367 kB\n",
            "VmallocUsed:           0 kB\n",
            "VmallocChunk:          0 kB\n",
            "Percpu:             1888 kB\n",
            "AnonHugePages:         0 kB\n",
            "ShmemHugePages:        0 kB\n",
            "ShmemPmdMapped:        0 kB\n",
            "HugePages_Total:       0\n",
            "HugePages_Free:        0\n",
            "HugePages_Rsvd:        0\n",
            "HugePages_Surp:        0\n",
            "Hugepagesize:       2048 kB\n",
            "Hugetlb:               0 kB\n",
            "DirectMap4k:       95420 kB\n",
            "DirectMap2M:     6195200 kB\n",
            "DirectMap1G:    23068672 kB\n"
          ],
          "name": "stdout"
        }
      ]
    },
    {
      "cell_type": "code",
      "metadata": {
        "id": "YWofhGRB1ma1",
        "colab_type": "code",
        "colab": {
          "base_uri": "https://localhost:8080/",
          "height": 110
        },
        "outputId": "b6f86e51-da3b-484e-bf71-31e6206f5274"
      },
      "source": [
        "%load_ext rpy2.ipython"
      ],
      "execution_count": 5,
      "outputs": [
        {
          "output_type": "stream",
          "text": [
            "/usr/local/lib/python3.6/dist-packages/rpy2/robjects/pandas2ri.py:14: FutureWarning: pandas.core.index is deprecated and will be removed in a future version.  The public classes are available in the top-level namespace.\n",
            "  from pandas.core.index import Index as PandasIndex\n",
            "/usr/local/lib/python3.6/dist-packages/rpy2/robjects/pandas2ri.py:34: UserWarning: pandas >= 1.0 is not supported.\n",
            "  warnings.warn('pandas >= 1.0 is not supported.')\n"
          ],
          "name": "stderr"
        }
      ]
    },
    {
      "cell_type": "code",
      "metadata": {
        "id": "9gjkOa0r2IDv",
        "colab_type": "code",
        "colab": {
          "base_uri": "https://localhost:8080/",
          "height": 1000
        },
        "outputId": "688d1e2b-8eaa-4024-a7f8-fc33efcaa764"
      },
      "source": [
        "%%R\n",
        "if (!requireNamespace(\"BiocManager\", quietly = TRUE))\n",
        "install.packages(\"BiocManager\")\n",
        "BiocManager::install(\"GSAR\")"
      ],
      "execution_count": 6,
      "outputs": [
        {
          "output_type": "stream",
          "text": [
            "R[write to console]: Bioconductor version 3.10 (BiocManager 1.30.10), R 3.6.3 (2020-02-29)\n",
            "\n",
            "R[write to console]: Installing package(s) 'GSAR'\n",
            "\n",
            "R[write to console]: trying URL 'https://bioconductor.org/packages/3.10/bioc/src/contrib/GSAR_1.20.0.tar.gz'\n",
            "\n",
            "R[write to console]: Content type 'application/x-gzip'\n",
            "R[write to console]:  length 2185168 bytes (2.1 MB)\n",
            "\n",
            "R[write to console]: =\n",
            "R[write to console]: =\n",
            "R[write to console]: =\n",
            "R[write to console]: =\n",
            "R[write to console]: =\n",
            "R[write to console]: =\n",
            "R[write to console]: =\n",
            "R[write to console]: =\n",
            "R[write to console]: =\n",
            "R[write to console]: =\n",
            "R[write to console]: =\n",
            "R[write to console]: =\n",
            "R[write to console]: =\n",
            "R[write to console]: =\n",
            "R[write to console]: =\n",
            "R[write to console]: =\n",
            "R[write to console]: =\n",
            "R[write to console]: =\n",
            "R[write to console]: =\n",
            "R[write to console]: =\n",
            "R[write to console]: =\n",
            "R[write to console]: =\n",
            "R[write to console]: =\n",
            "R[write to console]: =\n",
            "R[write to console]: =\n",
            "R[write to console]: =\n",
            "R[write to console]: =\n",
            "R[write to console]: =\n",
            "R[write to console]: =\n",
            "R[write to console]: =\n",
            "R[write to console]: =\n",
            "R[write to console]: =\n",
            "R[write to console]: =\n",
            "R[write to console]: =\n",
            "R[write to console]: =\n",
            "R[write to console]: =\n",
            "R[write to console]: =\n",
            "R[write to console]: =\n",
            "R[write to console]: =\n",
            "R[write to console]: =\n",
            "R[write to console]: =\n",
            "R[write to console]: =\n",
            "R[write to console]: =\n",
            "R[write to console]: =\n",
            "R[write to console]: =\n",
            "R[write to console]: =\n",
            "R[write to console]: =\n",
            "R[write to console]: =\n",
            "R[write to console]: =\n",
            "R[write to console]: =\n",
            "R[write to console]: \n",
            "\n",
            "R[write to console]: downloaded 2.1 MB\n",
            "\n",
            "\n",
            "R[write to console]: \n",
            "\n",
            "R[write to console]: \n",
            "R[write to console]: The downloaded source packages are in\n",
            "\t‘/tmp/RtmppDy5Q2/downloaded_packages’\n",
            "R[write to console]: \n",
            "R[write to console]: \n",
            "\n",
            "R[write to console]: Old packages: 'curl', 'dplyr', 'farver', 'fs', 'rex', 'rprojroot', 'tidyr',\n",
            "  'nlme'\n",
            "\n"
          ],
          "name": "stderr"
        }
      ]
    },
    {
      "cell_type": "code",
      "metadata": {
        "id": "VAtaIVAC2b29",
        "colab_type": "code",
        "colab": {
          "base_uri": "https://localhost:8080/",
          "height": 1000
        },
        "outputId": "167c5167-9f37-4c5b-a5ee-992076a6f9d2"
      },
      "source": [
        "%%R\n",
        "library(tidyverse)\n",
        "library(MASS)\n",
        "library(GSAR)\n",
        "library(parallel)"
      ],
      "execution_count": 7,
      "outputs": [
        {
          "output_type": "stream",
          "text": [
            "R[write to console]: ── Attaching packages ─────────────────────────────────────── tidyverse 1.3.0 ──\n",
            "\n",
            "R[write to console]: ✔ ggplot2 3.3.2     ✔ purrr   0.3.4\n",
            "✔ tibble  3.0.3     ✔ dplyr   1.0.0\n",
            "✔ tidyr   1.1.0     ✔ stringr 1.4.0\n",
            "✔ readr   1.3.1     ✔ forcats 0.5.0\n",
            "\n",
            "R[write to console]: ── Conflicts ────────────────────────────────────────── tidyverse_conflicts() ──\n",
            "✖ dplyr::filter() masks stats::filter()\n",
            "✖ dplyr::lag()    masks stats::lag()\n",
            "\n",
            "R[write to console]: \n",
            "Attaching package: ‘MASS’\n",
            "\n",
            "\n",
            "R[write to console]: The following object is masked from ‘package:dplyr’:\n",
            "\n",
            "    select\n",
            "\n",
            "\n",
            "R[write to console]: Loading required package: igraph\n",
            "\n",
            "R[write to console]: \n",
            "Attaching package: ‘igraph’\n",
            "\n",
            "\n",
            "R[write to console]: The following objects are masked from ‘package:dplyr’:\n",
            "\n",
            "    as_data_frame, groups, union\n",
            "\n",
            "\n",
            "R[write to console]: The following objects are masked from ‘package:purrr’:\n",
            "\n",
            "    compose, simplify\n",
            "\n",
            "\n",
            "R[write to console]: The following object is masked from ‘package:tidyr’:\n",
            "\n",
            "    crossing\n",
            "\n",
            "\n",
            "R[write to console]: The following object is masked from ‘package:tibble’:\n",
            "\n",
            "    as_data_frame\n",
            "\n",
            "\n",
            "R[write to console]: The following objects are masked from ‘package:stats’:\n",
            "\n",
            "    decompose, spectrum\n",
            "\n",
            "\n",
            "R[write to console]: The following object is masked from ‘package:base’:\n",
            "\n",
            "    union\n",
            "\n",
            "\n"
          ],
          "name": "stderr"
        }
      ]
    },
    {
      "cell_type": "code",
      "metadata": {
        "id": "JpiqdMoW2xPp",
        "colab_type": "code",
        "colab": {}
      },
      "source": [
        "%%R\n",
        "\n",
        "# Simplex sample generator\n",
        "simplex_gen  <- function(n, samples){\n",
        "    simplex_out  <- matrix(, nrow = samples, ncol = n)\n",
        "    for(r in c(1:samples)){\n",
        "        sample  <- runif(n-1,0,1)  %>%  \n",
        "                    sort(decreasing=FALSE)\n",
        "        sample  <- append(0.0, sample)  %>% \n",
        "                    append(1.0)\n",
        "        sample  <- sample[-1] - sample\n",
        "        sample  <- sample[1:n]\n",
        "\n",
        "        simplex_out[r,]  <- sample\n",
        "     }\n",
        "    return(simplex_out)\n",
        "}\n",
        "\n",
        "# Genberate hypercube\n",
        "hyper_gen  <- function(n, samples){\n",
        "    simplex_out  <- matrix(, nrow = samples, ncol = n)\n",
        "    for(r in c(1:samples)){\n",
        "        sample  <- runif(n,-1,1) \n",
        "        sample  <- sample[1:n]\n",
        "        simplex_out[r,]  <- sample\n",
        "     }\n",
        "    return(simplex_out)\n",
        "}\n",
        "\n",
        "# MST for simplex\n",
        "mst <- function(file_, nsamp=10000, perm=50){\n",
        "    # Read files with samples\n",
        "    df_  <- read_csv(file_)  %>%  \n",
        "    dplyr::select(starts_with('x_'))  %>% \n",
        "    sample_n(size=nsamp, replace=FALSE)\n",
        "    # Get dim of the read file\n",
        "    n_rows  <- dim(df_)[1]\n",
        "    n_cols  <- dim(df_)[2]\n",
        "        if (n_rows > (nsamp-1)){\n",
        "        simplex_sample  <- suppressWarnings(simplex_gen(n_cols,n_rows))\n",
        "        \n",
        "        df_  <- df_  %>% \n",
        "                data.matrix()   %>% \n",
        "                unname()\n",
        "        \n",
        "        df_  <- rbind(df_, simplex_sample)  \n",
        "        df_  <- df_ %>% \n",
        "                aperm(c(2,1)) \n",
        "        result <- WWtest(object=df_, group=c(rep(1, n_rows),rep(2, n_rows)),\n",
        "                         nperm=perm, pvalue.only=FALSE)\n",
        "        z_df  <- tibble(dim=n_cols, z=result$statistic, \n",
        "                        p_value=result$p.value,\n",
        "                             nsamp=nsamp)\n",
        "        gc()\n",
        "        return(z_df)\n",
        "        \n",
        "    }\n",
        "    \n",
        "}\n"
      ],
      "execution_count": 8,
      "outputs": []
    },
    {
      "cell_type": "code",
      "metadata": {
        "id": "y0KM3rXkiZsh",
        "colab_type": "code",
        "colab": {}
      },
      "source": [
        "%%R\n",
        "path  <- '/content/drive/My Drive/mhar_paper_samples_2/'\n",
        "set.seed(5)\n",
        "files <- list.files(path)\n",
        "files  <- paste(path, files, sep='')\n",
        "\n",
        "# Extract dimenions\n",
        "m <- regexpr(\"%[0-9]+.csv\", files, perl=TRUE)\n",
        "dimension <- regmatches(files, m)\n",
        "m <- regexpr(\"[0-9]+\", dimension, perl=TRUE)\n",
        "dimension <- regmatches(dimension, m)\n",
        "dimension\n",
        "\n",
        "#Extract figure\n",
        "m <- regexpr(\"[0-9]+_[a-z]+%\", files, perl=TRUE)\n",
        "figure <- regmatches(files, m)\n",
        "m <- regexpr(\"[a-z]+\", figure, perl=TRUE)\n",
        "figure <- regmatches(figure, m)\n",
        "figure\n",
        "\n",
        "# Extract seed\n",
        "m <- regexpr(\"/[0-9]+_\", files, perl=TRUE)\n",
        "sed <- regmatches(files, m)\n",
        "m <- regexpr(\"[0-9]+\", sed, perl=TRUE)\n",
        "sed <- regmatches(sed, m)\n",
        "\n",
        "df_simulations <- tibble(file=files, n=dimension, figure=figure, seed=sed)"
      ],
      "execution_count": 9,
      "outputs": []
    },
    {
      "cell_type": "code",
      "metadata": {
        "id": "sp1WquUZcc4O",
        "colab_type": "code",
        "colab": {
          "base_uri": "https://localhost:8080/",
          "height": 274
        },
        "outputId": "7548e300-3884-4cd9-cc59-36ae9a63e6b0"
      },
      "source": [
        "%%R\n",
        "df_simulations"
      ],
      "execution_count": 10,
      "outputs": [
        {
          "output_type": "stream",
          "text": [
            "# A tibble: 81 x 4\n",
            "   file                                                     n     figure   seed \n",
            "   <chr>                                                    <chr> <chr>    <chr>\n",
            " 1 /content/drive/My Drive/mhar_paper_samples_2/100_hyperc… 3     hypercu… 100  \n",
            " 2 /content/drive/My Drive/mhar_paper_samples_2/1064_hyper… 15    hypercu… 1064 \n",
            " 3 /content/drive/My Drive/mhar_paper_samples_2/1064_hyper… 25    hypercu… 1064 \n",
            " 4 /content/drive/My Drive/mhar_paper_samples_2/1064_hyper… 3     hypercu… 1064 \n",
            " 5 /content/drive/My Drive/mhar_paper_samples_2/1064_hyper… 50    hypercu… 1064 \n",
            " 6 /content/drive/My Drive/mhar_paper_samples_2/1064_simpl… 15    simplex  1064 \n",
            " 7 /content/drive/My Drive/mhar_paper_samples_2/1064_simpl… 25    simplex  1064 \n",
            " 8 /content/drive/My Drive/mhar_paper_samples_2/1064_simpl… 3     simplex  1064 \n",
            " 9 /content/drive/My Drive/mhar_paper_samples_2/1064_simpl… 50    simplex  1064 \n",
            "10 /content/drive/My Drive/mhar_paper_samples_2/1197_hyper… 15    hypercu… 1197 \n",
            "# … with 71 more rows\n"
          ],
          "name": "stdout"
        }
      ]
    },
    {
      "cell_type": "code",
      "metadata": {
        "id": "CBlJPmI8tjZl",
        "colab_type": "code",
        "colab": {
          "base_uri": "https://localhost:8080/",
          "height": 1000
        },
        "outputId": "86efcaf3-6d95-4010-b18c-92f8979cfd52"
      },
      "source": [
        "%%R\n",
        "\n",
        "save_path <- '/content/drive/My Drive/mst_5000/mst_5000_heated_.csv'\n",
        "\n",
        "# Create random seeds\n",
        "seeds_ <- sample(1:10000000, 1000, replace=T)\n",
        "s<- 1\n",
        "\n",
        "\n",
        "## PArse existing experiments\n",
        "if(!file.exists(save_path)){\n",
        "    existance<- tibble(figure=character(),dim=numeric(), z=numeric(), \n",
        "                          p_value=numeric(),\n",
        "                              nsamp=numeric(), file=character(), perm=numeric(),\n",
        "               seed=numeric()) \n",
        "    print('Experiments file does not exists')\n",
        "    \n",
        "}else{\n",
        "    existance <- read.csv(save_path) %>% dplyr::select( -contains('X'))\n",
        "    print('Loading experiment csv')\n",
        "}\n",
        "\n",
        "z_df <- existance\n",
        "\n",
        "for(f in files){\n",
        "  # Set hyperparameters\n",
        "  set.seed(seeds_[s])\n",
        "  file_name <- f\n",
        "  perm <- 2\n",
        "  n_sample <- 5\n",
        "  print(file_name)\n",
        "  df_  <- read_csv(file_name)\n",
        "  df_ <- df_[c(1:n_sample),]\n",
        "  # Get dim of the read file\n",
        "  n_rows  <- dim(df_)[1]\n",
        "  n_cols  <- dim(df_)[2]\n",
        "  print(n_rows)\n",
        "  print(n_cols)\n",
        "\n",
        "  # Check if the experiment already runned\n",
        "  check_df <- FALSE\n",
        "  if(f %in% existance$file){\n",
        "    check_df <- TRUE\n",
        "  }\n",
        "\n",
        "  check_df <- !check_df\n",
        "\n",
        "  if(check_df){\n",
        "    typ <- 'Error'\n",
        "      print('Run MST')\n",
        "    if (grepl('hyper', f, fixed = TRUE)){\n",
        "    real_sample  <- suppressWarnings(hyper_gen(n_cols,n_rows))\n",
        "    typ <- 'Hypercube'\n",
        "  }\n",
        "  if (grepl('simplex', f, fixed = TRUE)){\n",
        "    real_sample  <- suppressWarnings(simplex_gen(n_cols,n_rows))\n",
        "    typ <- 'Simplex'\n",
        "  }\n",
        "\n",
        "  df_  <- df_  %>% data.matrix()   %>% unname()\n",
        "          \n",
        "  df_  <- rbind(df_, real_sample)  \n",
        "  df_  <- df_ %>% aperm(c(2,1)) \n",
        "  dim(df_)\n",
        "  result <- WWtest(object=df_, group=c(rep(1, n_rows),rep(2, n_rows)),\n",
        "                          nperm=perm, pvalue.only=FALSE)\n",
        "  z_df  <- tibble(figure=typ,dim=n_cols, z=result$statistic, \n",
        "                          p_value=result$p.value,\n",
        "                              nsamp=n_sample, file=f, perm=perm, \n",
        "                  seed=seeds_[s]) %>% rbind(z_df)\n",
        "  z_df %>% write.csv(save_path)\n",
        "  \n",
        "  }\n",
        "  #Increment seed index\n",
        "  s <- s + 1 \n",
        "  print('%%%%%%%%%%%%%%%%%%%%%%%%%%%%%%%%%%%%%%%%%%%%%%%%%%%%%%%%%%%%%%%%')\n",
        "  print('')\n",
        "  print('')\n",
        "}\n",
        "\n",
        "\n"
      ],
      "execution_count": 11,
      "outputs": [
        {
          "output_type": "stream",
          "text": [
            "[1] \"Experiments file does not exists\"\n",
            "[1] \"/content/drive/My Drive/mhar_paper_samples_2/100_hypercube%1000%3.csv\"\n"
          ],
          "name": "stdout"
        },
        {
          "output_type": "stream",
          "text": [
            "R[write to console]: Parsed with column specification:\n",
            "cols(\n",
            "  `0` = col_double(),\n",
            "  `1` = col_double(),\n",
            "  `2` = col_double()\n",
            ")\n",
            "\n"
          ],
          "name": "stderr"
        },
        {
          "output_type": "stream",
          "text": [
            "[1] 5\n",
            "[1] 3\n",
            "[1] \"Run MST\"\n",
            "[1] \"%%%%%%%%%%%%%%%%%%%%%%%%%%%%%%%%%%%%%%%%%%%%%%%%%%%%%%%%%%%%%%%%\"\n",
            "[1] \"\"\n",
            "[1] \"\"\n",
            "[1] \"/content/drive/My Drive/mhar_paper_samples_2/1064_hypercube%1000%15.csv\"\n"
          ],
          "name": "stdout"
        },
        {
          "output_type": "stream",
          "text": [
            "R[write to console]: Parsed with column specification:\n",
            "cols(\n",
            "  `0` = col_double(),\n",
            "  `1` = col_double(),\n",
            "  `2` = col_double(),\n",
            "  `3` = col_double(),\n",
            "  `4` = col_double(),\n",
            "  `5` = col_double(),\n",
            "  `6` = col_double(),\n",
            "  `7` = col_double(),\n",
            "  `8` = col_double(),\n",
            "  `9` = col_double(),\n",
            "  `10` = col_double(),\n",
            "  `11` = col_double(),\n",
            "  `12` = col_double(),\n",
            "  `13` = col_double(),\n",
            "  `14` = col_double()\n",
            ")\n",
            "\n"
          ],
          "name": "stderr"
        },
        {
          "output_type": "stream",
          "text": [
            "[1] 5\n",
            "[1] 15\n",
            "[1] \"Run MST\"\n",
            "[1] \"%%%%%%%%%%%%%%%%%%%%%%%%%%%%%%%%%%%%%%%%%%%%%%%%%%%%%%%%%%%%%%%%\"\n",
            "[1] \"\"\n",
            "[1] \"\"\n",
            "[1] \"/content/drive/My Drive/mhar_paper_samples_2/1064_hypercube%1000%25.csv\"\n"
          ],
          "name": "stdout"
        },
        {
          "output_type": "stream",
          "text": [
            "R[write to console]: Parsed with column specification:\n",
            "cols(\n",
            "  .default = col_double()\n",
            ")\n",
            "\n",
            "R[write to console]: See spec(...) for full column specifications.\n",
            "\n"
          ],
          "name": "stderr"
        },
        {
          "output_type": "stream",
          "text": [
            "[1] 5\n",
            "[1] 25\n",
            "[1] \"Run MST\"\n",
            "[1] \"%%%%%%%%%%%%%%%%%%%%%%%%%%%%%%%%%%%%%%%%%%%%%%%%%%%%%%%%%%%%%%%%\"\n",
            "[1] \"\"\n",
            "[1] \"\"\n",
            "[1] \"/content/drive/My Drive/mhar_paper_samples_2/1064_hypercube%1000%3.csv\"\n"
          ],
          "name": "stdout"
        },
        {
          "output_type": "stream",
          "text": [
            "R[write to console]: Parsed with column specification:\n",
            "cols(\n",
            "  `0` = col_double(),\n",
            "  `1` = col_double(),\n",
            "  `2` = col_double()\n",
            ")\n",
            "\n"
          ],
          "name": "stderr"
        },
        {
          "output_type": "stream",
          "text": [
            "[1] 5\n",
            "[1] 3\n",
            "[1] \"Run MST\"\n",
            "[1] \"%%%%%%%%%%%%%%%%%%%%%%%%%%%%%%%%%%%%%%%%%%%%%%%%%%%%%%%%%%%%%%%%\"\n",
            "[1] \"\"\n",
            "[1] \"\"\n",
            "[1] \"/content/drive/My Drive/mhar_paper_samples_2/1064_hypercube%1000%50.csv\"\n"
          ],
          "name": "stdout"
        },
        {
          "output_type": "stream",
          "text": [
            "R[write to console]: Parsed with column specification:\n",
            "cols(\n",
            "  .default = col_double()\n",
            ")\n",
            "\n",
            "R[write to console]: See spec(...) for full column specifications.\n",
            "\n"
          ],
          "name": "stderr"
        },
        {
          "output_type": "stream",
          "text": [
            "[1] 5\n",
            "[1] 50\n",
            "[1] \"Run MST\"\n",
            "[1] \"%%%%%%%%%%%%%%%%%%%%%%%%%%%%%%%%%%%%%%%%%%%%%%%%%%%%%%%%%%%%%%%%\"\n",
            "[1] \"\"\n",
            "[1] \"\"\n",
            "[1] \"/content/drive/My Drive/mhar_paper_samples_2/1064_simplex%1000%15.csv\"\n"
          ],
          "name": "stdout"
        },
        {
          "output_type": "stream",
          "text": [
            "R[write to console]: Parsed with column specification:\n",
            "cols(\n",
            "  `0` = col_double(),\n",
            "  `1` = col_double(),\n",
            "  `2` = col_double(),\n",
            "  `3` = col_double(),\n",
            "  `4` = col_double(),\n",
            "  `5` = col_double(),\n",
            "  `6` = col_double(),\n",
            "  `7` = col_double(),\n",
            "  `8` = col_double(),\n",
            "  `9` = col_double(),\n",
            "  `10` = col_double(),\n",
            "  `11` = col_double(),\n",
            "  `12` = col_double(),\n",
            "  `13` = col_double(),\n",
            "  `14` = col_double()\n",
            ")\n",
            "\n"
          ],
          "name": "stderr"
        },
        {
          "output_type": "stream",
          "text": [
            "[1] 5\n",
            "[1] 15\n",
            "[1] \"Run MST\"\n",
            "[1] \"%%%%%%%%%%%%%%%%%%%%%%%%%%%%%%%%%%%%%%%%%%%%%%%%%%%%%%%%%%%%%%%%\"\n",
            "[1] \"\"\n",
            "[1] \"\"\n",
            "[1] \"/content/drive/My Drive/mhar_paper_samples_2/1064_simplex%1000%25.csv\"\n"
          ],
          "name": "stdout"
        },
        {
          "output_type": "stream",
          "text": [
            "R[write to console]: Parsed with column specification:\n",
            "cols(\n",
            "  .default = col_double()\n",
            ")\n",
            "\n",
            "R[write to console]: See spec(...) for full column specifications.\n",
            "\n"
          ],
          "name": "stderr"
        },
        {
          "output_type": "stream",
          "text": [
            "[1] 5\n",
            "[1] 25\n",
            "[1] \"Run MST\"\n",
            "[1] \"%%%%%%%%%%%%%%%%%%%%%%%%%%%%%%%%%%%%%%%%%%%%%%%%%%%%%%%%%%%%%%%%\"\n",
            "[1] \"\"\n",
            "[1] \"\"\n",
            "[1] \"/content/drive/My Drive/mhar_paper_samples_2/1064_simplex%1000%3.csv\"\n"
          ],
          "name": "stdout"
        },
        {
          "output_type": "stream",
          "text": [
            "R[write to console]: Parsed with column specification:\n",
            "cols(\n",
            "  `0` = col_double(),\n",
            "  `1` = col_double(),\n",
            "  `2` = col_double()\n",
            ")\n",
            "\n"
          ],
          "name": "stderr"
        },
        {
          "output_type": "stream",
          "text": [
            "[1] 5\n",
            "[1] 3\n",
            "[1] \"Run MST\"\n",
            "[1] \"%%%%%%%%%%%%%%%%%%%%%%%%%%%%%%%%%%%%%%%%%%%%%%%%%%%%%%%%%%%%%%%%\"\n",
            "[1] \"\"\n",
            "[1] \"\"\n",
            "[1] \"/content/drive/My Drive/mhar_paper_samples_2/1064_simplex%1000%50.csv\"\n"
          ],
          "name": "stdout"
        },
        {
          "output_type": "stream",
          "text": [
            "R[write to console]: Parsed with column specification:\n",
            "cols(\n",
            "  .default = col_double()\n",
            ")\n",
            "\n",
            "R[write to console]: See spec(...) for full column specifications.\n",
            "\n"
          ],
          "name": "stderr"
        },
        {
          "output_type": "stream",
          "text": [
            "[1] 5\n",
            "[1] 50\n",
            "[1] \"Run MST\"\n",
            "[1] \"%%%%%%%%%%%%%%%%%%%%%%%%%%%%%%%%%%%%%%%%%%%%%%%%%%%%%%%%%%%%%%%%\"\n",
            "[1] \"\"\n",
            "[1] \"\"\n",
            "[1] \"/content/drive/My Drive/mhar_paper_samples_2/1197_hypercube%1000%15.csv\"\n"
          ],
          "name": "stdout"
        },
        {
          "output_type": "stream",
          "text": [
            "R[write to console]: Parsed with column specification:\n",
            "cols(\n",
            "  `0` = col_double(),\n",
            "  `1` = col_double(),\n",
            "  `2` = col_double(),\n",
            "  `3` = col_double(),\n",
            "  `4` = col_double(),\n",
            "  `5` = col_double(),\n",
            "  `6` = col_double(),\n",
            "  `7` = col_double(),\n",
            "  `8` = col_double(),\n",
            "  `9` = col_double(),\n",
            "  `10` = col_double(),\n",
            "  `11` = col_double(),\n",
            "  `12` = col_double(),\n",
            "  `13` = col_double(),\n",
            "  `14` = col_double()\n",
            ")\n",
            "\n"
          ],
          "name": "stderr"
        },
        {
          "output_type": "stream",
          "text": [
            "[1] 5\n",
            "[1] 15\n",
            "[1] \"Run MST\"\n",
            "[1] \"%%%%%%%%%%%%%%%%%%%%%%%%%%%%%%%%%%%%%%%%%%%%%%%%%%%%%%%%%%%%%%%%\"\n",
            "[1] \"\"\n",
            "[1] \"\"\n",
            "[1] \"/content/drive/My Drive/mhar_paper_samples_2/1197_hypercube%1000%25.csv\"\n"
          ],
          "name": "stdout"
        },
        {
          "output_type": "stream",
          "text": [
            "R[write to console]: Parsed with column specification:\n",
            "cols(\n",
            "  .default = col_double()\n",
            ")\n",
            "\n",
            "R[write to console]: See spec(...) for full column specifications.\n",
            "\n"
          ],
          "name": "stderr"
        },
        {
          "output_type": "stream",
          "text": [
            "[1] 5\n",
            "[1] 25\n",
            "[1] \"Run MST\"\n",
            "[1] \"%%%%%%%%%%%%%%%%%%%%%%%%%%%%%%%%%%%%%%%%%%%%%%%%%%%%%%%%%%%%%%%%\"\n",
            "[1] \"\"\n",
            "[1] \"\"\n",
            "[1] \"/content/drive/My Drive/mhar_paper_samples_2/1197_hypercube%1000%3.csv\"\n"
          ],
          "name": "stdout"
        },
        {
          "output_type": "stream",
          "text": [
            "R[write to console]: Parsed with column specification:\n",
            "cols(\n",
            "  `0` = col_double(),\n",
            "  `1` = col_double(),\n",
            "  `2` = col_double()\n",
            ")\n",
            "\n"
          ],
          "name": "stderr"
        },
        {
          "output_type": "stream",
          "text": [
            "[1] 5\n",
            "[1] 3\n",
            "[1] \"Run MST\"\n",
            "[1] \"%%%%%%%%%%%%%%%%%%%%%%%%%%%%%%%%%%%%%%%%%%%%%%%%%%%%%%%%%%%%%%%%\"\n",
            "[1] \"\"\n",
            "[1] \"\"\n",
            "[1] \"/content/drive/My Drive/mhar_paper_samples_2/1197_hypercube%1000%50.csv\"\n"
          ],
          "name": "stdout"
        },
        {
          "output_type": "stream",
          "text": [
            "R[write to console]: Parsed with column specification:\n",
            "cols(\n",
            "  .default = col_double()\n",
            ")\n",
            "\n",
            "R[write to console]: See spec(...) for full column specifications.\n",
            "\n"
          ],
          "name": "stderr"
        },
        {
          "output_type": "stream",
          "text": [
            "[1] 5\n",
            "[1] 50\n",
            "[1] \"Run MST\"\n",
            "[1] \"%%%%%%%%%%%%%%%%%%%%%%%%%%%%%%%%%%%%%%%%%%%%%%%%%%%%%%%%%%%%%%%%\"\n",
            "[1] \"\"\n",
            "[1] \"\"\n",
            "[1] \"/content/drive/My Drive/mhar_paper_samples_2/1197_simplex%1000%15.csv\"\n"
          ],
          "name": "stdout"
        },
        {
          "output_type": "stream",
          "text": [
            "R[write to console]: Parsed with column specification:\n",
            "cols(\n",
            "  `0` = col_double(),\n",
            "  `1` = col_double(),\n",
            "  `2` = col_double(),\n",
            "  `3` = col_double(),\n",
            "  `4` = col_double(),\n",
            "  `5` = col_double(),\n",
            "  `6` = col_double(),\n",
            "  `7` = col_double(),\n",
            "  `8` = col_double(),\n",
            "  `9` = col_double(),\n",
            "  `10` = col_double(),\n",
            "  `11` = col_double(),\n",
            "  `12` = col_double(),\n",
            "  `13` = col_double(),\n",
            "  `14` = col_double()\n",
            ")\n",
            "\n"
          ],
          "name": "stderr"
        },
        {
          "output_type": "stream",
          "text": [
            "[1] 5\n",
            "[1] 15\n",
            "[1] \"Run MST\"\n",
            "[1] \"%%%%%%%%%%%%%%%%%%%%%%%%%%%%%%%%%%%%%%%%%%%%%%%%%%%%%%%%%%%%%%%%\"\n",
            "[1] \"\"\n",
            "[1] \"\"\n",
            "[1] \"/content/drive/My Drive/mhar_paper_samples_2/1197_simplex%1000%25.csv\"\n"
          ],
          "name": "stdout"
        },
        {
          "output_type": "stream",
          "text": [
            "R[write to console]: Parsed with column specification:\n",
            "cols(\n",
            "  .default = col_double()\n",
            ")\n",
            "\n",
            "R[write to console]: See spec(...) for full column specifications.\n",
            "\n"
          ],
          "name": "stderr"
        },
        {
          "output_type": "stream",
          "text": [
            "[1] 5\n",
            "[1] 25\n",
            "[1] \"Run MST\"\n",
            "[1] \"%%%%%%%%%%%%%%%%%%%%%%%%%%%%%%%%%%%%%%%%%%%%%%%%%%%%%%%%%%%%%%%%\"\n",
            "[1] \"\"\n",
            "[1] \"\"\n",
            "[1] \"/content/drive/My Drive/mhar_paper_samples_2/1197_simplex%1000%3.csv\"\n"
          ],
          "name": "stdout"
        },
        {
          "output_type": "stream",
          "text": [
            "R[write to console]: Parsed with column specification:\n",
            "cols(\n",
            "  `0` = col_double(),\n",
            "  `1` = col_double(),\n",
            "  `2` = col_double()\n",
            ")\n",
            "\n"
          ],
          "name": "stderr"
        },
        {
          "output_type": "stream",
          "text": [
            "[1] 5\n",
            "[1] 3\n",
            "[1] \"Run MST\"\n",
            "[1] \"%%%%%%%%%%%%%%%%%%%%%%%%%%%%%%%%%%%%%%%%%%%%%%%%%%%%%%%%%%%%%%%%\"\n",
            "[1] \"\"\n",
            "[1] \"\"\n",
            "[1] \"/content/drive/My Drive/mhar_paper_samples_2/1197_simplex%1000%50.csv\"\n"
          ],
          "name": "stdout"
        },
        {
          "output_type": "stream",
          "text": [
            "R[write to console]: Parsed with column specification:\n",
            "cols(\n",
            "  .default = col_double()\n",
            ")\n",
            "\n",
            "R[write to console]: See spec(...) for full column specifications.\n",
            "\n"
          ],
          "name": "stderr"
        },
        {
          "output_type": "stream",
          "text": [
            "[1] 5\n",
            "[1] 50\n",
            "[1] \"Run MST\"\n",
            "[1] \"%%%%%%%%%%%%%%%%%%%%%%%%%%%%%%%%%%%%%%%%%%%%%%%%%%%%%%%%%%%%%%%%\"\n",
            "[1] \"\"\n",
            "[1] \"\"\n",
            "[1] \"/content/drive/My Drive/mhar_paper_samples_2/133_hypercube%1000%15.csv\"\n"
          ],
          "name": "stdout"
        },
        {
          "output_type": "stream",
          "text": [
            "R[write to console]: Parsed with column specification:\n",
            "cols(\n",
            "  `0` = col_double(),\n",
            "  `1` = col_double(),\n",
            "  `2` = col_double(),\n",
            "  `3` = col_double(),\n",
            "  `4` = col_double(),\n",
            "  `5` = col_double(),\n",
            "  `6` = col_double(),\n",
            "  `7` = col_double(),\n",
            "  `8` = col_double(),\n",
            "  `9` = col_double(),\n",
            "  `10` = col_double(),\n",
            "  `11` = col_double(),\n",
            "  `12` = col_double(),\n",
            "  `13` = col_double(),\n",
            "  `14` = col_double()\n",
            ")\n",
            "\n"
          ],
          "name": "stderr"
        },
        {
          "output_type": "stream",
          "text": [
            "[1] 5\n",
            "[1] 15\n",
            "[1] \"Run MST\"\n",
            "[1] \"%%%%%%%%%%%%%%%%%%%%%%%%%%%%%%%%%%%%%%%%%%%%%%%%%%%%%%%%%%%%%%%%\"\n",
            "[1] \"\"\n",
            "[1] \"\"\n",
            "[1] \"/content/drive/My Drive/mhar_paper_samples_2/133_hypercube%1000%25.csv\"\n"
          ],
          "name": "stdout"
        },
        {
          "output_type": "stream",
          "text": [
            "R[write to console]: Parsed with column specification:\n",
            "cols(\n",
            "  .default = col_double()\n",
            ")\n",
            "\n",
            "R[write to console]: See spec(...) for full column specifications.\n",
            "\n"
          ],
          "name": "stderr"
        },
        {
          "output_type": "stream",
          "text": [
            "[1] 5\n",
            "[1] 25\n",
            "[1] \"Run MST\"\n",
            "[1] \"%%%%%%%%%%%%%%%%%%%%%%%%%%%%%%%%%%%%%%%%%%%%%%%%%%%%%%%%%%%%%%%%\"\n",
            "[1] \"\"\n",
            "[1] \"\"\n",
            "[1] \"/content/drive/My Drive/mhar_paper_samples_2/133_hypercube%1000%3.csv\"\n"
          ],
          "name": "stdout"
        },
        {
          "output_type": "stream",
          "text": [
            "R[write to console]: Parsed with column specification:\n",
            "cols(\n",
            "  `0` = col_double(),\n",
            "  `1` = col_double(),\n",
            "  `2` = col_double()\n",
            ")\n",
            "\n"
          ],
          "name": "stderr"
        },
        {
          "output_type": "stream",
          "text": [
            "[1] 5\n",
            "[1] 3\n",
            "[1] \"Run MST\"\n",
            "[1] \"%%%%%%%%%%%%%%%%%%%%%%%%%%%%%%%%%%%%%%%%%%%%%%%%%%%%%%%%%%%%%%%%\"\n",
            "[1] \"\"\n",
            "[1] \"\"\n",
            "[1] \"/content/drive/My Drive/mhar_paper_samples_2/133_hypercube%1000%50.csv\"\n"
          ],
          "name": "stdout"
        },
        {
          "output_type": "stream",
          "text": [
            "R[write to console]: Parsed with column specification:\n",
            "cols(\n",
            "  .default = col_double()\n",
            ")\n",
            "\n",
            "R[write to console]: See spec(...) for full column specifications.\n",
            "\n"
          ],
          "name": "stderr"
        },
        {
          "output_type": "stream",
          "text": [
            "[1] 5\n",
            "[1] 50\n",
            "[1] \"Run MST\"\n",
            "[1] \"%%%%%%%%%%%%%%%%%%%%%%%%%%%%%%%%%%%%%%%%%%%%%%%%%%%%%%%%%%%%%%%%\"\n",
            "[1] \"\"\n",
            "[1] \"\"\n",
            "[1] \"/content/drive/My Drive/mhar_paper_samples_2/133_simplex%1000%15.csv\"\n"
          ],
          "name": "stdout"
        },
        {
          "output_type": "stream",
          "text": [
            "R[write to console]: Parsed with column specification:\n",
            "cols(\n",
            "  `0` = col_double(),\n",
            "  `1` = col_double(),\n",
            "  `2` = col_double(),\n",
            "  `3` = col_double(),\n",
            "  `4` = col_double(),\n",
            "  `5` = col_double(),\n",
            "  `6` = col_double(),\n",
            "  `7` = col_double(),\n",
            "  `8` = col_double(),\n",
            "  `9` = col_double(),\n",
            "  `10` = col_double(),\n",
            "  `11` = col_double(),\n",
            "  `12` = col_double(),\n",
            "  `13` = col_double(),\n",
            "  `14` = col_double()\n",
            ")\n",
            "\n"
          ],
          "name": "stderr"
        },
        {
          "output_type": "stream",
          "text": [
            "[1] 5\n",
            "[1] 15\n",
            "[1] \"Run MST\"\n",
            "[1] \"%%%%%%%%%%%%%%%%%%%%%%%%%%%%%%%%%%%%%%%%%%%%%%%%%%%%%%%%%%%%%%%%\"\n",
            "[1] \"\"\n",
            "[1] \"\"\n",
            "[1] \"/content/drive/My Drive/mhar_paper_samples_2/133_simplex%1000%25.csv\"\n"
          ],
          "name": "stdout"
        },
        {
          "output_type": "stream",
          "text": [
            "R[write to console]: Parsed with column specification:\n",
            "cols(\n",
            "  .default = col_double()\n",
            ")\n",
            "\n",
            "R[write to console]: See spec(...) for full column specifications.\n",
            "\n"
          ],
          "name": "stderr"
        },
        {
          "output_type": "stream",
          "text": [
            "[1] 5\n",
            "[1] 25\n",
            "[1] \"Run MST\"\n",
            "[1] \"%%%%%%%%%%%%%%%%%%%%%%%%%%%%%%%%%%%%%%%%%%%%%%%%%%%%%%%%%%%%%%%%\"\n",
            "[1] \"\"\n",
            "[1] \"\"\n",
            "[1] \"/content/drive/My Drive/mhar_paper_samples_2/133_simplex%1000%3.csv\"\n"
          ],
          "name": "stdout"
        },
        {
          "output_type": "stream",
          "text": [
            "R[write to console]: Parsed with column specification:\n",
            "cols(\n",
            "  `0` = col_double(),\n",
            "  `1` = col_double(),\n",
            "  `2` = col_double()\n",
            ")\n",
            "\n"
          ],
          "name": "stderr"
        },
        {
          "output_type": "stream",
          "text": [
            "[1] 5\n",
            "[1] 3\n",
            "[1] \"Run MST\"\n",
            "[1] \"%%%%%%%%%%%%%%%%%%%%%%%%%%%%%%%%%%%%%%%%%%%%%%%%%%%%%%%%%%%%%%%%\"\n",
            "[1] \"\"\n",
            "[1] \"\"\n",
            "[1] \"/content/drive/My Drive/mhar_paper_samples_2/133_simplex%1000%50.csv\"\n"
          ],
          "name": "stdout"
        },
        {
          "output_type": "stream",
          "text": [
            "R[write to console]: Parsed with column specification:\n",
            "cols(\n",
            "  .default = col_double()\n",
            ")\n",
            "\n",
            "R[write to console]: See spec(...) for full column specifications.\n",
            "\n"
          ],
          "name": "stderr"
        },
        {
          "output_type": "stream",
          "text": [
            "[1] 5\n",
            "[1] 50\n",
            "[1] \"Run MST\"\n",
            "[1] \"%%%%%%%%%%%%%%%%%%%%%%%%%%%%%%%%%%%%%%%%%%%%%%%%%%%%%%%%%%%%%%%%\"\n",
            "[1] \"\"\n",
            "[1] \"\"\n",
            "[1] \"/content/drive/My Drive/mhar_paper_samples_2/1330_hypercube%1000%15.csv\"\n"
          ],
          "name": "stdout"
        },
        {
          "output_type": "stream",
          "text": [
            "R[write to console]: Parsed with column specification:\n",
            "cols(\n",
            "  `0` = col_double(),\n",
            "  `1` = col_double(),\n",
            "  `2` = col_double(),\n",
            "  `3` = col_double(),\n",
            "  `4` = col_double(),\n",
            "  `5` = col_double(),\n",
            "  `6` = col_double(),\n",
            "  `7` = col_double(),\n",
            "  `8` = col_double(),\n",
            "  `9` = col_double(),\n",
            "  `10` = col_double(),\n",
            "  `11` = col_double(),\n",
            "  `12` = col_double(),\n",
            "  `13` = col_double(),\n",
            "  `14` = col_double()\n",
            ")\n",
            "\n"
          ],
          "name": "stderr"
        },
        {
          "output_type": "stream",
          "text": [
            "[1] 5\n",
            "[1] 15\n",
            "[1] \"Run MST\"\n",
            "[1] \"%%%%%%%%%%%%%%%%%%%%%%%%%%%%%%%%%%%%%%%%%%%%%%%%%%%%%%%%%%%%%%%%\"\n",
            "[1] \"\"\n",
            "[1] \"\"\n",
            "[1] \"/content/drive/My Drive/mhar_paper_samples_2/1330_hypercube%1000%25.csv\"\n"
          ],
          "name": "stdout"
        },
        {
          "output_type": "stream",
          "text": [
            "R[write to console]: Parsed with column specification:\n",
            "cols(\n",
            "  .default = col_double()\n",
            ")\n",
            "\n",
            "R[write to console]: See spec(...) for full column specifications.\n",
            "\n"
          ],
          "name": "stderr"
        },
        {
          "output_type": "stream",
          "text": [
            "[1] 5\n",
            "[1] 25\n",
            "[1] \"Run MST\"\n",
            "[1] \"%%%%%%%%%%%%%%%%%%%%%%%%%%%%%%%%%%%%%%%%%%%%%%%%%%%%%%%%%%%%%%%%\"\n",
            "[1] \"\"\n",
            "[1] \"\"\n",
            "[1] \"/content/drive/My Drive/mhar_paper_samples_2/1330_hypercube%1000%3.csv\"\n"
          ],
          "name": "stdout"
        },
        {
          "output_type": "stream",
          "text": [
            "R[write to console]: Parsed with column specification:\n",
            "cols(\n",
            "  `0` = col_double(),\n",
            "  `1` = col_double(),\n",
            "  `2` = col_double()\n",
            ")\n",
            "\n"
          ],
          "name": "stderr"
        },
        {
          "output_type": "stream",
          "text": [
            "[1] 5\n",
            "[1] 3\n",
            "[1] \"Run MST\"\n",
            "[1] \"%%%%%%%%%%%%%%%%%%%%%%%%%%%%%%%%%%%%%%%%%%%%%%%%%%%%%%%%%%%%%%%%\"\n",
            "[1] \"\"\n",
            "[1] \"\"\n",
            "[1] \"/content/drive/My Drive/mhar_paper_samples_2/1330_hypercube%1000%50.csv\"\n"
          ],
          "name": "stdout"
        },
        {
          "output_type": "stream",
          "text": [
            "R[write to console]: Parsed with column specification:\n",
            "cols(\n",
            "  .default = col_double()\n",
            ")\n",
            "\n",
            "R[write to console]: See spec(...) for full column specifications.\n",
            "\n"
          ],
          "name": "stderr"
        },
        {
          "output_type": "stream",
          "text": [
            "[1] 5\n",
            "[1] 50\n",
            "[1] \"Run MST\"\n",
            "[1] \"%%%%%%%%%%%%%%%%%%%%%%%%%%%%%%%%%%%%%%%%%%%%%%%%%%%%%%%%%%%%%%%%\"\n",
            "[1] \"\"\n",
            "[1] \"\"\n",
            "[1] \"/content/drive/My Drive/mhar_paper_samples_2/1330_simplex%1000%15.csv\"\n"
          ],
          "name": "stdout"
        },
        {
          "output_type": "stream",
          "text": [
            "R[write to console]: Parsed with column specification:\n",
            "cols(\n",
            "  `0` = col_double(),\n",
            "  `1` = col_double(),\n",
            "  `2` = col_double(),\n",
            "  `3` = col_double(),\n",
            "  `4` = col_double(),\n",
            "  `5` = col_double(),\n",
            "  `6` = col_double(),\n",
            "  `7` = col_double(),\n",
            "  `8` = col_double(),\n",
            "  `9` = col_double(),\n",
            "  `10` = col_double(),\n",
            "  `11` = col_double(),\n",
            "  `12` = col_double(),\n",
            "  `13` = col_double(),\n",
            "  `14` = col_double()\n",
            ")\n",
            "\n"
          ],
          "name": "stderr"
        },
        {
          "output_type": "stream",
          "text": [
            "[1] 5\n",
            "[1] 15\n",
            "[1] \"Run MST\"\n",
            "[1] \"%%%%%%%%%%%%%%%%%%%%%%%%%%%%%%%%%%%%%%%%%%%%%%%%%%%%%%%%%%%%%%%%\"\n",
            "[1] \"\"\n",
            "[1] \"\"\n",
            "[1] \"/content/drive/My Drive/mhar_paper_samples_2/1330_simplex%1000%25.csv\"\n"
          ],
          "name": "stdout"
        },
        {
          "output_type": "stream",
          "text": [
            "R[write to console]: Parsed with column specification:\n",
            "cols(\n",
            "  .default = col_double()\n",
            ")\n",
            "\n",
            "R[write to console]: See spec(...) for full column specifications.\n",
            "\n"
          ],
          "name": "stderr"
        },
        {
          "output_type": "stream",
          "text": [
            "[1] 5\n",
            "[1] 25\n",
            "[1] \"Run MST\"\n",
            "[1] \"%%%%%%%%%%%%%%%%%%%%%%%%%%%%%%%%%%%%%%%%%%%%%%%%%%%%%%%%%%%%%%%%\"\n",
            "[1] \"\"\n",
            "[1] \"\"\n",
            "[1] \"/content/drive/My Drive/mhar_paper_samples_2/1330_simplex%1000%3.csv\"\n"
          ],
          "name": "stdout"
        },
        {
          "output_type": "stream",
          "text": [
            "R[write to console]: Parsed with column specification:\n",
            "cols(\n",
            "  `0` = col_double(),\n",
            "  `1` = col_double(),\n",
            "  `2` = col_double()\n",
            ")\n",
            "\n"
          ],
          "name": "stderr"
        },
        {
          "output_type": "stream",
          "text": [
            "[1] 5\n",
            "[1] 3\n",
            "[1] \"Run MST\"\n",
            "[1] \"%%%%%%%%%%%%%%%%%%%%%%%%%%%%%%%%%%%%%%%%%%%%%%%%%%%%%%%%%%%%%%%%\"\n",
            "[1] \"\"\n",
            "[1] \"\"\n",
            "[1] \"/content/drive/My Drive/mhar_paper_samples_2/1330_simplex%1000%50.csv\"\n"
          ],
          "name": "stdout"
        },
        {
          "output_type": "stream",
          "text": [
            "R[write to console]: Parsed with column specification:\n",
            "cols(\n",
            "  .default = col_double()\n",
            ")\n",
            "\n",
            "R[write to console]: See spec(...) for full column specifications.\n",
            "\n"
          ],
          "name": "stderr"
        },
        {
          "output_type": "stream",
          "text": [
            "[1] 5\n",
            "[1] 50\n",
            "[1] \"Run MST\"\n",
            "[1] \"%%%%%%%%%%%%%%%%%%%%%%%%%%%%%%%%%%%%%%%%%%%%%%%%%%%%%%%%%%%%%%%%\"\n",
            "[1] \"\"\n",
            "[1] \"\"\n",
            "[1] \"/content/drive/My Drive/mhar_paper_samples_2/266_hypercube%1000%15.csv\"\n"
          ],
          "name": "stdout"
        },
        {
          "output_type": "stream",
          "text": [
            "R[write to console]: Parsed with column specification:\n",
            "cols(\n",
            "  `0` = col_double(),\n",
            "  `1` = col_double(),\n",
            "  `2` = col_double(),\n",
            "  `3` = col_double(),\n",
            "  `4` = col_double(),\n",
            "  `5` = col_double(),\n",
            "  `6` = col_double(),\n",
            "  `7` = col_double(),\n",
            "  `8` = col_double(),\n",
            "  `9` = col_double(),\n",
            "  `10` = col_double(),\n",
            "  `11` = col_double(),\n",
            "  `12` = col_double(),\n",
            "  `13` = col_double(),\n",
            "  `14` = col_double()\n",
            ")\n",
            "\n"
          ],
          "name": "stderr"
        },
        {
          "output_type": "stream",
          "text": [
            "[1] 5\n",
            "[1] 15\n",
            "[1] \"Run MST\"\n",
            "[1] \"%%%%%%%%%%%%%%%%%%%%%%%%%%%%%%%%%%%%%%%%%%%%%%%%%%%%%%%%%%%%%%%%\"\n",
            "[1] \"\"\n",
            "[1] \"\"\n",
            "[1] \"/content/drive/My Drive/mhar_paper_samples_2/266_hypercube%1000%25.csv\"\n"
          ],
          "name": "stdout"
        },
        {
          "output_type": "stream",
          "text": [
            "R[write to console]: Parsed with column specification:\n",
            "cols(\n",
            "  .default = col_double()\n",
            ")\n",
            "\n",
            "R[write to console]: See spec(...) for full column specifications.\n",
            "\n"
          ],
          "name": "stderr"
        },
        {
          "output_type": "stream",
          "text": [
            "[1] 5\n",
            "[1] 25\n",
            "[1] \"Run MST\"\n",
            "[1] \"%%%%%%%%%%%%%%%%%%%%%%%%%%%%%%%%%%%%%%%%%%%%%%%%%%%%%%%%%%%%%%%%\"\n",
            "[1] \"\"\n",
            "[1] \"\"\n",
            "[1] \"/content/drive/My Drive/mhar_paper_samples_2/266_hypercube%1000%3.csv\"\n"
          ],
          "name": "stdout"
        },
        {
          "output_type": "stream",
          "text": [
            "R[write to console]: Parsed with column specification:\n",
            "cols(\n",
            "  `0` = col_double(),\n",
            "  `1` = col_double(),\n",
            "  `2` = col_double()\n",
            ")\n",
            "\n"
          ],
          "name": "stderr"
        },
        {
          "output_type": "stream",
          "text": [
            "[1] 5\n",
            "[1] 3\n",
            "[1] \"Run MST\"\n",
            "[1] \"%%%%%%%%%%%%%%%%%%%%%%%%%%%%%%%%%%%%%%%%%%%%%%%%%%%%%%%%%%%%%%%%\"\n",
            "[1] \"\"\n",
            "[1] \"\"\n",
            "[1] \"/content/drive/My Drive/mhar_paper_samples_2/266_hypercube%1000%50.csv\"\n"
          ],
          "name": "stdout"
        },
        {
          "output_type": "stream",
          "text": [
            "R[write to console]: Parsed with column specification:\n",
            "cols(\n",
            "  .default = col_double()\n",
            ")\n",
            "\n",
            "R[write to console]: See spec(...) for full column specifications.\n",
            "\n"
          ],
          "name": "stderr"
        },
        {
          "output_type": "stream",
          "text": [
            "[1] 5\n",
            "[1] 50\n",
            "[1] \"Run MST\"\n",
            "[1] \"%%%%%%%%%%%%%%%%%%%%%%%%%%%%%%%%%%%%%%%%%%%%%%%%%%%%%%%%%%%%%%%%\"\n",
            "[1] \"\"\n",
            "[1] \"\"\n",
            "[1] \"/content/drive/My Drive/mhar_paper_samples_2/266_simplex%1000%15.csv\"\n"
          ],
          "name": "stdout"
        },
        {
          "output_type": "stream",
          "text": [
            "R[write to console]: Parsed with column specification:\n",
            "cols(\n",
            "  `0` = col_double(),\n",
            "  `1` = col_double(),\n",
            "  `2` = col_double(),\n",
            "  `3` = col_double(),\n",
            "  `4` = col_double(),\n",
            "  `5` = col_double(),\n",
            "  `6` = col_double(),\n",
            "  `7` = col_double(),\n",
            "  `8` = col_double(),\n",
            "  `9` = col_double(),\n",
            "  `10` = col_double(),\n",
            "  `11` = col_double(),\n",
            "  `12` = col_double(),\n",
            "  `13` = col_double(),\n",
            "  `14` = col_double()\n",
            ")\n",
            "\n"
          ],
          "name": "stderr"
        },
        {
          "output_type": "stream",
          "text": [
            "[1] 5\n",
            "[1] 15\n",
            "[1] \"Run MST\"\n",
            "[1] \"%%%%%%%%%%%%%%%%%%%%%%%%%%%%%%%%%%%%%%%%%%%%%%%%%%%%%%%%%%%%%%%%\"\n",
            "[1] \"\"\n",
            "[1] \"\"\n",
            "[1] \"/content/drive/My Drive/mhar_paper_samples_2/266_simplex%1000%25.csv\"\n"
          ],
          "name": "stdout"
        },
        {
          "output_type": "stream",
          "text": [
            "R[write to console]: Parsed with column specification:\n",
            "cols(\n",
            "  .default = col_double()\n",
            ")\n",
            "\n",
            "R[write to console]: See spec(...) for full column specifications.\n",
            "\n"
          ],
          "name": "stderr"
        },
        {
          "output_type": "stream",
          "text": [
            "[1] 5\n",
            "[1] 25\n",
            "[1] \"Run MST\"\n",
            "[1] \"%%%%%%%%%%%%%%%%%%%%%%%%%%%%%%%%%%%%%%%%%%%%%%%%%%%%%%%%%%%%%%%%\"\n",
            "[1] \"\"\n",
            "[1] \"\"\n",
            "[1] \"/content/drive/My Drive/mhar_paper_samples_2/266_simplex%1000%3.csv\"\n"
          ],
          "name": "stdout"
        },
        {
          "output_type": "stream",
          "text": [
            "R[write to console]: Parsed with column specification:\n",
            "cols(\n",
            "  `0` = col_double(),\n",
            "  `1` = col_double(),\n",
            "  `2` = col_double()\n",
            ")\n",
            "\n"
          ],
          "name": "stderr"
        },
        {
          "output_type": "stream",
          "text": [
            "[1] 5\n",
            "[1] 3\n",
            "[1] \"Run MST\"\n",
            "[1] \"%%%%%%%%%%%%%%%%%%%%%%%%%%%%%%%%%%%%%%%%%%%%%%%%%%%%%%%%%%%%%%%%\"\n",
            "[1] \"\"\n",
            "[1] \"\"\n",
            "[1] \"/content/drive/My Drive/mhar_paper_samples_2/266_simplex%1000%50.csv\"\n"
          ],
          "name": "stdout"
        },
        {
          "output_type": "stream",
          "text": [
            "R[write to console]: Parsed with column specification:\n",
            "cols(\n",
            "  .default = col_double()\n",
            ")\n",
            "\n",
            "R[write to console]: See spec(...) for full column specifications.\n",
            "\n"
          ],
          "name": "stderr"
        },
        {
          "output_type": "stream",
          "text": [
            "[1] 5\n",
            "[1] 50\n",
            "[1] \"Run MST\"\n",
            "[1] \"%%%%%%%%%%%%%%%%%%%%%%%%%%%%%%%%%%%%%%%%%%%%%%%%%%%%%%%%%%%%%%%%\"\n",
            "[1] \"\"\n",
            "[1] \"\"\n",
            "[1] \"/content/drive/My Drive/mhar_paper_samples_2/399_hypercube%1000%15.csv\"\n"
          ],
          "name": "stdout"
        },
        {
          "output_type": "stream",
          "text": [
            "R[write to console]: Parsed with column specification:\n",
            "cols(\n",
            "  `0` = col_double(),\n",
            "  `1` = col_double(),\n",
            "  `2` = col_double(),\n",
            "  `3` = col_double(),\n",
            "  `4` = col_double(),\n",
            "  `5` = col_double(),\n",
            "  `6` = col_double(),\n",
            "  `7` = col_double(),\n",
            "  `8` = col_double(),\n",
            "  `9` = col_double(),\n",
            "  `10` = col_double(),\n",
            "  `11` = col_double(),\n",
            "  `12` = col_double(),\n",
            "  `13` = col_double(),\n",
            "  `14` = col_double()\n",
            ")\n",
            "\n"
          ],
          "name": "stderr"
        },
        {
          "output_type": "stream",
          "text": [
            "[1] 5\n",
            "[1] 15\n",
            "[1] \"Run MST\"\n",
            "[1] \"%%%%%%%%%%%%%%%%%%%%%%%%%%%%%%%%%%%%%%%%%%%%%%%%%%%%%%%%%%%%%%%%\"\n",
            "[1] \"\"\n",
            "[1] \"\"\n",
            "[1] \"/content/drive/My Drive/mhar_paper_samples_2/399_hypercube%1000%25.csv\"\n"
          ],
          "name": "stdout"
        },
        {
          "output_type": "stream",
          "text": [
            "R[write to console]: Parsed with column specification:\n",
            "cols(\n",
            "  .default = col_double()\n",
            ")\n",
            "\n",
            "R[write to console]: See spec(...) for full column specifications.\n",
            "\n"
          ],
          "name": "stderr"
        },
        {
          "output_type": "stream",
          "text": [
            "[1] 5\n",
            "[1] 25\n",
            "[1] \"Run MST\"\n",
            "[1] \"%%%%%%%%%%%%%%%%%%%%%%%%%%%%%%%%%%%%%%%%%%%%%%%%%%%%%%%%%%%%%%%%\"\n",
            "[1] \"\"\n",
            "[1] \"\"\n",
            "[1] \"/content/drive/My Drive/mhar_paper_samples_2/399_hypercube%1000%3.csv\"\n"
          ],
          "name": "stdout"
        },
        {
          "output_type": "stream",
          "text": [
            "R[write to console]: Parsed with column specification:\n",
            "cols(\n",
            "  `0` = col_double(),\n",
            "  `1` = col_double(),\n",
            "  `2` = col_double()\n",
            ")\n",
            "\n"
          ],
          "name": "stderr"
        },
        {
          "output_type": "stream",
          "text": [
            "[1] 5\n",
            "[1] 3\n",
            "[1] \"Run MST\"\n",
            "[1] \"%%%%%%%%%%%%%%%%%%%%%%%%%%%%%%%%%%%%%%%%%%%%%%%%%%%%%%%%%%%%%%%%\"\n",
            "[1] \"\"\n",
            "[1] \"\"\n",
            "[1] \"/content/drive/My Drive/mhar_paper_samples_2/399_hypercube%1000%50.csv\"\n"
          ],
          "name": "stdout"
        },
        {
          "output_type": "stream",
          "text": [
            "R[write to console]: Parsed with column specification:\n",
            "cols(\n",
            "  .default = col_double()\n",
            ")\n",
            "\n",
            "R[write to console]: See spec(...) for full column specifications.\n",
            "\n"
          ],
          "name": "stderr"
        },
        {
          "output_type": "stream",
          "text": [
            "[1] 5\n",
            "[1] 50\n",
            "[1] \"Run MST\"\n",
            "[1] \"%%%%%%%%%%%%%%%%%%%%%%%%%%%%%%%%%%%%%%%%%%%%%%%%%%%%%%%%%%%%%%%%\"\n",
            "[1] \"\"\n",
            "[1] \"\"\n",
            "[1] \"/content/drive/My Drive/mhar_paper_samples_2/399_simplex%1000%15.csv\"\n"
          ],
          "name": "stdout"
        },
        {
          "output_type": "stream",
          "text": [
            "R[write to console]: Parsed with column specification:\n",
            "cols(\n",
            "  `0` = col_double(),\n",
            "  `1` = col_double(),\n",
            "  `2` = col_double(),\n",
            "  `3` = col_double(),\n",
            "  `4` = col_double(),\n",
            "  `5` = col_double(),\n",
            "  `6` = col_double(),\n",
            "  `7` = col_double(),\n",
            "  `8` = col_double(),\n",
            "  `9` = col_double(),\n",
            "  `10` = col_double(),\n",
            "  `11` = col_double(),\n",
            "  `12` = col_double(),\n",
            "  `13` = col_double(),\n",
            "  `14` = col_double()\n",
            ")\n",
            "\n"
          ],
          "name": "stderr"
        },
        {
          "output_type": "stream",
          "text": [
            "[1] 5\n",
            "[1] 15\n",
            "[1] \"Run MST\"\n",
            "[1] \"%%%%%%%%%%%%%%%%%%%%%%%%%%%%%%%%%%%%%%%%%%%%%%%%%%%%%%%%%%%%%%%%\"\n",
            "[1] \"\"\n",
            "[1] \"\"\n",
            "[1] \"/content/drive/My Drive/mhar_paper_samples_2/399_simplex%1000%25.csv\"\n"
          ],
          "name": "stdout"
        },
        {
          "output_type": "stream",
          "text": [
            "R[write to console]: Parsed with column specification:\n",
            "cols(\n",
            "  .default = col_double()\n",
            ")\n",
            "\n",
            "R[write to console]: See spec(...) for full column specifications.\n",
            "\n"
          ],
          "name": "stderr"
        },
        {
          "output_type": "stream",
          "text": [
            "[1] 5\n",
            "[1] 25\n",
            "[1] \"Run MST\"\n",
            "[1] \"%%%%%%%%%%%%%%%%%%%%%%%%%%%%%%%%%%%%%%%%%%%%%%%%%%%%%%%%%%%%%%%%\"\n",
            "[1] \"\"\n",
            "[1] \"\"\n",
            "[1] \"/content/drive/My Drive/mhar_paper_samples_2/399_simplex%1000%3.csv\"\n"
          ],
          "name": "stdout"
        },
        {
          "output_type": "stream",
          "text": [
            "R[write to console]: Parsed with column specification:\n",
            "cols(\n",
            "  `0` = col_double(),\n",
            "  `1` = col_double(),\n",
            "  `2` = col_double()\n",
            ")\n",
            "\n"
          ],
          "name": "stderr"
        },
        {
          "output_type": "stream",
          "text": [
            "[1] 5\n",
            "[1] 3\n",
            "[1] \"Run MST\"\n",
            "[1] \"%%%%%%%%%%%%%%%%%%%%%%%%%%%%%%%%%%%%%%%%%%%%%%%%%%%%%%%%%%%%%%%%\"\n",
            "[1] \"\"\n",
            "[1] \"\"\n",
            "[1] \"/content/drive/My Drive/mhar_paper_samples_2/399_simplex%1000%50.csv\"\n"
          ],
          "name": "stdout"
        },
        {
          "output_type": "stream",
          "text": [
            "R[write to console]: Parsed with column specification:\n",
            "cols(\n",
            "  .default = col_double()\n",
            ")\n",
            "\n",
            "R[write to console]: See spec(...) for full column specifications.\n",
            "\n"
          ],
          "name": "stderr"
        },
        {
          "output_type": "stream",
          "text": [
            "[1] 5\n",
            "[1] 50\n",
            "[1] \"Run MST\"\n",
            "[1] \"%%%%%%%%%%%%%%%%%%%%%%%%%%%%%%%%%%%%%%%%%%%%%%%%%%%%%%%%%%%%%%%%\"\n",
            "[1] \"\"\n",
            "[1] \"\"\n",
            "[1] \"/content/drive/My Drive/mhar_paper_samples_2/532_hypercube%1000%15.csv\"\n"
          ],
          "name": "stdout"
        },
        {
          "output_type": "stream",
          "text": [
            "R[write to console]: Parsed with column specification:\n",
            "cols(\n",
            "  `0` = col_double(),\n",
            "  `1` = col_double(),\n",
            "  `2` = col_double(),\n",
            "  `3` = col_double(),\n",
            "  `4` = col_double(),\n",
            "  `5` = col_double(),\n",
            "  `6` = col_double(),\n",
            "  `7` = col_double(),\n",
            "  `8` = col_double(),\n",
            "  `9` = col_double(),\n",
            "  `10` = col_double(),\n",
            "  `11` = col_double(),\n",
            "  `12` = col_double(),\n",
            "  `13` = col_double(),\n",
            "  `14` = col_double()\n",
            ")\n",
            "\n"
          ],
          "name": "stderr"
        },
        {
          "output_type": "stream",
          "text": [
            "[1] 5\n",
            "[1] 15\n",
            "[1] \"Run MST\"\n",
            "[1] \"%%%%%%%%%%%%%%%%%%%%%%%%%%%%%%%%%%%%%%%%%%%%%%%%%%%%%%%%%%%%%%%%\"\n",
            "[1] \"\"\n",
            "[1] \"\"\n",
            "[1] \"/content/drive/My Drive/mhar_paper_samples_2/532_hypercube%1000%25.csv\"\n"
          ],
          "name": "stdout"
        },
        {
          "output_type": "stream",
          "text": [
            "R[write to console]: Parsed with column specification:\n",
            "cols(\n",
            "  .default = col_double()\n",
            ")\n",
            "\n",
            "R[write to console]: See spec(...) for full column specifications.\n",
            "\n"
          ],
          "name": "stderr"
        },
        {
          "output_type": "stream",
          "text": [
            "[1] 5\n",
            "[1] 25\n",
            "[1] \"Run MST\"\n",
            "[1] \"%%%%%%%%%%%%%%%%%%%%%%%%%%%%%%%%%%%%%%%%%%%%%%%%%%%%%%%%%%%%%%%%\"\n",
            "[1] \"\"\n",
            "[1] \"\"\n",
            "[1] \"/content/drive/My Drive/mhar_paper_samples_2/532_hypercube%1000%3.csv\"\n"
          ],
          "name": "stdout"
        },
        {
          "output_type": "stream",
          "text": [
            "R[write to console]: Parsed with column specification:\n",
            "cols(\n",
            "  `0` = col_double(),\n",
            "  `1` = col_double(),\n",
            "  `2` = col_double()\n",
            ")\n",
            "\n"
          ],
          "name": "stderr"
        },
        {
          "output_type": "stream",
          "text": [
            "[1] 5\n",
            "[1] 3\n",
            "[1] \"Run MST\"\n",
            "[1] \"%%%%%%%%%%%%%%%%%%%%%%%%%%%%%%%%%%%%%%%%%%%%%%%%%%%%%%%%%%%%%%%%\"\n",
            "[1] \"\"\n",
            "[1] \"\"\n",
            "[1] \"/content/drive/My Drive/mhar_paper_samples_2/532_hypercube%1000%50.csv\"\n"
          ],
          "name": "stdout"
        },
        {
          "output_type": "stream",
          "text": [
            "R[write to console]: Parsed with column specification:\n",
            "cols(\n",
            "  .default = col_double()\n",
            ")\n",
            "\n",
            "R[write to console]: See spec(...) for full column specifications.\n",
            "\n"
          ],
          "name": "stderr"
        },
        {
          "output_type": "stream",
          "text": [
            "[1] 5\n",
            "[1] 50\n",
            "[1] \"Run MST\"\n",
            "[1] \"%%%%%%%%%%%%%%%%%%%%%%%%%%%%%%%%%%%%%%%%%%%%%%%%%%%%%%%%%%%%%%%%\"\n",
            "[1] \"\"\n",
            "[1] \"\"\n",
            "[1] \"/content/drive/My Drive/mhar_paper_samples_2/532_simplex%1000%15.csv\"\n"
          ],
          "name": "stdout"
        },
        {
          "output_type": "stream",
          "text": [
            "R[write to console]: Parsed with column specification:\n",
            "cols(\n",
            "  `0` = col_double(),\n",
            "  `1` = col_double(),\n",
            "  `2` = col_double(),\n",
            "  `3` = col_double(),\n",
            "  `4` = col_double(),\n",
            "  `5` = col_double(),\n",
            "  `6` = col_double(),\n",
            "  `7` = col_double(),\n",
            "  `8` = col_double(),\n",
            "  `9` = col_double(),\n",
            "  `10` = col_double(),\n",
            "  `11` = col_double(),\n",
            "  `12` = col_double(),\n",
            "  `13` = col_double(),\n",
            "  `14` = col_double()\n",
            ")\n",
            "\n"
          ],
          "name": "stderr"
        },
        {
          "output_type": "stream",
          "text": [
            "[1] 5\n",
            "[1] 15\n",
            "[1] \"Run MST\"\n",
            "[1] \"%%%%%%%%%%%%%%%%%%%%%%%%%%%%%%%%%%%%%%%%%%%%%%%%%%%%%%%%%%%%%%%%\"\n",
            "[1] \"\"\n",
            "[1] \"\"\n",
            "[1] \"/content/drive/My Drive/mhar_paper_samples_2/532_simplex%1000%25.csv\"\n"
          ],
          "name": "stdout"
        },
        {
          "output_type": "stream",
          "text": [
            "R[write to console]: Parsed with column specification:\n",
            "cols(\n",
            "  .default = col_double()\n",
            ")\n",
            "\n",
            "R[write to console]: See spec(...) for full column specifications.\n",
            "\n"
          ],
          "name": "stderr"
        },
        {
          "output_type": "stream",
          "text": [
            "[1] 5\n",
            "[1] 25\n",
            "[1] \"Run MST\"\n",
            "[1] \"%%%%%%%%%%%%%%%%%%%%%%%%%%%%%%%%%%%%%%%%%%%%%%%%%%%%%%%%%%%%%%%%\"\n",
            "[1] \"\"\n",
            "[1] \"\"\n",
            "[1] \"/content/drive/My Drive/mhar_paper_samples_2/532_simplex%1000%3.csv\"\n"
          ],
          "name": "stdout"
        },
        {
          "output_type": "stream",
          "text": [
            "R[write to console]: Parsed with column specification:\n",
            "cols(\n",
            "  `0` = col_double(),\n",
            "  `1` = col_double(),\n",
            "  `2` = col_double()\n",
            ")\n",
            "\n"
          ],
          "name": "stderr"
        },
        {
          "output_type": "stream",
          "text": [
            "[1] 5\n",
            "[1] 3\n",
            "[1] \"Run MST\"\n",
            "[1] \"%%%%%%%%%%%%%%%%%%%%%%%%%%%%%%%%%%%%%%%%%%%%%%%%%%%%%%%%%%%%%%%%\"\n",
            "[1] \"\"\n",
            "[1] \"\"\n",
            "[1] \"/content/drive/My Drive/mhar_paper_samples_2/532_simplex%1000%50.csv\"\n"
          ],
          "name": "stdout"
        },
        {
          "output_type": "stream",
          "text": [
            "R[write to console]: Parsed with column specification:\n",
            "cols(\n",
            "  .default = col_double()\n",
            ")\n",
            "\n",
            "R[write to console]: See spec(...) for full column specifications.\n",
            "\n"
          ],
          "name": "stderr"
        },
        {
          "output_type": "stream",
          "text": [
            "[1] 5\n",
            "[1] 50\n",
            "[1] \"Run MST\"\n",
            "[1] \"%%%%%%%%%%%%%%%%%%%%%%%%%%%%%%%%%%%%%%%%%%%%%%%%%%%%%%%%%%%%%%%%\"\n",
            "[1] \"\"\n",
            "[1] \"\"\n",
            "[1] \"/content/drive/My Drive/mhar_paper_samples_2/665_hypercube%1000%15.csv\"\n"
          ],
          "name": "stdout"
        },
        {
          "output_type": "stream",
          "text": [
            "R[write to console]: Parsed with column specification:\n",
            "cols(\n",
            "  `0` = col_double(),\n",
            "  `1` = col_double(),\n",
            "  `2` = col_double(),\n",
            "  `3` = col_double(),\n",
            "  `4` = col_double(),\n",
            "  `5` = col_double(),\n",
            "  `6` = col_double(),\n",
            "  `7` = col_double(),\n",
            "  `8` = col_double(),\n",
            "  `9` = col_double(),\n",
            "  `10` = col_double(),\n",
            "  `11` = col_double(),\n",
            "  `12` = col_double(),\n",
            "  `13` = col_double(),\n",
            "  `14` = col_double()\n",
            ")\n",
            "\n"
          ],
          "name": "stderr"
        },
        {
          "output_type": "stream",
          "text": [
            "[1] 5\n",
            "[1] 15\n",
            "[1] \"Run MST\"\n",
            "[1] \"%%%%%%%%%%%%%%%%%%%%%%%%%%%%%%%%%%%%%%%%%%%%%%%%%%%%%%%%%%%%%%%%\"\n",
            "[1] \"\"\n",
            "[1] \"\"\n",
            "[1] \"/content/drive/My Drive/mhar_paper_samples_2/665_hypercube%1000%25.csv\"\n"
          ],
          "name": "stdout"
        },
        {
          "output_type": "stream",
          "text": [
            "R[write to console]: Parsed with column specification:\n",
            "cols(\n",
            "  .default = col_double()\n",
            ")\n",
            "\n",
            "R[write to console]: See spec(...) for full column specifications.\n",
            "\n"
          ],
          "name": "stderr"
        },
        {
          "output_type": "stream",
          "text": [
            "[1] 5\n",
            "[1] 25\n",
            "[1] \"Run MST\"\n",
            "[1] \"%%%%%%%%%%%%%%%%%%%%%%%%%%%%%%%%%%%%%%%%%%%%%%%%%%%%%%%%%%%%%%%%\"\n",
            "[1] \"\"\n",
            "[1] \"\"\n",
            "[1] \"/content/drive/My Drive/mhar_paper_samples_2/665_hypercube%1000%3.csv\"\n"
          ],
          "name": "stdout"
        },
        {
          "output_type": "stream",
          "text": [
            "R[write to console]: Parsed with column specification:\n",
            "cols(\n",
            "  `0` = col_double(),\n",
            "  `1` = col_double(),\n",
            "  `2` = col_double()\n",
            ")\n",
            "\n"
          ],
          "name": "stderr"
        },
        {
          "output_type": "stream",
          "text": [
            "[1] 5\n",
            "[1] 3\n",
            "[1] \"Run MST\"\n",
            "[1] \"%%%%%%%%%%%%%%%%%%%%%%%%%%%%%%%%%%%%%%%%%%%%%%%%%%%%%%%%%%%%%%%%\"\n",
            "[1] \"\"\n",
            "[1] \"\"\n",
            "[1] \"/content/drive/My Drive/mhar_paper_samples_2/665_hypercube%1000%50.csv\"\n"
          ],
          "name": "stdout"
        },
        {
          "output_type": "stream",
          "text": [
            "R[write to console]: Parsed with column specification:\n",
            "cols(\n",
            "  .default = col_double()\n",
            ")\n",
            "\n",
            "R[write to console]: See spec(...) for full column specifications.\n",
            "\n"
          ],
          "name": "stderr"
        },
        {
          "output_type": "stream",
          "text": [
            "[1] 5\n",
            "[1] 50\n",
            "[1] \"Run MST\"\n",
            "[1] \"%%%%%%%%%%%%%%%%%%%%%%%%%%%%%%%%%%%%%%%%%%%%%%%%%%%%%%%%%%%%%%%%\"\n",
            "[1] \"\"\n",
            "[1] \"\"\n",
            "[1] \"/content/drive/My Drive/mhar_paper_samples_2/665_simplex%1000%15.csv\"\n"
          ],
          "name": "stdout"
        },
        {
          "output_type": "stream",
          "text": [
            "R[write to console]: Parsed with column specification:\n",
            "cols(\n",
            "  `0` = col_double(),\n",
            "  `1` = col_double(),\n",
            "  `2` = col_double(),\n",
            "  `3` = col_double(),\n",
            "  `4` = col_double(),\n",
            "  `5` = col_double(),\n",
            "  `6` = col_double(),\n",
            "  `7` = col_double(),\n",
            "  `8` = col_double(),\n",
            "  `9` = col_double(),\n",
            "  `10` = col_double(),\n",
            "  `11` = col_double(),\n",
            "  `12` = col_double(),\n",
            "  `13` = col_double(),\n",
            "  `14` = col_double()\n",
            ")\n",
            "\n"
          ],
          "name": "stderr"
        },
        {
          "output_type": "stream",
          "text": [
            "[1] 5\n",
            "[1] 15\n",
            "[1] \"Run MST\"\n",
            "[1] \"%%%%%%%%%%%%%%%%%%%%%%%%%%%%%%%%%%%%%%%%%%%%%%%%%%%%%%%%%%%%%%%%\"\n",
            "[1] \"\"\n",
            "[1] \"\"\n",
            "[1] \"/content/drive/My Drive/mhar_paper_samples_2/665_simplex%1000%25.csv\"\n"
          ],
          "name": "stdout"
        },
        {
          "output_type": "stream",
          "text": [
            "R[write to console]: Parsed with column specification:\n",
            "cols(\n",
            "  .default = col_double()\n",
            ")\n",
            "\n",
            "R[write to console]: See spec(...) for full column specifications.\n",
            "\n"
          ],
          "name": "stderr"
        },
        {
          "output_type": "stream",
          "text": [
            "[1] 5\n",
            "[1] 25\n",
            "[1] \"Run MST\"\n",
            "[1] \"%%%%%%%%%%%%%%%%%%%%%%%%%%%%%%%%%%%%%%%%%%%%%%%%%%%%%%%%%%%%%%%%\"\n",
            "[1] \"\"\n",
            "[1] \"\"\n",
            "[1] \"/content/drive/My Drive/mhar_paper_samples_2/665_simplex%1000%3.csv\"\n"
          ],
          "name": "stdout"
        },
        {
          "output_type": "stream",
          "text": [
            "R[write to console]: Parsed with column specification:\n",
            "cols(\n",
            "  `0` = col_double(),\n",
            "  `1` = col_double(),\n",
            "  `2` = col_double()\n",
            ")\n",
            "\n"
          ],
          "name": "stderr"
        },
        {
          "output_type": "stream",
          "text": [
            "[1] 5\n",
            "[1] 3\n",
            "[1] \"Run MST\"\n",
            "[1] \"%%%%%%%%%%%%%%%%%%%%%%%%%%%%%%%%%%%%%%%%%%%%%%%%%%%%%%%%%%%%%%%%\"\n",
            "[1] \"\"\n",
            "[1] \"\"\n",
            "[1] \"/content/drive/My Drive/mhar_paper_samples_2/665_simplex%1000%50.csv\"\n"
          ],
          "name": "stdout"
        },
        {
          "output_type": "stream",
          "text": [
            "R[write to console]: Parsed with column specification:\n",
            "cols(\n",
            "  .default = col_double()\n",
            ")\n",
            "\n",
            "R[write to console]: See spec(...) for full column specifications.\n",
            "\n"
          ],
          "name": "stderr"
        },
        {
          "output_type": "stream",
          "text": [
            "[1] 5\n",
            "[1] 50\n",
            "[1] \"Run MST\"\n",
            "[1] \"%%%%%%%%%%%%%%%%%%%%%%%%%%%%%%%%%%%%%%%%%%%%%%%%%%%%%%%%%%%%%%%%\"\n",
            "[1] \"\"\n",
            "[1] \"\"\n",
            "[1] \"/content/drive/My Drive/mhar_paper_samples_2/798_hypercube%1000%15.csv\"\n"
          ],
          "name": "stdout"
        },
        {
          "output_type": "stream",
          "text": [
            "R[write to console]: Parsed with column specification:\n",
            "cols(\n",
            "  `0` = col_double(),\n",
            "  `1` = col_double(),\n",
            "  `2` = col_double(),\n",
            "  `3` = col_double(),\n",
            "  `4` = col_double(),\n",
            "  `5` = col_double(),\n",
            "  `6` = col_double(),\n",
            "  `7` = col_double(),\n",
            "  `8` = col_double(),\n",
            "  `9` = col_double(),\n",
            "  `10` = col_double(),\n",
            "  `11` = col_double(),\n",
            "  `12` = col_double(),\n",
            "  `13` = col_double(),\n",
            "  `14` = col_double()\n",
            ")\n",
            "\n"
          ],
          "name": "stderr"
        },
        {
          "output_type": "stream",
          "text": [
            "[1] 5\n",
            "[1] 15\n",
            "[1] \"Run MST\"\n",
            "[1] \"%%%%%%%%%%%%%%%%%%%%%%%%%%%%%%%%%%%%%%%%%%%%%%%%%%%%%%%%%%%%%%%%\"\n",
            "[1] \"\"\n",
            "[1] \"\"\n",
            "[1] \"/content/drive/My Drive/mhar_paper_samples_2/798_hypercube%1000%25.csv\"\n"
          ],
          "name": "stdout"
        },
        {
          "output_type": "stream",
          "text": [
            "R[write to console]: Parsed with column specification:\n",
            "cols(\n",
            "  .default = col_double()\n",
            ")\n",
            "\n",
            "R[write to console]: See spec(...) for full column specifications.\n",
            "\n"
          ],
          "name": "stderr"
        },
        {
          "output_type": "stream",
          "text": [
            "[1] 5\n",
            "[1] 25\n",
            "[1] \"Run MST\"\n",
            "[1] \"%%%%%%%%%%%%%%%%%%%%%%%%%%%%%%%%%%%%%%%%%%%%%%%%%%%%%%%%%%%%%%%%\"\n",
            "[1] \"\"\n",
            "[1] \"\"\n",
            "[1] \"/content/drive/My Drive/mhar_paper_samples_2/798_hypercube%1000%3.csv\"\n"
          ],
          "name": "stdout"
        },
        {
          "output_type": "stream",
          "text": [
            "R[write to console]: Parsed with column specification:\n",
            "cols(\n",
            "  `0` = col_double(),\n",
            "  `1` = col_double(),\n",
            "  `2` = col_double()\n",
            ")\n",
            "\n"
          ],
          "name": "stderr"
        },
        {
          "output_type": "stream",
          "text": [
            "[1] 5\n",
            "[1] 3\n",
            "[1] \"Run MST\"\n",
            "[1] \"%%%%%%%%%%%%%%%%%%%%%%%%%%%%%%%%%%%%%%%%%%%%%%%%%%%%%%%%%%%%%%%%\"\n",
            "[1] \"\"\n",
            "[1] \"\"\n",
            "[1] \"/content/drive/My Drive/mhar_paper_samples_2/798_hypercube%1000%50.csv\"\n"
          ],
          "name": "stdout"
        },
        {
          "output_type": "stream",
          "text": [
            "R[write to console]: Parsed with column specification:\n",
            "cols(\n",
            "  .default = col_double()\n",
            ")\n",
            "\n",
            "R[write to console]: See spec(...) for full column specifications.\n",
            "\n"
          ],
          "name": "stderr"
        },
        {
          "output_type": "stream",
          "text": [
            "[1] 5\n",
            "[1] 50\n",
            "[1] \"Run MST\"\n",
            "[1] \"%%%%%%%%%%%%%%%%%%%%%%%%%%%%%%%%%%%%%%%%%%%%%%%%%%%%%%%%%%%%%%%%\"\n",
            "[1] \"\"\n",
            "[1] \"\"\n",
            "[1] \"/content/drive/My Drive/mhar_paper_samples_2/798_simplex%1000%15.csv\"\n"
          ],
          "name": "stdout"
        },
        {
          "output_type": "stream",
          "text": [
            "R[write to console]: Parsed with column specification:\n",
            "cols(\n",
            "  `0` = col_double(),\n",
            "  `1` = col_double(),\n",
            "  `2` = col_double(),\n",
            "  `3` = col_double(),\n",
            "  `4` = col_double(),\n",
            "  `5` = col_double(),\n",
            "  `6` = col_double(),\n",
            "  `7` = col_double(),\n",
            "  `8` = col_double(),\n",
            "  `9` = col_double(),\n",
            "  `10` = col_double(),\n",
            "  `11` = col_double(),\n",
            "  `12` = col_double(),\n",
            "  `13` = col_double(),\n",
            "  `14` = col_double()\n",
            ")\n",
            "\n"
          ],
          "name": "stderr"
        },
        {
          "output_type": "stream",
          "text": [
            "[1] 5\n",
            "[1] 15\n",
            "[1] \"Run MST\"\n",
            "[1] \"%%%%%%%%%%%%%%%%%%%%%%%%%%%%%%%%%%%%%%%%%%%%%%%%%%%%%%%%%%%%%%%%\"\n",
            "[1] \"\"\n",
            "[1] \"\"\n",
            "[1] \"/content/drive/My Drive/mhar_paper_samples_2/798_simplex%1000%25.csv\"\n"
          ],
          "name": "stdout"
        },
        {
          "output_type": "stream",
          "text": [
            "R[write to console]: Parsed with column specification:\n",
            "cols(\n",
            "  .default = col_double()\n",
            ")\n",
            "\n",
            "R[write to console]: See spec(...) for full column specifications.\n",
            "\n"
          ],
          "name": "stderr"
        },
        {
          "output_type": "stream",
          "text": [
            "[1] 5\n",
            "[1] 25\n",
            "[1] \"Run MST\"\n",
            "[1] \"%%%%%%%%%%%%%%%%%%%%%%%%%%%%%%%%%%%%%%%%%%%%%%%%%%%%%%%%%%%%%%%%\"\n",
            "[1] \"\"\n",
            "[1] \"\"\n",
            "[1] \"/content/drive/My Drive/mhar_paper_samples_2/798_simplex%1000%3.csv\"\n"
          ],
          "name": "stdout"
        },
        {
          "output_type": "stream",
          "text": [
            "R[write to console]: Parsed with column specification:\n",
            "cols(\n",
            "  `0` = col_double(),\n",
            "  `1` = col_double(),\n",
            "  `2` = col_double()\n",
            ")\n",
            "\n"
          ],
          "name": "stderr"
        },
        {
          "output_type": "stream",
          "text": [
            "[1] 5\n",
            "[1] 3\n",
            "[1] \"Run MST\"\n",
            "[1] \"%%%%%%%%%%%%%%%%%%%%%%%%%%%%%%%%%%%%%%%%%%%%%%%%%%%%%%%%%%%%%%%%\"\n",
            "[1] \"\"\n",
            "[1] \"\"\n",
            "[1] \"/content/drive/My Drive/mhar_paper_samples_2/798_simplex%1000%50.csv\"\n"
          ],
          "name": "stdout"
        },
        {
          "output_type": "stream",
          "text": [
            "R[write to console]: Parsed with column specification:\n",
            "cols(\n",
            "  .default = col_double()\n",
            ")\n",
            "\n",
            "R[write to console]: See spec(...) for full column specifications.\n",
            "\n"
          ],
          "name": "stderr"
        },
        {
          "output_type": "stream",
          "text": [
            "[1] 5\n",
            "[1] 50\n",
            "[1] \"Run MST\"\n",
            "[1] \"%%%%%%%%%%%%%%%%%%%%%%%%%%%%%%%%%%%%%%%%%%%%%%%%%%%%%%%%%%%%%%%%\"\n",
            "[1] \"\"\n",
            "[1] \"\"\n",
            "[1] \"/content/drive/My Drive/mhar_paper_samples_2/931_hypercube%1000%15.csv\"\n"
          ],
          "name": "stdout"
        },
        {
          "output_type": "stream",
          "text": [
            "R[write to console]: Parsed with column specification:\n",
            "cols(\n",
            "  `0` = col_double(),\n",
            "  `1` = col_double(),\n",
            "  `2` = col_double(),\n",
            "  `3` = col_double(),\n",
            "  `4` = col_double(),\n",
            "  `5` = col_double(),\n",
            "  `6` = col_double(),\n",
            "  `7` = col_double(),\n",
            "  `8` = col_double(),\n",
            "  `9` = col_double(),\n",
            "  `10` = col_double(),\n",
            "  `11` = col_double(),\n",
            "  `12` = col_double(),\n",
            "  `13` = col_double(),\n",
            "  `14` = col_double()\n",
            ")\n",
            "\n"
          ],
          "name": "stderr"
        },
        {
          "output_type": "stream",
          "text": [
            "[1] 5\n",
            "[1] 15\n",
            "[1] \"Run MST\"\n",
            "[1] \"%%%%%%%%%%%%%%%%%%%%%%%%%%%%%%%%%%%%%%%%%%%%%%%%%%%%%%%%%%%%%%%%\"\n",
            "[1] \"\"\n",
            "[1] \"\"\n",
            "[1] \"/content/drive/My Drive/mhar_paper_samples_2/931_hypercube%1000%25.csv\"\n"
          ],
          "name": "stdout"
        },
        {
          "output_type": "stream",
          "text": [
            "R[write to console]: Parsed with column specification:\n",
            "cols(\n",
            "  .default = col_double()\n",
            ")\n",
            "\n",
            "R[write to console]: See spec(...) for full column specifications.\n",
            "\n"
          ],
          "name": "stderr"
        },
        {
          "output_type": "stream",
          "text": [
            "[1] 5\n",
            "[1] 25\n",
            "[1] \"Run MST\"\n",
            "[1] \"%%%%%%%%%%%%%%%%%%%%%%%%%%%%%%%%%%%%%%%%%%%%%%%%%%%%%%%%%%%%%%%%\"\n",
            "[1] \"\"\n",
            "[1] \"\"\n",
            "[1] \"/content/drive/My Drive/mhar_paper_samples_2/931_hypercube%1000%3.csv\"\n"
          ],
          "name": "stdout"
        },
        {
          "output_type": "stream",
          "text": [
            "R[write to console]: Parsed with column specification:\n",
            "cols(\n",
            "  `0` = col_double(),\n",
            "  `1` = col_double(),\n",
            "  `2` = col_double()\n",
            ")\n",
            "\n"
          ],
          "name": "stderr"
        },
        {
          "output_type": "stream",
          "text": [
            "[1] 5\n",
            "[1] 3\n",
            "[1] \"Run MST\"\n",
            "[1] \"%%%%%%%%%%%%%%%%%%%%%%%%%%%%%%%%%%%%%%%%%%%%%%%%%%%%%%%%%%%%%%%%\"\n",
            "[1] \"\"\n",
            "[1] \"\"\n",
            "[1] \"/content/drive/My Drive/mhar_paper_samples_2/931_hypercube%1000%50.csv\"\n"
          ],
          "name": "stdout"
        },
        {
          "output_type": "stream",
          "text": [
            "R[write to console]: Parsed with column specification:\n",
            "cols(\n",
            "  .default = col_double()\n",
            ")\n",
            "\n",
            "R[write to console]: See spec(...) for full column specifications.\n",
            "\n"
          ],
          "name": "stderr"
        },
        {
          "output_type": "stream",
          "text": [
            "[1] 5\n",
            "[1] 50\n",
            "[1] \"Run MST\"\n",
            "[1] \"%%%%%%%%%%%%%%%%%%%%%%%%%%%%%%%%%%%%%%%%%%%%%%%%%%%%%%%%%%%%%%%%\"\n",
            "[1] \"\"\n",
            "[1] \"\"\n",
            "[1] \"/content/drive/My Drive/mhar_paper_samples_2/931_simplex%1000%15.csv\"\n"
          ],
          "name": "stdout"
        },
        {
          "output_type": "stream",
          "text": [
            "R[write to console]: Parsed with column specification:\n",
            "cols(\n",
            "  `0` = col_double(),\n",
            "  `1` = col_double(),\n",
            "  `2` = col_double(),\n",
            "  `3` = col_double(),\n",
            "  `4` = col_double(),\n",
            "  `5` = col_double(),\n",
            "  `6` = col_double(),\n",
            "  `7` = col_double(),\n",
            "  `8` = col_double(),\n",
            "  `9` = col_double(),\n",
            "  `10` = col_double(),\n",
            "  `11` = col_double(),\n",
            "  `12` = col_double(),\n",
            "  `13` = col_double(),\n",
            "  `14` = col_double()\n",
            ")\n",
            "\n"
          ],
          "name": "stderr"
        },
        {
          "output_type": "stream",
          "text": [
            "[1] 5\n",
            "[1] 15\n",
            "[1] \"Run MST\"\n",
            "[1] \"%%%%%%%%%%%%%%%%%%%%%%%%%%%%%%%%%%%%%%%%%%%%%%%%%%%%%%%%%%%%%%%%\"\n",
            "[1] \"\"\n",
            "[1] \"\"\n",
            "[1] \"/content/drive/My Drive/mhar_paper_samples_2/931_simplex%1000%25.csv\"\n"
          ],
          "name": "stdout"
        },
        {
          "output_type": "stream",
          "text": [
            "R[write to console]: Parsed with column specification:\n",
            "cols(\n",
            "  .default = col_double()\n",
            ")\n",
            "\n",
            "R[write to console]: See spec(...) for full column specifications.\n",
            "\n"
          ],
          "name": "stderr"
        },
        {
          "output_type": "stream",
          "text": [
            "[1] 5\n",
            "[1] 25\n",
            "[1] \"Run MST\"\n",
            "[1] \"%%%%%%%%%%%%%%%%%%%%%%%%%%%%%%%%%%%%%%%%%%%%%%%%%%%%%%%%%%%%%%%%\"\n",
            "[1] \"\"\n",
            "[1] \"\"\n",
            "[1] \"/content/drive/My Drive/mhar_paper_samples_2/931_simplex%1000%3.csv\"\n"
          ],
          "name": "stdout"
        },
        {
          "output_type": "stream",
          "text": [
            "R[write to console]: Parsed with column specification:\n",
            "cols(\n",
            "  `0` = col_double(),\n",
            "  `1` = col_double(),\n",
            "  `2` = col_double()\n",
            ")\n",
            "\n"
          ],
          "name": "stderr"
        },
        {
          "output_type": "stream",
          "text": [
            "[1] 5\n",
            "[1] 3\n",
            "[1] \"Run MST\"\n",
            "[1] \"%%%%%%%%%%%%%%%%%%%%%%%%%%%%%%%%%%%%%%%%%%%%%%%%%%%%%%%%%%%%%%%%\"\n",
            "[1] \"\"\n",
            "[1] \"\"\n",
            "[1] \"/content/drive/My Drive/mhar_paper_samples_2/931_simplex%1000%50.csv\"\n"
          ],
          "name": "stdout"
        },
        {
          "output_type": "stream",
          "text": [
            "R[write to console]: Parsed with column specification:\n",
            "cols(\n",
            "  .default = col_double()\n",
            ")\n",
            "\n",
            "R[write to console]: See spec(...) for full column specifications.\n",
            "\n"
          ],
          "name": "stderr"
        },
        {
          "output_type": "stream",
          "text": [
            "[1] 5\n",
            "[1] 50\n",
            "[1] \"Run MST\"\n",
            "[1] \"%%%%%%%%%%%%%%%%%%%%%%%%%%%%%%%%%%%%%%%%%%%%%%%%%%%%%%%%%%%%%%%%\"\n",
            "[1] \"\"\n",
            "[1] \"\"\n"
          ],
          "name": "stdout"
        }
      ]
    },
    {
      "cell_type": "code",
      "metadata": {
        "id": "D5eOYnCxpHlG",
        "colab_type": "code",
        "colab": {
          "base_uri": "https://localhost:8080/",
          "height": 1000
        },
        "outputId": "75873853-783b-42aa-b999-d84a021141bc"
      },
      "source": [
        "%%R\n",
        "\n",
        "save_path <- '/content/drive/My Drive/mst_5000/mst_5000_initial.csv'\n",
        "\n",
        "# Create random seeds\n",
        "seeds_ <- sample(1:10000000, 1000, replace=T)\n",
        "s<- 1\n",
        "\n",
        "\n",
        "## PArse existing experiments\n",
        "if(!file.exists(save_path)){\n",
        "    existance<- tibble(figure=character(),dim=numeric(), z=numeric(), \n",
        "                          p_value=numeric(),\n",
        "                              nsamp=numeric(), file=character(), perm=numeric(),\n",
        "               seed=numeric()) \n",
        "    print('Experiments file does not exists')\n",
        "    \n",
        "}else{\n",
        "    existance <- read.csv(save_path) %>% dplyr::select( -contains('X'))\n",
        "    print('Loading experiment csv')\n",
        "}\n",
        "\n",
        "z_df <- existance\n",
        "\n",
        "for(f in files){\n",
        "  # Set hyperparameters\n",
        "  set.seed(seeds_[s])\n",
        "  file_name <- f\n",
        "  perm <- 50\n",
        "  n_sample <- 5000\n",
        "  print(file_name)\n",
        "  df_  <- read_csv(file_name)\n",
        "  df_ <- df_[c(1:n_sample),]\n",
        "  # Get dim of the read file\n",
        "  n_rows  <- dim(df_)[1]\n",
        "  n_cols  <- dim(df_)[2]\n",
        "  print(n_rows)\n",
        "  print(n_cols)\n",
        "\n",
        "  # Check if the experiment already runned\n",
        "  check_df <- FALSE\n",
        "  if(f %in% existance$file){\n",
        "    check_df <- TRUE\n",
        "  }\n",
        "\n",
        "  check_df <- !check_df\n",
        "\n",
        "  if(check_df){\n",
        "    typ <- 'Error'\n",
        "      print('Run MST')\n",
        "    if (grepl('hyper', f, fixed = TRUE)){\n",
        "    real_sample  <- suppressWarnings(hyper_gen(n_cols,n_rows))\n",
        "    typ <- 'Hypercube'\n",
        "  }\n",
        "  if (grepl('simplex', f, fixed = TRUE)){\n",
        "    real_sample  <- suppressWarnings(simplex_gen(n_cols,n_rows))\n",
        "    typ <- 'Simplex'\n",
        "  }\n",
        "\n",
        "  df_  <- df_  %>% data.matrix()   %>% unname()\n",
        "          \n",
        "  df_  <- rbind(df_, real_sample)  \n",
        "  df_  <- df_ %>% aperm(c(2,1)) \n",
        "  dim(df_)\n",
        "  result <- WWtest(object=df_, group=c(rep(1, n_rows),rep(2, n_rows)),\n",
        "                          nperm=perm, pvalue.only=FALSE)\n",
        "  z_df  <- tibble(figure=typ,dim=n_cols, z=result$statistic, \n",
        "                          p_value=result$p.value,\n",
        "                              nsamp=n_sample, file=f, perm=perm, \n",
        "                  seed=seeds_[s]) %>% rbind(z_df)\n",
        "  z_df %>% write.csv(save_path)\n",
        "  \n",
        "  }\n",
        "  #Increment seed index\n",
        "  s <- s + 1 \n",
        "  print('%%%%%%%%%%%%%%%%%%%%%%%%%%%%%%%%%%%%%%%%%%%%%%%%%%%%%%%%%%%%%%%%')\n",
        "  print('')\n",
        "  print('')\n",
        "}\n",
        "\n",
        "\n"
      ],
      "execution_count": null,
      "outputs": [
        {
          "output_type": "stream",
          "text": [
            "[1] \"Experiments file does not exists\"\n",
            "[1] \"/content/drive/My Drive/mhar_paper_samples_2/100_hypercube%1000%3.csv\"\n"
          ],
          "name": "stdout"
        },
        {
          "output_type": "stream",
          "text": [
            "R[write to console]: Parsed with column specification:\n",
            "cols(\n",
            "  `0` = col_double(),\n",
            "  `1` = col_double(),\n",
            "  `2` = col_double()\n",
            ")\n",
            "\n"
          ],
          "name": "stderr"
        },
        {
          "output_type": "stream",
          "text": [
            "[1] 5000\n",
            "[1] 3\n",
            "[1] \"Run MST\"\n",
            "[1] \"%%%%%%%%%%%%%%%%%%%%%%%%%%%%%%%%%%%%%%%%%%%%%%%%%%%%%%%%%%%%%%%%\"\n",
            "[1] \"\"\n",
            "[1] \"\"\n",
            "[1] \"/content/drive/My Drive/mhar_paper_samples_2/1064_hypercube%1000%15.csv\"\n"
          ],
          "name": "stdout"
        },
        {
          "output_type": "stream",
          "text": [
            "R[write to console]: Parsed with column specification:\n",
            "cols(\n",
            "  `0` = col_double(),\n",
            "  `1` = col_double(),\n",
            "  `2` = col_double(),\n",
            "  `3` = col_double(),\n",
            "  `4` = col_double(),\n",
            "  `5` = col_double(),\n",
            "  `6` = col_double(),\n",
            "  `7` = col_double(),\n",
            "  `8` = col_double(),\n",
            "  `9` = col_double(),\n",
            "  `10` = col_double(),\n",
            "  `11` = col_double(),\n",
            "  `12` = col_double(),\n",
            "  `13` = col_double(),\n",
            "  `14` = col_double()\n",
            ")\n",
            "\n"
          ],
          "name": "stderr"
        },
        {
          "output_type": "stream",
          "text": [
            "[1] 5000\n",
            "[1] 15\n",
            "[1] \"Run MST\"\n",
            "[1] \"%%%%%%%%%%%%%%%%%%%%%%%%%%%%%%%%%%%%%%%%%%%%%%%%%%%%%%%%%%%%%%%%\"\n",
            "[1] \"\"\n",
            "[1] \"\"\n",
            "[1] \"/content/drive/My Drive/mhar_paper_samples_2/1064_hypercube%1000%25.csv\"\n"
          ],
          "name": "stdout"
        },
        {
          "output_type": "stream",
          "text": [
            "R[write to console]: Parsed with column specification:\n",
            "cols(\n",
            "  .default = col_double()\n",
            ")\n",
            "\n",
            "R[write to console]: See spec(...) for full column specifications.\n",
            "\n"
          ],
          "name": "stderr"
        },
        {
          "output_type": "stream",
          "text": [
            "[1] 5000\n",
            "[1] 25\n",
            "[1] \"Run MST\"\n",
            "[1] \"%%%%%%%%%%%%%%%%%%%%%%%%%%%%%%%%%%%%%%%%%%%%%%%%%%%%%%%%%%%%%%%%\"\n",
            "[1] \"\"\n",
            "[1] \"\"\n",
            "[1] \"/content/drive/My Drive/mhar_paper_samples_2/1064_hypercube%1000%3.csv\"\n"
          ],
          "name": "stdout"
        },
        {
          "output_type": "stream",
          "text": [
            "R[write to console]: Parsed with column specification:\n",
            "cols(\n",
            "  `0` = col_double(),\n",
            "  `1` = col_double(),\n",
            "  `2` = col_double()\n",
            ")\n",
            "\n"
          ],
          "name": "stderr"
        },
        {
          "output_type": "stream",
          "text": [
            "[1] 5000\n",
            "[1] 3\n",
            "[1] \"Run MST\"\n"
          ],
          "name": "stdout"
        }
      ]
    }
  ]
}