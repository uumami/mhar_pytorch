{
  "nbformat": 4,
  "nbformat_minor": 0,
  "metadata": {
    "colab": {
      "name": "mhar_mst.ipynb",
      "provenance": [],
      "collapsed_sections": [],
      "machine_shape": "hm"
    },
    "kernelspec": {
      "name": "python3",
      "display_name": "Python 3"
    }
  },
  "cells": [
    {
      "cell_type": "code",
      "metadata": {
        "id": "jmgZgK5oURv6",
        "colab_type": "code",
        "colab": {
          "base_uri": "https://localhost:8080/",
          "height": 59
        },
        "outputId": "ff6bbdbc-418f-4910-d69a-8cc99e6efcee"
      },
      "source": [
        "'''\n",
        "function ClickConnect(){\n",
        "console.log(\"Working\"); \n",
        "document.querySelector(\"colab-toolbar-button#connect\").click() \n",
        "}\n",
        "setInterval(ClickConnect,60000)\n",
        "'''"
      ],
      "execution_count": 1,
      "outputs": [
        {
          "output_type": "execute_result",
          "data": {
            "application/vnd.google.colaboratory.intrinsic": {
              "type": "string"
            },
            "text/plain": [
              "'\\nfunction ClickConnect(){\\nconsole.log(\"Working\"); \\ndocument.querySelector(\"colab-toolbar-button#connect\").click() \\n}\\nsetInterval(ClickConnect,60000)\\n'"
            ]
          },
          "metadata": {
            "tags": []
          },
          "execution_count": 1
        }
      ]
    },
    {
      "cell_type": "code",
      "metadata": {
        "id": "Px-sNHUF1DXX",
        "colab_type": "code",
        "colab": {
          "base_uri": "https://localhost:8080/",
          "height": 58
        },
        "outputId": "9e662ae2-978c-44c6-de72-53e75e0cee32"
      },
      "source": [
        "from google.colab import drive\n",
        "drive.mount('/content/drive')"
      ],
      "execution_count": 2,
      "outputs": [
        {
          "output_type": "stream",
          "text": [
            "Drive already mounted at /content/drive; to attempt to forcibly remount, call drive.mount(\"/content/drive\", force_remount=True).\n"
          ],
          "name": "stdout"
        }
      ]
    },
    {
      "cell_type": "code",
      "metadata": {
        "id": "DyaVLFWwA7fC",
        "colab_type": "code",
        "colab": {
          "base_uri": "https://localhost:8080/",
          "height": 996
        },
        "outputId": "eb07db70-0d63-40c8-d765-4dac3847dccc"
      },
      "source": [
        "!cat /proc/meminfo"
      ],
      "execution_count": 3,
      "outputs": [
        {
          "output_type": "stream",
          "text": [
            "MemTotal:       26751700 kB\n",
            "MemFree:        22970012 kB\n",
            "MemAvailable:   25685380 kB\n",
            "Buffers:          109976 kB\n",
            "Cached:          2812188 kB\n",
            "SwapCached:            0 kB\n",
            "Active:          1009340 kB\n",
            "Inactive:        2399108 kB\n",
            "Active(anon):     449556 kB\n",
            "Inactive(anon):      364 kB\n",
            "Active(file):     559784 kB\n",
            "Inactive(file):  2398744 kB\n",
            "Unevictable:           0 kB\n",
            "Mlocked:               0 kB\n",
            "SwapTotal:             0 kB\n",
            "SwapFree:              0 kB\n",
            "Dirty:               424 kB\n",
            "Writeback:             0 kB\n",
            "AnonPages:        486404 kB\n",
            "Mapped:           260488 kB\n",
            "Shmem:               928 kB\n",
            "Slab:             216344 kB\n",
            "SReclaimable:     159468 kB\n",
            "SUnreclaim:        56876 kB\n",
            "KernelStack:        4752 kB\n",
            "PageTables:         6516 kB\n",
            "NFS_Unstable:          0 kB\n",
            "Bounce:                0 kB\n",
            "WritebackTmp:          0 kB\n",
            "CommitLimit:    13375848 kB\n",
            "Committed_AS:    3198440 kB\n",
            "VmallocTotal:   34359738367 kB\n",
            "VmallocUsed:           0 kB\n",
            "VmallocChunk:          0 kB\n",
            "Percpu:             1840 kB\n",
            "AnonHugePages:         0 kB\n",
            "ShmemHugePages:        0 kB\n",
            "ShmemPmdMapped:        0 kB\n",
            "HugePages_Total:       0\n",
            "HugePages_Free:        0\n",
            "HugePages_Rsvd:        0\n",
            "HugePages_Surp:        0\n",
            "Hugepagesize:       2048 kB\n",
            "Hugetlb:               0 kB\n",
            "DirectMap4k:       87228 kB\n",
            "DirectMap2M:     6203392 kB\n",
            "DirectMap1G:    23068672 kB\n"
          ],
          "name": "stdout"
        }
      ]
    },
    {
      "cell_type": "code",
      "metadata": {
        "id": "YWofhGRB1ma1",
        "colab_type": "code",
        "colab": {
          "base_uri": "https://localhost:8080/",
          "height": 120
        },
        "outputId": "29ecee36-7bbd-478e-d115-c545bdfc6e17"
      },
      "source": [
        "%load_ext rpy2.ipython"
      ],
      "execution_count": 4,
      "outputs": [
        {
          "output_type": "stream",
          "text": [
            "/usr/local/lib/python3.6/dist-packages/rpy2/robjects/pandas2ri.py:14: FutureWarning: pandas.core.index is deprecated and will be removed in a future version.  The public classes are available in the top-level namespace.\n",
            "  from pandas.core.index import Index as PandasIndex\n",
            "/usr/local/lib/python3.6/dist-packages/rpy2/robjects/pandas2ri.py:34: UserWarning: pandas >= 1.0 is not supported.\n",
            "  warnings.warn('pandas >= 1.0 is not supported.')\n"
          ],
          "name": "stderr"
        }
      ]
    },
    {
      "cell_type": "code",
      "metadata": {
        "id": "9gjkOa0r2IDv",
        "colab_type": "code",
        "colab": {
          "base_uri": "https://localhost:8080/",
          "height": 1000
        },
        "outputId": "3887f0f0-0f4b-4169-d29d-134196dae79c"
      },
      "source": [
        "%%R\n",
        "if (!requireNamespace(\"BiocManager\", quietly = TRUE))\n",
        "install.packages(\"BiocManager\")\n",
        "BiocManager::install(\"GSAR\")"
      ],
      "execution_count": 5,
      "outputs": [
        {
          "output_type": "stream",
          "text": [
            "R[write to console]: Bioconductor version 3.10 (BiocManager 1.30.10), R 3.6.3 (2020-02-29)\n",
            "\n",
            "R[write to console]: Installing package(s) 'GSAR'\n",
            "\n",
            "R[write to console]: trying URL 'https://bioconductor.org/packages/3.10/bioc/src/contrib/GSAR_1.20.0.tar.gz'\n",
            "\n",
            "R[write to console]: Content type 'application/x-gzip'\n",
            "R[write to console]:  length 2185168 bytes (2.1 MB)\n",
            "\n",
            "R[write to console]: =\n",
            "R[write to console]: =\n",
            "R[write to console]: =\n",
            "R[write to console]: =\n",
            "R[write to console]: =\n",
            "R[write to console]: =\n",
            "R[write to console]: =\n",
            "R[write to console]: =\n",
            "R[write to console]: =\n",
            "R[write to console]: =\n",
            "R[write to console]: =\n",
            "R[write to console]: =\n",
            "R[write to console]: =\n",
            "R[write to console]: =\n",
            "R[write to console]: =\n",
            "R[write to console]: =\n",
            "R[write to console]: =\n",
            "R[write to console]: =\n",
            "R[write to console]: =\n",
            "R[write to console]: =\n",
            "R[write to console]: =\n",
            "R[write to console]: =\n",
            "R[write to console]: =\n",
            "R[write to console]: =\n",
            "R[write to console]: =\n",
            "R[write to console]: =\n",
            "R[write to console]: =\n",
            "R[write to console]: =\n",
            "R[write to console]: =\n",
            "R[write to console]: =\n",
            "R[write to console]: =\n",
            "R[write to console]: =\n",
            "R[write to console]: =\n",
            "R[write to console]: =\n",
            "R[write to console]: =\n",
            "R[write to console]: =\n",
            "R[write to console]: =\n",
            "R[write to console]: =\n",
            "R[write to console]: =\n",
            "R[write to console]: =\n",
            "R[write to console]: =\n",
            "R[write to console]: =\n",
            "R[write to console]: =\n",
            "R[write to console]: =\n",
            "R[write to console]: =\n",
            "R[write to console]: =\n",
            "R[write to console]: =\n",
            "R[write to console]: =\n",
            "R[write to console]: =\n",
            "R[write to console]: =\n",
            "R[write to console]: \n",
            "\n",
            "R[write to console]: downloaded 2.1 MB\n",
            "\n",
            "\n",
            "R[write to console]: \n",
            "\n",
            "R[write to console]: \n",
            "R[write to console]: The downloaded source packages are in\n",
            "\t‘/tmp/Rtmp5mmNnt/downloaded_packages’\n",
            "R[write to console]: \n",
            "R[write to console]: \n",
            "\n",
            "R[write to console]: Old packages: 'curl', 'farver', 'pillar', 'pkgbuild', 'rex', 'rprojroot',\n",
            "  'tibble', 'vctrs', 'nlme'\n",
            "\n"
          ],
          "name": "stderr"
        }
      ]
    },
    {
      "cell_type": "code",
      "metadata": {
        "id": "VAtaIVAC2b29",
        "colab_type": "code",
        "colab": {
          "base_uri": "https://localhost:8080/",
          "height": 1000
        },
        "outputId": "089c2197-ffe9-47b8-ad84-aca6032e78d9"
      },
      "source": [
        "%%R\n",
        "library(tidyverse)\n",
        "library(MASS)\n",
        "library(GSAR)\n",
        "library(parallel)"
      ],
      "execution_count": 6,
      "outputs": [
        {
          "output_type": "stream",
          "text": [
            "R[write to console]: ── Attaching packages ─────────────────────────────────────── tidyverse 1.3.0 ──\n",
            "\n",
            "R[write to console]: ✔ ggplot2 3.3.2     ✔ purrr   0.3.4\n",
            "✔ tibble  3.0.2     ✔ dplyr   1.0.0\n",
            "✔ tidyr   1.1.0     ✔ stringr 1.4.0\n",
            "✔ readr   1.3.1     ✔ forcats 0.5.0\n",
            "\n",
            "R[write to console]: ── Conflicts ────────────────────────────────────────── tidyverse_conflicts() ──\n",
            "✖ dplyr::filter() masks stats::filter()\n",
            "✖ dplyr::lag()    masks stats::lag()\n",
            "\n",
            "R[write to console]: \n",
            "Attaching package: ‘MASS’\n",
            "\n",
            "\n",
            "R[write to console]: The following object is masked from ‘package:dplyr’:\n",
            "\n",
            "    select\n",
            "\n",
            "\n",
            "R[write to console]: Loading required package: igraph\n",
            "\n",
            "R[write to console]: \n",
            "Attaching package: ‘igraph’\n",
            "\n",
            "\n",
            "R[write to console]: The following objects are masked from ‘package:dplyr’:\n",
            "\n",
            "    as_data_frame, groups, union\n",
            "\n",
            "\n",
            "R[write to console]: The following objects are masked from ‘package:purrr’:\n",
            "\n",
            "    compose, simplify\n",
            "\n",
            "\n",
            "R[write to console]: The following object is masked from ‘package:tidyr’:\n",
            "\n",
            "    crossing\n",
            "\n",
            "\n",
            "R[write to console]: The following object is masked from ‘package:tibble’:\n",
            "\n",
            "    as_data_frame\n",
            "\n",
            "\n",
            "R[write to console]: The following objects are masked from ‘package:stats’:\n",
            "\n",
            "    decompose, spectrum\n",
            "\n",
            "\n",
            "R[write to console]: The following object is masked from ‘package:base’:\n",
            "\n",
            "    union\n",
            "\n",
            "\n"
          ],
          "name": "stderr"
        }
      ]
    },
    {
      "cell_type": "code",
      "metadata": {
        "id": "JpiqdMoW2xPp",
        "colab_type": "code",
        "colab": {}
      },
      "source": [
        "%%R\n",
        "\n",
        "# Simplex sample generator\n",
        "simplex_gen  <- function(n, samples){\n",
        "    simplex_out  <- matrix(, nrow = samples, ncol = n)\n",
        "    for(r in c(1:samples)){\n",
        "        sample  <- runif(n-1,0,1)  %>%  \n",
        "                    sort(decreasing=FALSE)\n",
        "        sample  <- append(0.0, sample)  %>% \n",
        "                    append(1.0)\n",
        "        sample  <- sample[-1] - sample\n",
        "        sample  <- sample[1:n]\n",
        "\n",
        "        simplex_out[r,]  <- sample\n",
        "     }\n",
        "    return(simplex_out)\n",
        "}\n",
        "\n",
        "# Genberate hypercube\n",
        "hyper_gen  <- function(n, samples){\n",
        "    simplex_out  <- matrix(, nrow = samples, ncol = n)\n",
        "    for(r in c(1:samples)){\n",
        "        sample  <- runif(n,-1,1) \n",
        "        sample  <- sample[1:n]\n",
        "        simplex_out[r,]  <- sample\n",
        "     }\n",
        "    return(simplex_out)\n",
        "}\n",
        "\n",
        "# MST for simplex\n",
        "mst <- function(file_, nsamp=10000, perm=50){\n",
        "    # Read files with samples\n",
        "    df_  <- read_csv(file_)  %>%  \n",
        "    dplyr::select(starts_with('x_'))  %>% \n",
        "    sample_n(size=nsamp, replace=FALSE)\n",
        "    # Get dim of the read file\n",
        "    n_rows  <- dim(df_)[1]\n",
        "    n_cols  <- dim(df_)[2]\n",
        "        if (n_rows > (nsamp-1)){\n",
        "        simplex_sample  <- suppressWarnings(simplex_gen(n_cols,n_rows))\n",
        "        \n",
        "        df_  <- df_  %>% \n",
        "                data.matrix()   %>% \n",
        "                unname()\n",
        "        \n",
        "        df_  <- rbind(df_, simplex_sample)  \n",
        "        df_  <- df_ %>% \n",
        "                aperm(c(2,1)) \n",
        "        result <- WWtest(object=df_, group=c(rep(1, n_rows),rep(2, n_rows)),\n",
        "                         nperm=perm, pvalue.only=FALSE)\n",
        "        z_df  <- tibble(dim=n_cols, z=result$statistic, \n",
        "                        p_value=result$p.value,\n",
        "                             nsamp=nsamp)\n",
        "        gc()\n",
        "        return(z_df)\n",
        "        \n",
        "    }\n",
        "    \n",
        "}\n"
      ],
      "execution_count": 7,
      "outputs": []
    },
    {
      "cell_type": "code",
      "metadata": {
        "id": "y0KM3rXkiZsh",
        "colab_type": "code",
        "colab": {}
      },
      "source": [
        "%%R\n",
        "path  <- '/content/drive/My Drive/mhar_paper_samples_2/'\n",
        "set.seed(5)\n",
        "simplex_gen(5,10)\n",
        "files <- list.files(path)\n",
        "files  <- paste(path, files, sep='')\n",
        "\n",
        "# Extract dimenions\n",
        "m <- regexpr(\"%[0-9]+.csv\", files, perl=TRUE)\n",
        "dimension <- regmatches(files, m)\n",
        "m <- regexpr(\"[0-9]+\", dimension, perl=TRUE)\n",
        "dimension <- regmatches(dimension, m)\n",
        "dimension\n",
        "\n",
        "#Extract figure\n",
        "m <- regexpr(\"[0-9]+_[a-z]+%\", files, perl=TRUE)\n",
        "figure <- regmatches(files, m)\n",
        "m <- regexpr(\"[a-z]+\", figure, perl=TRUE)\n",
        "figure <- regmatches(figure, m)\n",
        "figure\n",
        "\n",
        "# Extract seed\n",
        "m <- regexpr(\"/[0-9]+_\", files, perl=TRUE)\n",
        "sed <- regmatches(files, m)\n",
        "m <- regexpr(\"[0-9]+\", sed, perl=TRUE)\n",
        "sed <- regmatches(sed, m)\n",
        "\n",
        "df_simulations <- tibble(file=files, n=dimension, figure=figure, seed=sed)"
      ],
      "execution_count": 8,
      "outputs": []
    },
    {
      "cell_type": "code",
      "metadata": {
        "id": "RnNgRxSVlGQG",
        "colab_type": "code",
        "colab": {}
      },
      "source": [
        ""
      ],
      "execution_count": 8,
      "outputs": []
    },
    {
      "cell_type": "code",
      "metadata": {
        "id": "D5eOYnCxpHlG",
        "colab_type": "code",
        "colab": {
          "base_uri": "https://localhost:8080/",
          "height": 1000
        },
        "outputId": "508247a5-b6b1-4153-dcce-9eff135b2d23"
      },
      "source": [
        "%%R\n",
        "\n",
        "save_path <- '/content/drive/My Drive/mst_5000/values.csv'\n",
        "\n",
        "# Create random seeds\n",
        "seeds_ <- sample(1:10000000, 1000, replace=T)\n",
        "s<- 1\n",
        "\n",
        "\n",
        "## PArse existing experiments\n",
        "if(!file.exists(save_path)){\n",
        "    existance<- tibble(figure=character(),dim=numeric(), z=numeric(), \n",
        "                          p_value=numeric(),\n",
        "                              nsamp=numeric(), file=character(), perm=numeric(),\n",
        "               seed=numeric()) \n",
        "    \n",
        "}else{\n",
        "    existance <- read.csv(save_path) %>% dplyr::select( -contains('X'))\n",
        "}\n",
        "\n",
        "z_df <- existance\n",
        "\n",
        "for(f in files){\n",
        "  # Set hyperparameters\n",
        "  set.seed(seeds_[s])\n",
        "  file_name <- f\n",
        "  perm <- 10\n",
        "  n_sample <-50\n",
        "  print(file_name)\n",
        "  df_  <- read_csv(file_name)\n",
        "  df_ <- df_[c(1:n_sample),]\n",
        "  # Get dim of the read file\n",
        "  n_rows  <- dim(df_)[1]\n",
        "  n_cols  <- dim(df_)[2]\n",
        "  print(n_rows)\n",
        "  print(n_cols)\n",
        "\n",
        "  # Check if the experiment already runned\n",
        "  check_df <- FALSE\n",
        "  if(f %in% existance$f){\n",
        "  check_df <- existance %>% filter(file==f)\n",
        "  check_df <- (check_df$dim == n_cols) && (check_df$nsamp == n_sample)  && (check_df$perm == perm)\n",
        "  }\n",
        "\n",
        "  check_df <- !check_df\n",
        "\n",
        "  if(check_df){\n",
        "    if (grepl('hyper', files[1], fixed = TRUE)){\n",
        "    real_sample  <- suppressWarnings(hyper_gen(n_cols,n_rows))\n",
        "    typ <- 'Hypercube'\n",
        "  }\n",
        "  if (grepl('simplex', files[1], fixed = TRUE)){\n",
        "    real_sample  <- suppressWarnings(simplex_gen(n_cols,n_rows))\n",
        "    typ <- 'Simplex'\n",
        "  }\n",
        "\n",
        "  df_  <- df_  %>% data.matrix()   %>% unname()\n",
        "          \n",
        "  df_  <- rbind(df_, real_sample)  \n",
        "  df_  <- df_ %>% aperm(c(2,1)) \n",
        "  dim(df_)\n",
        "  result <- WWtest(object=df_, group=c(rep(1, n_rows),rep(2, n_rows)),\n",
        "                          nperm=2, pvalue.only=FALSE)\n",
        "  z_df  <- tibble(figure=typ,dim=n_cols, z=result$statistic, \n",
        "                          p_value=result$p.value,\n",
        "                              nsamp=n_sample, file=f, perm=perm, \n",
        "                  seed=seeds_[s]) %>% rbind(z_df)\n",
        "  z_df %>% write.csv(save_path)\n",
        "  gc()  \n",
        "  \n",
        "  }\n",
        "  #Increment seed index\n",
        "  s <- s + 1 \n",
        "}\n",
        "\n",
        "\n"
      ],
      "execution_count": null,
      "outputs": [
        {
          "output_type": "stream",
          "text": [
            "[1] \"/content/drive/My Drive/mhar_paper_samples_2/100_hypercube%1000%3.csv\"\n"
          ],
          "name": "stdout"
        },
        {
          "output_type": "stream",
          "text": [
            "R[write to console]: Parsed with column specification:\n",
            "cols(\n",
            "  `0` = col_double(),\n",
            "  `1` = col_double(),\n",
            "  `2` = col_double()\n",
            ")\n",
            "\n"
          ],
          "name": "stderr"
        },
        {
          "output_type": "stream",
          "text": [
            "[1] 50\n",
            "[1] 3\n",
            "[1] \"/content/drive/My Drive/mhar_paper_samples_2/1064_hypercube%1000%15.csv\"\n"
          ],
          "name": "stdout"
        },
        {
          "output_type": "stream",
          "text": [
            "R[write to console]: Parsed with column specification:\n",
            "cols(\n",
            "  `0` = col_double(),\n",
            "  `1` = col_double(),\n",
            "  `2` = col_double(),\n",
            "  `3` = col_double(),\n",
            "  `4` = col_double(),\n",
            "  `5` = col_double(),\n",
            "  `6` = col_double(),\n",
            "  `7` = col_double(),\n",
            "  `8` = col_double(),\n",
            "  `9` = col_double(),\n",
            "  `10` = col_double(),\n",
            "  `11` = col_double(),\n",
            "  `12` = col_double(),\n",
            "  `13` = col_double(),\n",
            "  `14` = col_double()\n",
            ")\n",
            "\n"
          ],
          "name": "stderr"
        },
        {
          "output_type": "stream",
          "text": [
            "[1] 50\n",
            "[1] 15\n",
            "[1] \"/content/drive/My Drive/mhar_paper_samples_2/1064_hypercube%1000%25.csv\"\n"
          ],
          "name": "stdout"
        },
        {
          "output_type": "stream",
          "text": [
            "R[write to console]: Parsed with column specification:\n",
            "cols(\n",
            "  .default = col_double()\n",
            ")\n",
            "\n",
            "R[write to console]: See spec(...) for full column specifications.\n",
            "\n"
          ],
          "name": "stderr"
        },
        {
          "output_type": "stream",
          "text": [
            "[1] 50\n",
            "[1] 25\n",
            "[1] \"/content/drive/My Drive/mhar_paper_samples_2/1064_hypercube%1000%3.csv\"\n"
          ],
          "name": "stdout"
        },
        {
          "output_type": "stream",
          "text": [
            "R[write to console]: Parsed with column specification:\n",
            "cols(\n",
            "  `0` = col_double(),\n",
            "  `1` = col_double(),\n",
            "  `2` = col_double()\n",
            ")\n",
            "\n"
          ],
          "name": "stderr"
        },
        {
          "output_type": "stream",
          "text": [
            "[1] 50\n",
            "[1] 3\n",
            "[1] \"/content/drive/My Drive/mhar_paper_samples_2/1064_hypercube%1000%50.csv\"\n"
          ],
          "name": "stdout"
        },
        {
          "output_type": "stream",
          "text": [
            "R[write to console]: Parsed with column specification:\n",
            "cols(\n",
            "  .default = col_double()\n",
            ")\n",
            "\n",
            "R[write to console]: See spec(...) for full column specifications.\n",
            "\n"
          ],
          "name": "stderr"
        },
        {
          "output_type": "stream",
          "text": [
            "[1] 50\n",
            "[1] 50\n",
            "[1] \"/content/drive/My Drive/mhar_paper_samples_2/1064_simplex%1000%15.csv\"\n"
          ],
          "name": "stdout"
        },
        {
          "output_type": "stream",
          "text": [
            "R[write to console]: Parsed with column specification:\n",
            "cols(\n",
            "  `0` = col_double(),\n",
            "  `1` = col_double(),\n",
            "  `2` = col_double(),\n",
            "  `3` = col_double(),\n",
            "  `4` = col_double(),\n",
            "  `5` = col_double(),\n",
            "  `6` = col_double(),\n",
            "  `7` = col_double(),\n",
            "  `8` = col_double(),\n",
            "  `9` = col_double(),\n",
            "  `10` = col_double(),\n",
            "  `11` = col_double(),\n",
            "  `12` = col_double(),\n",
            "  `13` = col_double(),\n",
            "  `14` = col_double()\n",
            ")\n",
            "\n"
          ],
          "name": "stderr"
        },
        {
          "output_type": "stream",
          "text": [
            "[1] 50\n",
            "[1] 15\n",
            "[1] \"/content/drive/My Drive/mhar_paper_samples_2/1064_simplex%1000%25.csv\"\n"
          ],
          "name": "stdout"
        },
        {
          "output_type": "stream",
          "text": [
            "R[write to console]: Parsed with column specification:\n",
            "cols(\n",
            "  .default = col_double()\n",
            ")\n",
            "\n",
            "R[write to console]: See spec(...) for full column specifications.\n",
            "\n"
          ],
          "name": "stderr"
        },
        {
          "output_type": "stream",
          "text": [
            "[1] 50\n",
            "[1] 25\n",
            "[1] \"/content/drive/My Drive/mhar_paper_samples_2/1064_simplex%1000%3.csv\"\n"
          ],
          "name": "stdout"
        },
        {
          "output_type": "stream",
          "text": [
            "R[write to console]: Parsed with column specification:\n",
            "cols(\n",
            "  `0` = col_double(),\n",
            "  `1` = col_double(),\n",
            "  `2` = col_double()\n",
            ")\n",
            "\n"
          ],
          "name": "stderr"
        },
        {
          "output_type": "stream",
          "text": [
            "[1] 50\n",
            "[1] 3\n",
            "[1] \"/content/drive/My Drive/mhar_paper_samples_2/1064_simplex%1000%50.csv\"\n"
          ],
          "name": "stdout"
        },
        {
          "output_type": "stream",
          "text": [
            "R[write to console]: Parsed with column specification:\n",
            "cols(\n",
            "  .default = col_double()\n",
            ")\n",
            "\n",
            "R[write to console]: See spec(...) for full column specifications.\n",
            "\n"
          ],
          "name": "stderr"
        },
        {
          "output_type": "stream",
          "text": [
            "[1] 50\n",
            "[1] 50\n",
            "[1] \"/content/drive/My Drive/mhar_paper_samples_2/1197_hypercube%1000%15.csv\"\n"
          ],
          "name": "stdout"
        },
        {
          "output_type": "stream",
          "text": [
            "R[write to console]: Parsed with column specification:\n",
            "cols(\n",
            "  `0` = col_double(),\n",
            "  `1` = col_double(),\n",
            "  `2` = col_double(),\n",
            "  `3` = col_double(),\n",
            "  `4` = col_double(),\n",
            "  `5` = col_double(),\n",
            "  `6` = col_double(),\n",
            "  `7` = col_double(),\n",
            "  `8` = col_double(),\n",
            "  `9` = col_double(),\n",
            "  `10` = col_double(),\n",
            "  `11` = col_double(),\n",
            "  `12` = col_double(),\n",
            "  `13` = col_double(),\n",
            "  `14` = col_double()\n",
            ")\n",
            "\n"
          ],
          "name": "stderr"
        },
        {
          "output_type": "stream",
          "text": [
            "[1] 50\n",
            "[1] 15\n",
            "[1] \"/content/drive/My Drive/mhar_paper_samples_2/1197_hypercube%1000%25.csv\"\n"
          ],
          "name": "stdout"
        },
        {
          "output_type": "stream",
          "text": [
            "R[write to console]: Parsed with column specification:\n",
            "cols(\n",
            "  .default = col_double()\n",
            ")\n",
            "\n",
            "R[write to console]: See spec(...) for full column specifications.\n",
            "\n"
          ],
          "name": "stderr"
        },
        {
          "output_type": "stream",
          "text": [
            "[1] 50\n",
            "[1] 25\n",
            "[1] \"/content/drive/My Drive/mhar_paper_samples_2/1197_hypercube%1000%3.csv\"\n"
          ],
          "name": "stdout"
        },
        {
          "output_type": "stream",
          "text": [
            "R[write to console]: Parsed with column specification:\n",
            "cols(\n",
            "  `0` = col_double(),\n",
            "  `1` = col_double(),\n",
            "  `2` = col_double()\n",
            ")\n",
            "\n"
          ],
          "name": "stderr"
        },
        {
          "output_type": "stream",
          "text": [
            "[1] 50\n",
            "[1] 3\n",
            "[1] \"/content/drive/My Drive/mhar_paper_samples_2/1197_hypercube%1000%50.csv\"\n"
          ],
          "name": "stdout"
        },
        {
          "output_type": "stream",
          "text": [
            "R[write to console]: Parsed with column specification:\n",
            "cols(\n",
            "  .default = col_double()\n",
            ")\n",
            "\n",
            "R[write to console]: See spec(...) for full column specifications.\n",
            "\n"
          ],
          "name": "stderr"
        },
        {
          "output_type": "stream",
          "text": [
            "[1] 50\n",
            "[1] 50\n",
            "[1] \"/content/drive/My Drive/mhar_paper_samples_2/1197_simplex%1000%15.csv\"\n"
          ],
          "name": "stdout"
        },
        {
          "output_type": "stream",
          "text": [
            "R[write to console]: Parsed with column specification:\n",
            "cols(\n",
            "  `0` = col_double(),\n",
            "  `1` = col_double(),\n",
            "  `2` = col_double(),\n",
            "  `3` = col_double(),\n",
            "  `4` = col_double(),\n",
            "  `5` = col_double(),\n",
            "  `6` = col_double(),\n",
            "  `7` = col_double(),\n",
            "  `8` = col_double(),\n",
            "  `9` = col_double(),\n",
            "  `10` = col_double(),\n",
            "  `11` = col_double(),\n",
            "  `12` = col_double(),\n",
            "  `13` = col_double(),\n",
            "  `14` = col_double()\n",
            ")\n",
            "\n"
          ],
          "name": "stderr"
        },
        {
          "output_type": "stream",
          "text": [
            "[1] 50\n",
            "[1] 15\n",
            "[1] \"/content/drive/My Drive/mhar_paper_samples_2/1197_simplex%1000%25.csv\"\n"
          ],
          "name": "stdout"
        },
        {
          "output_type": "stream",
          "text": [
            "R[write to console]: Parsed with column specification:\n",
            "cols(\n",
            "  .default = col_double()\n",
            ")\n",
            "\n",
            "R[write to console]: See spec(...) for full column specifications.\n",
            "\n"
          ],
          "name": "stderr"
        },
        {
          "output_type": "stream",
          "text": [
            "[1] 50\n",
            "[1] 25\n",
            "[1] \"/content/drive/My Drive/mhar_paper_samples_2/1197_simplex%1000%3.csv\"\n"
          ],
          "name": "stdout"
        },
        {
          "output_type": "stream",
          "text": [
            "R[write to console]: Parsed with column specification:\n",
            "cols(\n",
            "  `0` = col_double(),\n",
            "  `1` = col_double(),\n",
            "  `2` = col_double()\n",
            ")\n",
            "\n"
          ],
          "name": "stderr"
        },
        {
          "output_type": "stream",
          "text": [
            "[1] 50\n",
            "[1] 3\n",
            "[1] \"/content/drive/My Drive/mhar_paper_samples_2/1197_simplex%1000%50.csv\"\n"
          ],
          "name": "stdout"
        },
        {
          "output_type": "stream",
          "text": [
            "R[write to console]: Parsed with column specification:\n",
            "cols(\n",
            "  .default = col_double()\n",
            ")\n",
            "\n",
            "R[write to console]: See spec(...) for full column specifications.\n",
            "\n"
          ],
          "name": "stderr"
        },
        {
          "output_type": "stream",
          "text": [
            "[1] 50\n",
            "[1] 50\n",
            "[1] \"/content/drive/My Drive/mhar_paper_samples_2/133_hypercube%1000%15.csv\"\n"
          ],
          "name": "stdout"
        },
        {
          "output_type": "stream",
          "text": [
            "R[write to console]: Parsed with column specification:\n",
            "cols(\n",
            "  `0` = col_double(),\n",
            "  `1` = col_double(),\n",
            "  `2` = col_double(),\n",
            "  `3` = col_double(),\n",
            "  `4` = col_double(),\n",
            "  `5` = col_double(),\n",
            "  `6` = col_double(),\n",
            "  `7` = col_double(),\n",
            "  `8` = col_double(),\n",
            "  `9` = col_double(),\n",
            "  `10` = col_double(),\n",
            "  `11` = col_double(),\n",
            "  `12` = col_double(),\n",
            "  `13` = col_double(),\n",
            "  `14` = col_double()\n",
            ")\n",
            "\n"
          ],
          "name": "stderr"
        },
        {
          "output_type": "stream",
          "text": [
            "[1] 50\n",
            "[1] 15\n",
            "[1] \"/content/drive/My Drive/mhar_paper_samples_2/133_hypercube%1000%25.csv\"\n"
          ],
          "name": "stdout"
        },
        {
          "output_type": "stream",
          "text": [
            "R[write to console]: Parsed with column specification:\n",
            "cols(\n",
            "  .default = col_double()\n",
            ")\n",
            "\n",
            "R[write to console]: See spec(...) for full column specifications.\n",
            "\n"
          ],
          "name": "stderr"
        },
        {
          "output_type": "stream",
          "text": [
            "[1] 50\n",
            "[1] 25\n",
            "[1] \"/content/drive/My Drive/mhar_paper_samples_2/133_hypercube%1000%3.csv\"\n"
          ],
          "name": "stdout"
        },
        {
          "output_type": "stream",
          "text": [
            "R[write to console]: Parsed with column specification:\n",
            "cols(\n",
            "  `0` = col_double(),\n",
            "  `1` = col_double(),\n",
            "  `2` = col_double()\n",
            ")\n",
            "\n"
          ],
          "name": "stderr"
        },
        {
          "output_type": "stream",
          "text": [
            "[1] 50\n",
            "[1] 3\n",
            "[1] \"/content/drive/My Drive/mhar_paper_samples_2/133_hypercube%1000%50.csv\"\n"
          ],
          "name": "stdout"
        },
        {
          "output_type": "stream",
          "text": [
            "R[write to console]: Parsed with column specification:\n",
            "cols(\n",
            "  .default = col_double()\n",
            ")\n",
            "\n",
            "R[write to console]: See spec(...) for full column specifications.\n",
            "\n"
          ],
          "name": "stderr"
        },
        {
          "output_type": "stream",
          "text": [
            "[1] 50\n",
            "[1] 50\n",
            "[1] \"/content/drive/My Drive/mhar_paper_samples_2/133_simplex%1000%15.csv\"\n"
          ],
          "name": "stdout"
        },
        {
          "output_type": "stream",
          "text": [
            "R[write to console]: Parsed with column specification:\n",
            "cols(\n",
            "  `0` = col_double(),\n",
            "  `1` = col_double(),\n",
            "  `2` = col_double(),\n",
            "  `3` = col_double(),\n",
            "  `4` = col_double(),\n",
            "  `5` = col_double(),\n",
            "  `6` = col_double(),\n",
            "  `7` = col_double(),\n",
            "  `8` = col_double(),\n",
            "  `9` = col_double(),\n",
            "  `10` = col_double(),\n",
            "  `11` = col_double(),\n",
            "  `12` = col_double(),\n",
            "  `13` = col_double(),\n",
            "  `14` = col_double()\n",
            ")\n",
            "\n"
          ],
          "name": "stderr"
        },
        {
          "output_type": "stream",
          "text": [
            "[1] 50\n",
            "[1] 15\n",
            "[1] \"/content/drive/My Drive/mhar_paper_samples_2/133_simplex%1000%25.csv\"\n"
          ],
          "name": "stdout"
        },
        {
          "output_type": "stream",
          "text": [
            "R[write to console]: Parsed with column specification:\n",
            "cols(\n",
            "  .default = col_double()\n",
            ")\n",
            "\n",
            "R[write to console]: See spec(...) for full column specifications.\n",
            "\n"
          ],
          "name": "stderr"
        },
        {
          "output_type": "stream",
          "text": [
            "[1] 50\n",
            "[1] 25\n",
            "[1] \"/content/drive/My Drive/mhar_paper_samples_2/133_simplex%1000%3.csv\"\n"
          ],
          "name": "stdout"
        },
        {
          "output_type": "stream",
          "text": [
            "R[write to console]: Parsed with column specification:\n",
            "cols(\n",
            "  `0` = col_double(),\n",
            "  `1` = col_double(),\n",
            "  `2` = col_double()\n",
            ")\n",
            "\n"
          ],
          "name": "stderr"
        },
        {
          "output_type": "stream",
          "text": [
            "[1] 50\n",
            "[1] 3\n",
            " \"/content/drive/My Drive/mhar_paper_samples_2/133_simplex%1000%50.csv\"\n"
          ],
          "name": "stdout"
        },
        {
          "output_type": "stream",
          "text": [
            "From cffi callback <function _consolewrite_ex at 0x7f184008d8c8>:\n",
            "Traceback (most recent call last):\n",
            "  File \"/usr/local/lib/python3.6/dist-packages/rpy2/rinterface_lib/callbacks.py\", line 125, in _consolewrite_ex\n",
            "    @ffi_proxy.callback(ffi_proxy._consolewrite_ex_def,\n",
            "KeyboardInterrupt\n",
            "R[write to console]: Parsed with column specification:\n",
            "cols(\n",
            "  .default = col_double()\n",
            ")\n",
            "\n",
            "R[write to console]: See spec(...) for full column specifications.\n",
            "\n"
          ],
          "name": "stderr"
        },
        {
          "output_type": "stream",
          "text": [
            "[1] 50\n",
            "[1] 50\n",
            "[1] \"/content/drive/My Drive/mhar_paper_samples_2/1330_hypercube%1000%15.csv\"\n"
          ],
          "name": "stdout"
        },
        {
          "output_type": "stream",
          "text": [
            "R[write to console]: Parsed with column specification:\n",
            "cols(\n",
            "  `0` = col_double(),\n",
            "  `1` = col_double(),\n",
            "  `2` = col_double(),\n",
            "  `3` = col_double(),\n",
            "  `4` = col_double(),\n",
            "  `5` = col_double(),\n",
            "  `6` = col_double(),\n",
            "  `7` = col_double(),\n",
            "  `8` = col_double(),\n",
            "  `9` = col_double(),\n",
            "  `10` = col_double(),\n",
            "  `11` = col_double(),\n",
            "  `12` = col_double(),\n",
            "  `13` = col_double(),\n",
            "  `14` = col_double()\n",
            ")\n",
            "\n"
          ],
          "name": "stderr"
        },
        {
          "output_type": "stream",
          "text": [
            "[1] 50\n",
            "[1] 15\n",
            "[1] \"/content/drive/My Drive/mhar_paper_samples_2/1330_hypercube%1000%25.csv\"\n"
          ],
          "name": "stdout"
        },
        {
          "output_type": "stream",
          "text": [
            "R[write to console]: Parsed with column specification:\n",
            "cols(\n",
            "  .default = col_double()\n",
            ")\n",
            "\n",
            "R[write to console]: See spec(...) for full column specifications.\n",
            "\n"
          ],
          "name": "stderr"
        },
        {
          "output_type": "stream",
          "text": [
            "[1] 50\n",
            "[1] 25\n",
            "[1] \"/content/drive/My Drive/mhar_paper_samples_2/1330_hypercube%1000%3.csv\"\n"
          ],
          "name": "stdout"
        },
        {
          "output_type": "stream",
          "text": [
            "R[write to console]: Parsed with column specification:\n",
            "cols(\n",
            "  `0` = col_double(),\n",
            "  `1` = col_double(),\n",
            "  `2` = col_double()\n",
            ")\n",
            "\n"
          ],
          "name": "stderr"
        },
        {
          "output_type": "stream",
          "text": [
            "[1] 50\n",
            "[1] 3\n",
            "[1] \"/content/drive/My Drive/mhar_paper_samples_2/1330_hypercube%1000%50.csv\"\n"
          ],
          "name": "stdout"
        },
        {
          "output_type": "stream",
          "text": [
            "R[write to console]: Parsed with column specification:\n",
            "cols(\n",
            "  .default = col_double()\n",
            ")\n",
            "\n",
            "R[write to console]: See spec(...) for full column specifications.\n",
            "\n"
          ],
          "name": "stderr"
        },
        {
          "output_type": "stream",
          "text": [
            "[1] 50\n",
            "[1] 50\n",
            " \"/content/drive/My Drive/mhar_paper_samples_2/1330_simplex%1000%15.csv\"\n"
          ],
          "name": "stdout"
        },
        {
          "output_type": "stream",
          "text": [
            "From cffi callback <function _consolewrite_ex at 0x7f184008d8c8>:\n",
            "Traceback (most recent call last):\n",
            "  File \"/usr/local/lib/python3.6/dist-packages/rpy2/rinterface_lib/callbacks.py\", line 125, in _consolewrite_ex\n",
            "    @ffi_proxy.callback(ffi_proxy._consolewrite_ex_def,\n",
            "KeyboardInterrupt\n",
            "R[write to console]: Parsed with column specification:\n",
            "cols(\n",
            "  `0` = col_double(),\n",
            "  `1` = col_double(),\n",
            "  `2` = col_double(),\n",
            "  `3` = col_double(),\n",
            "  `4` = col_double(),\n",
            "  `5` = col_double(),\n",
            "  `6` = col_double(),\n",
            "  `7` = col_double(),\n",
            "  `8` = col_double(),\n",
            "  `9` = col_double(),\n",
            "  `10` = col_double(),\n",
            "  `11` = col_double(),\n",
            "  `12` = col_double(),\n",
            "  `13` = col_double(),\n",
            "  `14` = col_double()\n",
            ")\n",
            "\n"
          ],
          "name": "stderr"
        },
        {
          "output_type": "stream",
          "text": [
            "[1] 50\n",
            "[1] 15\n",
            "[1] \"/content/drive/My Drive/mhar_paper_samples_2/1330_simplex%1000%25.csv\"\n"
          ],
          "name": "stdout"
        },
        {
          "output_type": "stream",
          "text": [
            "R[write to console]: Parsed with column specification:\n",
            "cols(\n",
            "  .default = col_double()\n",
            ")\n",
            "\n",
            "R[write to console]: See spec(...) for full column specifications.\n",
            "\n"
          ],
          "name": "stderr"
        },
        {
          "output_type": "stream",
          "text": [
            "[1] 50\n",
            "[1] 25\n",
            "[1] \"/content/drive/My Drive/mhar_paper_samples_2/1330_simplex%1000%3.csv\"\n"
          ],
          "name": "stdout"
        },
        {
          "output_type": "stream",
          "text": [
            "R[write to console]: Parsed with column specification:\n",
            "cols(\n",
            "  `0` = col_double(),\n",
            "  `1` = col_double(),\n",
            "  `2` = col_double()\n",
            ")\n",
            "\n"
          ],
          "name": "stderr"
        },
        {
          "output_type": "stream",
          "text": [
            "[1] 50\n",
            "[1] 3\n",
            "[1] \"/content/drive/My Drive/mhar_paper_samples_2/1330_simplex%1000%50.csv\"\n"
          ],
          "name": "stdout"
        },
        {
          "output_type": "stream",
          "text": [
            "R[write to console]: Parsed with column specification:\n",
            "cols(\n",
            "  .default = col_double()\n",
            ")\n",
            "\n",
            "R[write to console]: See spec(...) for full column specifications.\n",
            "\n"
          ],
          "name": "stderr"
        },
        {
          "output_type": "stream",
          "text": [
            "[1] 50\n",
            "[1] 50\n",
            "[1] \"/content/drive/My Drive/mhar_paper_samples_2/266_hypercube%1000%15.csv\"\n"
          ],
          "name": "stdout"
        },
        {
          "output_type": "stream",
          "text": [
            "R[write to console]: Parsed with column specification:\n",
            "cols(\n",
            "  `0` = col_double(),\n",
            "  `1` = col_double(),\n",
            "  `2` = col_double(),\n",
            "  `3` = col_double(),\n",
            "  `4` = col_double(),\n",
            "  `5` = col_double(),\n",
            "  `6` = col_double(),\n",
            "  `7` = col_double(),\n",
            "  `8` = col_double(),\n",
            "  `9` = col_double(),\n",
            "  `10` = col_double(),\n",
            "  `11` = col_double(),\n",
            "  `12` = col_double(),\n",
            "  `13` = col_double(),\n",
            "  `14` = col_double()\n",
            ")\n",
            "\n"
          ],
          "name": "stderr"
        },
        {
          "output_type": "stream",
          "text": [
            "[1] 50\n",
            "[1] 15\n",
            "[1] \"/content/drive/My Drive/mhar_paper_samples_2/266_hypercube%1000%25.csv\"\n"
          ],
          "name": "stdout"
        }
      ]
    },
    {
      "cell_type": "code",
      "metadata": {
        "id": "9TXqnhfOnrkf",
        "colab_type": "code",
        "colab": {
          "base_uri": "https://localhost:8080/",
          "height": 1000
        },
        "outputId": "2d8ed21a-3de5-41e1-a85e-67230356cc9c"
      },
      "source": [
        "%%R\n",
        "save_path <- '/content/drive/My Drive/mst_5000/values.csv'\n",
        "\n",
        "# Create random seeds\n",
        "seeds_ <- sample(1:10000000, 1000, replace=T)\n",
        "s<- 1\n",
        "\n",
        "\n",
        "## PArse existing experiments\n",
        "if(!file.exists(save_path)){\n",
        "    existance<- tibble(figure=character(),dim=numeric(), z=numeric(), \n",
        "                          p_value=numeric(),\n",
        "                              nsamp=numeric(), file=character(), perm=numeric(),\n",
        "               seed=numeric()) \n",
        "    \n",
        "}else{\n",
        "    existance <- read.csv(save_path) %>% dplyr::select( -contains('X'))\n",
        "}\n",
        "\n",
        "existance"
      ],
      "execution_count": 44,
      "outputs": [
        {
          "output_type": "stream",
          "text": [
            "      figure dim            z   p_value nsamp\n",
            "1  Hypercube   3  -0.23570226 0.6666667    50\n",
            "2  Hypercube  25   2.12132034 1.0000000    50\n",
            "3  Hypercube  15  -0.90913729 0.3333333    50\n",
            "4  Hypercube  50  -2.12132034 0.3333333    50\n",
            "5  Hypercube   3  -6.04969135 0.3333333    50\n",
            "6  Hypercube  25  -0.84852814 0.3333333    50\n",
            "7  Hypercube  15 -12.72792206 0.3333333    50\n",
            "8  Hypercube  50   4.10121933 1.0000000    50\n",
            "9  Hypercube   3   2.12132034 1.0000000    50\n",
            "10 Hypercube  25  -0.35355339 0.6666667    50\n",
            "11 Hypercube  15  -0.07856742 0.6666667    50\n",
            "12 Hypercube  50   0.10101525 0.6666667    50\n",
            "13 Hypercube   3  -6.78822510 0.3333333    50\n",
            "14 Hypercube  25  -4.24264069 0.3333333    50\n",
            "15 Hypercube  15  -2.82842712 0.3333333    50\n",
            "16 Hypercube  50  -1.88561808 0.3333333    50\n",
            "17 Hypercube   3  -1.41421356 0.3333333    50\n",
            "18 Hypercube  25  -1.41421356 0.3333333    50\n",
            "19 Hypercube  15   2.12132034 1.0000000    50\n",
            "20 Hypercube  50   0.23570226 0.6666667    50\n",
            "21 Hypercube   3 -24.74873734 0.3333333    50\n",
            "22 Hypercube  25  -1.59099026 0.3333333    50\n",
            "23 Hypercube  15  -1.99275547 0.3333333    50\n",
            "24 Hypercube  50  -0.23570226 0.6666667    50\n",
            "25 Hypercube   3   0.53033009 0.6666667    50\n",
            "26 Hypercube  25   0.14142136 0.6666667    50\n",
            "27 Hypercube  15   5.42115199 1.0000000    50\n",
            "28 Hypercube   3  -1.31319831 0.3333333    50\n",
            "                                                                      file perm\n",
            "1   /content/drive/My Drive/mhar_paper_samples_2/1330_hypercube%1000%3.csv   10\n",
            "2  /content/drive/My Drive/mhar_paper_samples_2/1330_hypercube%1000%25.csv   10\n",
            "3  /content/drive/My Drive/mhar_paper_samples_2/1330_hypercube%1000%15.csv   10\n",
            "4     /content/drive/My Drive/mhar_paper_samples_2/133_simplex%1000%50.csv   10\n",
            "5      /content/drive/My Drive/mhar_paper_samples_2/133_simplex%1000%3.csv   10\n",
            "6     /content/drive/My Drive/mhar_paper_samples_2/133_simplex%1000%25.csv   10\n",
            "7     /content/drive/My Drive/mhar_paper_samples_2/133_simplex%1000%15.csv   10\n",
            "8   /content/drive/My Drive/mhar_paper_samples_2/133_hypercube%1000%50.csv   10\n",
            "9    /content/drive/My Drive/mhar_paper_samples_2/133_hypercube%1000%3.csv   10\n",
            "10  /content/drive/My Drive/mhar_paper_samples_2/133_hypercube%1000%25.csv   10\n",
            "11  /content/drive/My Drive/mhar_paper_samples_2/133_hypercube%1000%15.csv   10\n",
            "12   /content/drive/My Drive/mhar_paper_samples_2/1197_simplex%1000%50.csv   10\n",
            "13    /content/drive/My Drive/mhar_paper_samples_2/1197_simplex%1000%3.csv   10\n",
            "14   /content/drive/My Drive/mhar_paper_samples_2/1197_simplex%1000%25.csv   10\n",
            "15   /content/drive/My Drive/mhar_paper_samples_2/1197_simplex%1000%15.csv   10\n",
            "16 /content/drive/My Drive/mhar_paper_samples_2/1197_hypercube%1000%50.csv   10\n",
            "17  /content/drive/My Drive/mhar_paper_samples_2/1197_hypercube%1000%3.csv   10\n",
            "18 /content/drive/My Drive/mhar_paper_samples_2/1197_hypercube%1000%25.csv   10\n",
            "19 /content/drive/My Drive/mhar_paper_samples_2/1197_hypercube%1000%15.csv   10\n",
            "20   /content/drive/My Drive/mhar_paper_samples_2/1064_simplex%1000%50.csv   10\n",
            "21    /content/drive/My Drive/mhar_paper_samples_2/1064_simplex%1000%3.csv   10\n",
            "22   /content/drive/My Drive/mhar_paper_samples_2/1064_simplex%1000%25.csv   10\n",
            "23   /content/drive/My Drive/mhar_paper_samples_2/1064_simplex%1000%15.csv   10\n",
            "24 /content/drive/My Drive/mhar_paper_samples_2/1064_hypercube%1000%50.csv   10\n",
            "25  /content/drive/My Drive/mhar_paper_samples_2/1064_hypercube%1000%3.csv   10\n",
            "26 /content/drive/My Drive/mhar_paper_samples_2/1064_hypercube%1000%25.csv   10\n",
            "27 /content/drive/My Drive/mhar_paper_samples_2/1064_hypercube%1000%15.csv   10\n",
            "28   /content/drive/My Drive/mhar_paper_samples_2/100_hypercube%1000%3.csv   10\n",
            "      seed\n",
            "1  7610429\n",
            "2  7581969\n",
            "3  7310398\n",
            "4  6018227\n",
            "5  8932685\n",
            "6   184356\n",
            "7  2545753\n",
            "8  4036137\n",
            "9  3169986\n",
            "10 5073520\n",
            "11 8194339\n",
            "12 2998696\n",
            "13 7175378\n",
            "14 8766083\n",
            "15 7365328\n",
            "16 6144651\n",
            "17 7800689\n",
            "18 7095262\n",
            "19 3192348\n",
            "20 5074736\n",
            "21 9172337\n",
            "22 9167747\n",
            "23  384649\n",
            "24 4727476\n",
            "25 8051115\n",
            "26 7215425\n",
            "27 4897729\n",
            "28 2232158\n"
          ],
          "name": "stdout"
        }
      ]
    },
    {
      "cell_type": "code",
      "metadata": {
        "id": "XmcwehHloR4R",
        "colab_type": "code",
        "colab": {
          "base_uri": "https://localhost:8080/",
          "height": 1000
        },
        "outputId": "cbf72cf4-ab03-4607-e3fd-7d403ea16c93"
      },
      "source": [
        "%%R\n"
      ],
      "execution_count": 42,
      "outputs": [
        {
          "output_type": "stream",
          "text": [
            "      figure dim            z   p_value nsamp\n",
            "1  Hypercube   3  -0.23570226 0.6666667    50\n",
            "2  Hypercube  25   2.12132034 1.0000000    50\n",
            "3  Hypercube  15  -0.90913729 0.3333333    50\n",
            "4  Hypercube  50  -2.12132034 0.3333333    50\n",
            "5  Hypercube   3  -6.04969135 0.3333333    50\n",
            "6  Hypercube  25  -0.84852814 0.3333333    50\n",
            "7  Hypercube  15 -12.72792206 0.3333333    50\n",
            "8  Hypercube  50   4.10121933 1.0000000    50\n",
            "9  Hypercube   3   2.12132034 1.0000000    50\n",
            "10 Hypercube  25  -0.35355339 0.6666667    50\n",
            "11 Hypercube  15  -0.07856742 0.6666667    50\n",
            "12 Hypercube  50   0.10101525 0.6666667    50\n",
            "13 Hypercube   3  -6.78822510 0.3333333    50\n",
            "14 Hypercube  25  -4.24264069 0.3333333    50\n",
            "15 Hypercube  15  -2.82842712 0.3333333    50\n",
            "16 Hypercube  50  -1.88561808 0.3333333    50\n",
            "17 Hypercube   3  -1.41421356 0.3333333    50\n",
            "18 Hypercube  25  -1.41421356 0.3333333    50\n",
            "19 Hypercube  15   2.12132034 1.0000000    50\n",
            "20 Hypercube  50   0.23570226 0.6666667    50\n",
            "21 Hypercube   3 -24.74873734 0.3333333    50\n",
            "22 Hypercube  25  -1.59099026 0.3333333    50\n",
            "23 Hypercube  15  -1.99275547 0.3333333    50\n",
            "24 Hypercube  50  -0.23570226 0.6666667    50\n",
            "25 Hypercube   3   0.53033009 0.6666667    50\n",
            "26 Hypercube  25   0.14142136 0.6666667    50\n",
            "27 Hypercube  15   5.42115199 1.0000000    50\n",
            "28 Hypercube   3  -1.31319831 0.3333333    50\n",
            "                                                                      file perm\n",
            "1   /content/drive/My Drive/mhar_paper_samples_2/1330_hypercube%1000%3.csv   10\n",
            "2  /content/drive/My Drive/mhar_paper_samples_2/1330_hypercube%1000%25.csv   10\n",
            "3  /content/drive/My Drive/mhar_paper_samples_2/1330_hypercube%1000%15.csv   10\n",
            "4     /content/drive/My Drive/mhar_paper_samples_2/133_simplex%1000%50.csv   10\n",
            "5      /content/drive/My Drive/mhar_paper_samples_2/133_simplex%1000%3.csv   10\n",
            "6     /content/drive/My Drive/mhar_paper_samples_2/133_simplex%1000%25.csv   10\n",
            "7     /content/drive/My Drive/mhar_paper_samples_2/133_simplex%1000%15.csv   10\n",
            "8   /content/drive/My Drive/mhar_paper_samples_2/133_hypercube%1000%50.csv   10\n",
            "9    /content/drive/My Drive/mhar_paper_samples_2/133_hypercube%1000%3.csv   10\n",
            "10  /content/drive/My Drive/mhar_paper_samples_2/133_hypercube%1000%25.csv   10\n",
            "11  /content/drive/My Drive/mhar_paper_samples_2/133_hypercube%1000%15.csv   10\n",
            "12   /content/drive/My Drive/mhar_paper_samples_2/1197_simplex%1000%50.csv   10\n",
            "13    /content/drive/My Drive/mhar_paper_samples_2/1197_simplex%1000%3.csv   10\n",
            "14   /content/drive/My Drive/mhar_paper_samples_2/1197_simplex%1000%25.csv   10\n",
            "15   /content/drive/My Drive/mhar_paper_samples_2/1197_simplex%1000%15.csv   10\n",
            "16 /content/drive/My Drive/mhar_paper_samples_2/1197_hypercube%1000%50.csv   10\n",
            "17  /content/drive/My Drive/mhar_paper_samples_2/1197_hypercube%1000%3.csv   10\n",
            "18 /content/drive/My Drive/mhar_paper_samples_2/1197_hypercube%1000%25.csv   10\n",
            "19 /content/drive/My Drive/mhar_paper_samples_2/1197_hypercube%1000%15.csv   10\n",
            "20   /content/drive/My Drive/mhar_paper_samples_2/1064_simplex%1000%50.csv   10\n",
            "21    /content/drive/My Drive/mhar_paper_samples_2/1064_simplex%1000%3.csv   10\n",
            "22   /content/drive/My Drive/mhar_paper_samples_2/1064_simplex%1000%25.csv   10\n",
            "23   /content/drive/My Drive/mhar_paper_samples_2/1064_simplex%1000%15.csv   10\n",
            "24 /content/drive/My Drive/mhar_paper_samples_2/1064_hypercube%1000%50.csv   10\n",
            "25  /content/drive/My Drive/mhar_paper_samples_2/1064_hypercube%1000%3.csv   10\n",
            "26 /content/drive/My Drive/mhar_paper_samples_2/1064_hypercube%1000%25.csv   10\n",
            "27 /content/drive/My Drive/mhar_paper_samples_2/1064_hypercube%1000%15.csv   10\n",
            "28   /content/drive/My Drive/mhar_paper_samples_2/100_hypercube%1000%3.csv   10\n",
            "      seed\n",
            "1  7610429\n",
            "2  7581969\n",
            "3  7310398\n",
            "4  6018227\n",
            "5  8932685\n",
            "6   184356\n",
            "7  2545753\n",
            "8  4036137\n",
            "9  3169986\n",
            "10 5073520\n",
            "11 8194339\n",
            "12 2998696\n",
            "13 7175378\n",
            "14 8766083\n",
            "15 7365328\n",
            "16 6144651\n",
            "17 7800689\n",
            "18 7095262\n",
            "19 3192348\n",
            "20 5074736\n",
            "21 9172337\n",
            "22 9167747\n",
            "23  384649\n",
            "24 4727476\n",
            "25 8051115\n",
            "26 7215425\n",
            "27 4897729\n",
            "28 2232158\n"
          ],
          "name": "stdout"
        }
      ]
    }
  ]
}