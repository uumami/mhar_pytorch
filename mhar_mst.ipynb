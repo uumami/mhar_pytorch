{
  "nbformat": 4,
  "nbformat_minor": 0,
  "metadata": {
    "colab": {
      "name": "mhar_mst.ipynb",
      "provenance": [],
      "collapsed_sections": [],
      "machine_shape": "hm"
    },
    "kernelspec": {
      "name": "python3",
      "display_name": "Python 3"
    }
  },
  "cells": [
    {
      "cell_type": "code",
      "metadata": {
        "id": "jmgZgK5oURv6",
        "colab_type": "code",
        "colab": {
          "base_uri": "https://localhost:8080/",
          "height": 54
        },
        "outputId": "f846abca-9cf8-4db7-d709-79f4d5e805fc"
      },
      "source": [
        "'''\n",
        "function ClickConnect(){\n",
        "console.log(\"Working\"); \n",
        "document.querySelector(\"colab-toolbar-button#connect\").click() \n",
        "}\n",
        "setInterval(ClickConnect,60000)\n",
        "'''"
      ],
      "execution_count": 37,
      "outputs": [
        {
          "output_type": "execute_result",
          "data": {
            "application/vnd.google.colaboratory.intrinsic+json": {
              "type": "string"
            },
            "text/plain": [
              "'\\nfunction ClickConnect(){\\nconsole.log(\"Working\"); \\ndocument.querySelector(\"colab-toolbar-button#connect\").click() \\n}\\nsetInterval(ClickConnect,60000)\\n'"
            ]
          },
          "metadata": {
            "tags": []
          },
          "execution_count": 37
        }
      ]
    },
    {
      "cell_type": "code",
      "metadata": {
        "id": "Px-sNHUF1DXX",
        "colab_type": "code",
        "colab": {
          "base_uri": "https://localhost:8080/",
          "height": 35
        },
        "outputId": "0cc6300c-8bdf-4ec9-f670-7f971d9a0a90"
      },
      "source": [
        "from google.colab import drive\n",
        "drive.mount('/content/drive')"
      ],
      "execution_count": 38,
      "outputs": [
        {
          "output_type": "stream",
          "text": [
            "Drive already mounted at /content/drive; to attempt to forcibly remount, call drive.mount(\"/content/drive\", force_remount=True).\n"
          ],
          "name": "stdout"
        }
      ]
    },
    {
      "cell_type": "code",
      "metadata": {
        "id": "DyaVLFWwA7fC",
        "colab_type": "code",
        "colab": {
          "base_uri": "https://localhost:8080/",
          "height": 880
        },
        "outputId": "acd7b587-ede7-406a-d815-25ffc55226a2"
      },
      "source": [
        "!cat /proc/meminfo"
      ],
      "execution_count": 39,
      "outputs": [
        {
          "output_type": "stream",
          "text": [
            "MemTotal:       26751700 kB\n",
            "MemFree:          342384 kB\n",
            "MemAvailable:   16535464 kB\n",
            "Buffers:           32876 kB\n",
            "Cached:           373596 kB\n",
            "SwapCached:            0 kB\n",
            "Active:         14370120 kB\n",
            "Inactive:       11714496 kB\n",
            "Active(anon):    9608828 kB\n",
            "Inactive(anon):      368 kB\n",
            "Active(file):    4761292 kB\n",
            "Inactive(file): 11714128 kB\n",
            "Unevictable:           0 kB\n",
            "Mlocked:               0 kB\n",
            "SwapTotal:             0 kB\n",
            "SwapFree:              0 kB\n",
            "Dirty:               160 kB\n",
            "Writeback:             0 kB\n",
            "AnonPages:      25678428 kB\n",
            "Mapped:           205636 kB\n",
            "Shmem:               928 kB\n",
            "Slab:             136456 kB\n",
            "SReclaimable:      82196 kB\n",
            "SUnreclaim:        54260 kB\n",
            "KernelStack:        4512 kB\n",
            "PageTables:        58608 kB\n",
            "NFS_Unstable:          0 kB\n",
            "Bounce:                0 kB\n",
            "WritebackTmp:          0 kB\n",
            "CommitLimit:    13375848 kB\n",
            "Committed_AS:   29841084 kB\n",
            "VmallocTotal:   34359738367 kB\n",
            "VmallocUsed:           0 kB\n",
            "VmallocChunk:          0 kB\n",
            "Percpu:             1840 kB\n",
            "AnonHugePages:         0 kB\n",
            "ShmemHugePages:        0 kB\n",
            "ShmemPmdMapped:        0 kB\n",
            "HugePages_Total:       0\n",
            "HugePages_Free:        0\n",
            "HugePages_Rsvd:        0\n",
            "HugePages_Surp:        0\n",
            "Hugepagesize:       2048 kB\n",
            "Hugetlb:               0 kB\n",
            "DirectMap4k:      103612 kB\n",
            "DirectMap2M:     6187008 kB\n",
            "DirectMap1G:    23068672 kB\n"
          ],
          "name": "stdout"
        }
      ]
    },
    {
      "cell_type": "code",
      "metadata": {
        "id": "YWofhGRB1ma1",
        "colab_type": "code",
        "colab": {
          "base_uri": "https://localhost:8080/",
          "height": 54
        },
        "outputId": "74da6947-7e8a-4391-d483-a84e8261bc4d"
      },
      "source": [
        "%load_ext rpy2.ipython"
      ],
      "execution_count": 40,
      "outputs": [
        {
          "output_type": "stream",
          "text": [
            "The rpy2.ipython extension is already loaded. To reload it, use:\n",
            "  %reload_ext rpy2.ipython\n"
          ],
          "name": "stdout"
        }
      ]
    },
    {
      "cell_type": "code",
      "metadata": {
        "id": "9gjkOa0r2IDv",
        "colab_type": "code",
        "colab": {
          "base_uri": "https://localhost:8080/",
          "height": 1000
        },
        "outputId": "7901833f-95e9-4c42-e5da-59c409ef29cf"
      },
      "source": [
        "%%R\n",
        "if (!requireNamespace(\"BiocManager\", quietly = TRUE))\n",
        "install.packages(\"BiocManager\")\n",
        "BiocManager::install(\"GSAR\")"
      ],
      "execution_count": 41,
      "outputs": [
        {
          "output_type": "stream",
          "text": [
            "R[write to console]: Bioconductor version 3.10 (BiocManager 1.30.10), R 3.6.3 (2020-02-29)\n",
            "\n",
            "R[write to console]: Installing package(s) 'GSAR'\n",
            "\n",
            "R[write to console]: trying URL 'https://bioconductor.org/packages/3.10/bioc/src/contrib/GSAR_1.20.0.tar.gz'\n",
            "\n",
            "R[write to console]: Content type 'application/x-gzip'\n",
            "R[write to console]:  length 2185168 bytes (2.1 MB)\n",
            "\n",
            "R[write to console]: =\n",
            "R[write to console]: =\n",
            "R[write to console]: =\n",
            "R[write to console]: =\n",
            "R[write to console]: =\n",
            "R[write to console]: =\n",
            "R[write to console]: =\n",
            "R[write to console]: =\n",
            "R[write to console]: =\n",
            "R[write to console]: =\n",
            "R[write to console]: =\n",
            "R[write to console]: =\n",
            "R[write to console]: =\n",
            "R[write to console]: =\n",
            "R[write to console]: =\n",
            "R[write to console]: =\n",
            "R[write to console]: =\n",
            "R[write to console]: =\n",
            "R[write to console]: =\n",
            "R[write to console]: =\n",
            "R[write to console]: =\n",
            "R[write to console]: =\n",
            "R[write to console]: =\n",
            "R[write to console]: =\n",
            "R[write to console]: =\n",
            "R[write to console]: =\n",
            "R[write to console]: =\n",
            "R[write to console]: =\n",
            "R[write to console]: =\n",
            "R[write to console]: =\n",
            "R[write to console]: =\n",
            "R[write to console]: =\n",
            "R[write to console]: =\n",
            "R[write to console]: =\n",
            "R[write to console]: =\n",
            "R[write to console]: =\n",
            "R[write to console]: =\n",
            "R[write to console]: =\n",
            "R[write to console]: =\n",
            "R[write to console]: =\n",
            "R[write to console]: =\n",
            "R[write to console]: =\n",
            "R[write to console]: =\n",
            "R[write to console]: =\n",
            "R[write to console]: =\n",
            "R[write to console]: =\n",
            "R[write to console]: =\n",
            "R[write to console]: =\n",
            "R[write to console]: =\n",
            "R[write to console]: =\n",
            "R[write to console]: \n",
            "\n",
            "R[write to console]: downloaded 2.1 MB\n",
            "\n",
            "\n",
            "R[write to console]: \n",
            "\n",
            "R[write to console]: \n",
            "R[write to console]: The downloaded source packages are in\n",
            "\t‘/tmp/RtmpAzoTyN/downloaded_packages’\n",
            "R[write to console]: \n",
            "R[write to console]: \n",
            "\n",
            "R[write to console]: Old packages: 'curl', 'dplyr', 'farver', 'fs', 'rex', 'rprojroot', 'tidyr',\n",
            "  'nlme'\n",
            "\n"
          ],
          "name": "stderr"
        }
      ]
    },
    {
      "cell_type": "code",
      "metadata": {
        "id": "VAtaIVAC2b29",
        "colab_type": "code",
        "colab": {}
      },
      "source": [
        "%%R\n",
        "library(tidyverse)\n",
        "library(MASS)\n",
        "library(GSAR)\n",
        "library(parallel)"
      ],
      "execution_count": 42,
      "outputs": []
    },
    {
      "cell_type": "code",
      "metadata": {
        "id": "JpiqdMoW2xPp",
        "colab_type": "code",
        "colab": {}
      },
      "source": [
        "%%R\n",
        "\n",
        "# Simplex sample generator\n",
        "simplex_gen  <- function(n, samples){\n",
        "    simplex_out  <- matrix(, nrow = samples, ncol = n)\n",
        "    for(r in c(1:samples)){\n",
        "        sample  <- runif(n-1,0,1)  %>%  \n",
        "                    sort(decreasing=FALSE)\n",
        "        sample  <- append(0.0, sample)  %>% \n",
        "                    append(1.0)\n",
        "        sample  <- sample[-1] - sample\n",
        "        sample  <- sample[1:n]\n",
        "\n",
        "        simplex_out[r,]  <- sample\n",
        "     }\n",
        "    return(simplex_out)\n",
        "}\n",
        "\n",
        "# Genberate hypercube\n",
        "hyper_gen  <- function(n, samples){\n",
        "    simplex_out  <- matrix(, nrow = samples, ncol = n)\n",
        "    for(r in c(1:samples)){\n",
        "        sample  <- runif(n,-1,1) \n",
        "        sample  <- sample[1:n]\n",
        "        simplex_out[r,]  <- sample\n",
        "     }\n",
        "    return(simplex_out)\n",
        "}\n",
        "\n",
        "# MST for simplex\n",
        "mst <- function(file_, nsamp=10000, perm=50){\n",
        "    # Read files with samples\n",
        "    df_  <- read_csv(file_)  %>%  \n",
        "    dplyr::select(starts_with('x_'))  %>% \n",
        "    sample_n(size=nsamp, replace=FALSE)\n",
        "    # Get dim of the read file\n",
        "    n_rows  <- dim(df_)[1]\n",
        "    n_cols  <- dim(df_)[2]\n",
        "        if (n_rows > (nsamp-1)){\n",
        "        simplex_sample  <- suppressWarnings(simplex_gen(n_cols,n_rows))\n",
        "        \n",
        "        df_  <- df_  %>% \n",
        "                data.matrix()   %>% \n",
        "                unname()\n",
        "        \n",
        "        df_  <- rbind(df_, simplex_sample)  \n",
        "        df_  <- df_ %>% \n",
        "                aperm(c(2,1)) \n",
        "        result <- WWtest(object=df_, group=c(rep(1, n_rows),rep(2, n_rows)),\n",
        "                         nperm=perm, pvalue.only=FALSE)\n",
        "        z_df  <- tibble(dim=n_cols, z=result$statistic, \n",
        "                        p_value=result$p.value,\n",
        "                             nsamp=nsamp)\n",
        "        gc()\n",
        "        return(z_df)\n",
        "        \n",
        "    }\n",
        "    \n",
        "}\n"
      ],
      "execution_count": 43,
      "outputs": []
    },
    {
      "cell_type": "code",
      "metadata": {
        "id": "y0KM3rXkiZsh",
        "colab_type": "code",
        "colab": {}
      },
      "source": [
        "%%R\n",
        "path  <- '/content/drive/My Drive/mhar_paper_samples_2/'\n",
        "set.seed(5)\n",
        "files <- list.files(path)\n",
        "files  <- paste(path, files, sep='')\n",
        "\n",
        "# Extract dimenions\n",
        "m <- regexpr(\"%[0-9]+.csv\", files, perl=TRUE)\n",
        "dimension <- regmatches(files, m)\n",
        "m <- regexpr(\"[0-9]+\", dimension, perl=TRUE)\n",
        "dimension <- regmatches(dimension, m)\n",
        "dimension\n",
        "\n",
        "#Extract figure\n",
        "m <- regexpr(\"[0-9]+_[a-z]+%\", files, perl=TRUE)\n",
        "figure <- regmatches(files, m)\n",
        "m <- regexpr(\"[a-z]+\", figure, perl=TRUE)\n",
        "figure <- regmatches(figure, m)\n",
        "figure\n",
        "\n",
        "# Extract seed\n",
        "m <- regexpr(\"/[0-9]+_\", files, perl=TRUE)\n",
        "sed <- regmatches(files, m)\n",
        "m <- regexpr(\"[0-9]+\", sed, perl=TRUE)\n",
        "sed <- regmatches(sed, m)\n",
        "\n",
        "df_simulations <- tibble(file=files, n=dimension, figure=figure, seed=sed)"
      ],
      "execution_count": 44,
      "outputs": []
    },
    {
      "cell_type": "code",
      "metadata": {
        "id": "sp1WquUZcc4O",
        "colab_type": "code",
        "colab": {
          "base_uri": "https://localhost:8080/",
          "height": 274
        },
        "outputId": "031b7707-3722-4ac5-e290-9ea10653be91"
      },
      "source": [
        "%%R\n",
        "df_simulations"
      ],
      "execution_count": 45,
      "outputs": [
        {
          "output_type": "stream",
          "text": [
            "# A tibble: 81 x 4\n",
            "   file                                                     n     figure   seed \n",
            "   <chr>                                                    <chr> <chr>    <chr>\n",
            " 1 /content/drive/My Drive/mhar_paper_samples_2/100_hyperc… 3     hypercu… 100  \n",
            " 2 /content/drive/My Drive/mhar_paper_samples_2/1064_hyper… 15    hypercu… 1064 \n",
            " 3 /content/drive/My Drive/mhar_paper_samples_2/1064_hyper… 25    hypercu… 1064 \n",
            " 4 /content/drive/My Drive/mhar_paper_samples_2/1064_hyper… 3     hypercu… 1064 \n",
            " 5 /content/drive/My Drive/mhar_paper_samples_2/1064_hyper… 50    hypercu… 1064 \n",
            " 6 /content/drive/My Drive/mhar_paper_samples_2/1064_simpl… 15    simplex  1064 \n",
            " 7 /content/drive/My Drive/mhar_paper_samples_2/1064_simpl… 25    simplex  1064 \n",
            " 8 /content/drive/My Drive/mhar_paper_samples_2/1064_simpl… 3     simplex  1064 \n",
            " 9 /content/drive/My Drive/mhar_paper_samples_2/1064_simpl… 50    simplex  1064 \n",
            "10 /content/drive/My Drive/mhar_paper_samples_2/1197_hyper… 15    hypercu… 1197 \n",
            "# … with 71 more rows\n"
          ],
          "name": "stdout"
        }
      ]
    },
    {
      "cell_type": "code",
      "metadata": {
        "id": "D5eOYnCxpHlG",
        "colab_type": "code",
        "colab": {
          "base_uri": "https://localhost:8080/",
          "height": 201
        },
        "outputId": "f6eacc2d-405f-4326-9bf0-8c907a06b0a3"
      },
      "source": [
        "%%R\n",
        "\n",
        "save_path <- '/drive/My Drive/mst_5000/p100_mst_first_7000.csv'\n",
        "\n",
        "# Create random seeds\n",
        "seeds_ <- sample(1:10000000, 1000, replace=T)\n",
        "s<- 1\n",
        "\n",
        "\n",
        "## PArse existing experiments\n",
        "if(!file.exists(save_path)){\n",
        "    existance<- tibble(figure=character(),dim=numeric(), z=numeric(), \n",
        "                          p_value=numeric(),\n",
        "                              nsamp=numeric(), file=character(), perm=numeric(),\n",
        "               seed=numeric()) \n",
        "    \n",
        "}else{\n",
        "    existance <- read.csv(save_path) %>% dplyr::select( -contains('X'))\n",
        "}\n",
        "\n",
        "z_df <- existance\n",
        "\n",
        "for(f in files){\n",
        "  # Set hyperparameters\n",
        "  set.seed(seeds_[s])\n",
        "  file_name <- f\n",
        "  perm <- 100\n",
        "  n_sample <-7000\n",
        "  print(file_name)\n",
        "  df_  <- read_csv(file_name)\n",
        "  df_ <- df_[c(1:n_sample),]\n",
        "  # Get dim of the read file\n",
        "  n_rows  <- dim(df_)[1]\n",
        "  n_cols  <- dim(df_)[2]\n",
        "  print(n_rows)\n",
        "  print(n_cols)\n",
        "\n",
        "  # Check if the experiment already runned\n",
        "  check_df <- FALSE\n",
        "  if(f %in% existance$f){\n",
        "  check_df <- existance %>% filter(file==f)\n",
        "  check_df <- (check_df$dim == n_cols) && (check_df$nsamp == n_sample)  && (check_df$perm == perm)\n",
        "  }\n",
        "\n",
        "  check_df <- !check_df\n",
        "\n",
        "  if(check_df){\n",
        "    if (grepl('hyper', f, fixed = TRUE)){\n",
        "    real_sample  <- suppressWarnings(hyper_gen(n_cols,n_rows))\n",
        "    typ <- 'Hypercube'\n",
        "  }\n",
        "  if (grepl('simplex', f, fixed = TRUE)){\n",
        "    real_sample  <- suppressWarnings(simplex_gen(n_cols,n_rows))\n",
        "    typ <- 'Simplex'\n",
        "  }\n",
        "\n",
        "  df_  <- df_  %>% data.matrix()   %>% unname()\n",
        "          \n",
        "  df_  <- rbind(df_, real_sample)  \n",
        "  df_  <- df_ %>% aperm(c(2,1)) \n",
        "  dim(df_)\n",
        "  result <- WWtest(object=df_, group=c(rep(1, n_rows),rep(2, n_rows)),\n",
        "                          nperm=2, pvalue.only=FALSE)\n",
        "  z_df  <- tibble(figure=typ,dim=n_cols, z=result$statistic, \n",
        "                          p_value=result$p.value,\n",
        "                              nsamp=n_sample, file=f, perm=perm, \n",
        "                  seed=seeds_[s]) %>% rbind(z_df)\n",
        "  z_df %>% write.csv(save_path)\n",
        "  gc()  \n",
        "  \n",
        "  }\n",
        "  #Increment seed index\n",
        "  s <- s + 1 \n",
        "}\n",
        "\n",
        "\n"
      ],
      "execution_count": null,
      "outputs": [
        {
          "output_type": "stream",
          "text": [
            "[1] \"/content/drive/My Drive/mhar_paper_samples_2/100_hypercube%1000%3.csv\"\n"
          ],
          "name": "stdout"
        },
        {
          "output_type": "stream",
          "text": [
            "R[write to console]: Parsed with column specification:\n",
            "cols(\n",
            "  `0` = col_double(),\n",
            "  `1` = col_double(),\n",
            "  `2` = col_double()\n",
            ")\n",
            "\n"
          ],
          "name": "stderr"
        },
        {
          "output_type": "stream",
          "text": [
            "[1] 7000\n",
            "[1] 3\n"
          ],
          "name": "stdout"
        }
      ]
    },
    {
      "cell_type": "code",
      "metadata": {
        "id": "Rdn2BSPV7_si",
        "colab_type": "code",
        "colab": {}
      },
      "source": [
        "%%R\n",
        "\n",
        "save_path <- '/content/drive/My Drive/mst_5000/p100_mst_last_7000.csv'\n",
        "\n",
        "# Create random seeds\n",
        "seeds_ <- sample(1:10000000, 1000, replace=T)\n",
        "s<- 1\n",
        "\n",
        "\n",
        "## PArse existing experiments\n",
        "if(!file.exists(save_path)){\n",
        "    existance<- tibble(figure=character(),dim=numeric(), z=numeric(), \n",
        "                          p_value=numeric(),\n",
        "                              nsamp=numeric(), file=character(), perm=numeric(),\n",
        "               seed=numeric()) \n",
        "    \n",
        "}else{\n",
        "    existance <- read.csv(save_path) %>% dplyr::select( -contains('X'))\n",
        "}\n",
        "\n",
        "z_df <- existance\n",
        "\n",
        "for(f in files){\n",
        "  # Set hyperparameters\n",
        "  set.seed(seeds_[s])\n",
        "  file_name <- f\n",
        "  perm <- 100\n",
        "  n_sample <-7000\n",
        "  print(file_name)\n",
        "  df_  <- read_csv(file_name)\n",
        "  df_ <- df_[c(3000:10000),]\n",
        "  # Get dim of the read file\n",
        "  n_rows  <- dim(df_)[1]\n",
        "  n_cols  <- dim(df_)[2]\n",
        "  print(n_rows)\n",
        "  print(n_cols)\n",
        "\n",
        "  # Check if the experiment already runned\n",
        "  check_df <- FALSE\n",
        "  if(f %in% existance$f){\n",
        "  check_df <- existance %>% filter(file==f)\n",
        "  check_df <- (check_df$dim == n_cols) && (check_df$nsamp == n_sample)  && (check_df$perm == perm)\n",
        "  }\n",
        "\n",
        "  check_df <- !check_df\n",
        "\n",
        "  if(check_df){\n",
        "    if (grepl('hyper', f, fixed = TRUE)){\n",
        "    real_sample  <- suppressWarnings(hyper_gen(n_cols,n_rows))\n",
        "    typ <- 'Hypercube'\n",
        "  }\n",
        "  if (grepl('simplex', f, fixed = TRUE)){\n",
        "    real_sample  <- suppressWarnings(simplex_gen(n_cols,n_rows))\n",
        "    typ <- 'Simplex'\n",
        "  }\n",
        "\n",
        "  df_  <- df_  %>% data.matrix()   %>% unname()\n",
        "          \n",
        "  df_  <- rbind(df_, real_sample)  \n",
        "  df_  <- df_ %>% aperm(c(2,1)) \n",
        "  dim(df_)\n",
        "  result <- WWtest(object=df_, group=c(rep(1, n_rows),rep(2, n_rows)),\n",
        "                          nperm=2, pvalue.only=FALSE)\n",
        "  z_df  <- tibble(figure=typ,dim=n_cols, z=result$statistic, \n",
        "                          p_value=result$p.value,\n",
        "                              nsamp=n_sample, file=f, perm=perm, \n",
        "                  seed=seeds_[s]) %>% rbind(z_df)\n",
        "  z_df %>% write.csv(save_path)\n",
        "  gc()  \n",
        "  \n",
        "  }\n",
        "  #Increment seed index\n",
        "  s <- s + 1 \n",
        "}\n",
        "\n",
        "\n"
      ],
      "execution_count": null,
      "outputs": []
    }
  ]
}