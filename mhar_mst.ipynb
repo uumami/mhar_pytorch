{
  "nbformat": 4,
  "nbformat_minor": 0,
  "metadata": {
    "colab": {
      "name": "mhar_mst.ipynb",
      "provenance": [],
      "collapsed_sections": [],
      "machine_shape": "hm"
    },
    "kernelspec": {
      "name": "python3",
      "display_name": "Python 3"
    },
    "accelerator": "TPU"
  },
  "cells": [
    {
      "cell_type": "code",
      "metadata": {
        "id": "Px-sNHUF1DXX",
        "colab_type": "code",
        "colab": {
          "base_uri": "https://localhost:8080/",
          "height": 35
        },
        "outputId": "64d7faed-604c-4618-ce10-d910d2de3e04"
      },
      "source": [
        "from google.colab import drive\n",
        "drive.mount('/content/drive')"
      ],
      "execution_count": null,
      "outputs": [
        {
          "output_type": "stream",
          "text": [
            "Drive already mounted at /content/drive; to attempt to forcibly remount, call drive.mount(\"/content/drive\", force_remount=True).\n"
          ],
          "name": "stdout"
        }
      ]
    },
    {
      "cell_type": "code",
      "metadata": {
        "id": "DyaVLFWwA7fC",
        "colab_type": "code",
        "colab": {
          "base_uri": "https://localhost:8080/",
          "height": 880
        },
        "outputId": "f76c26ef-ec81-4d28-e6ca-e11405d6ee7d"
      },
      "source": [
        "!cat /proc/meminfo"
      ],
      "execution_count": null,
      "outputs": [
        {
          "output_type": "stream",
          "text": [
            "MemTotal:       37066884 kB\n",
            "MemFree:        33655452 kB\n",
            "MemAvailable:   35500700 kB\n",
            "Buffers:           79648 kB\n",
            "Cached:          2041056 kB\n",
            "SwapCached:            0 kB\n",
            "Active:           807616 kB\n",
            "Inactive:        1787712 kB\n",
            "Active(anon):     442740 kB\n",
            "Inactive(anon):      344 kB\n",
            "Active(file):     364876 kB\n",
            "Inactive(file):  1787368 kB\n",
            "Unevictable:           0 kB\n",
            "Mlocked:               0 kB\n",
            "SwapTotal:             0 kB\n",
            "SwapFree:              0 kB\n",
            "Dirty:               284 kB\n",
            "Writeback:             0 kB\n",
            "AnonPages:        474792 kB\n",
            "Mapped:           247988 kB\n",
            "Shmem:               904 kB\n",
            "Slab:             400876 kB\n",
            "SReclaimable:     174316 kB\n",
            "SUnreclaim:       226560 kB\n",
            "KernelStack:       14280 kB\n",
            "PageTables:         8560 kB\n",
            "NFS_Unstable:          0 kB\n",
            "Bounce:                0 kB\n",
            "WritebackTmp:          0 kB\n",
            "CommitLimit:    18533440 kB\n",
            "Committed_AS:    8118364 kB\n",
            "VmallocTotal:   34359738367 kB\n",
            "VmallocUsed:           0 kB\n",
            "VmallocChunk:          0 kB\n",
            "Percpu:            18400 kB\n",
            "AnonHugePages:         0 kB\n",
            "ShmemHugePages:        0 kB\n",
            "ShmemPmdMapped:        0 kB\n",
            "HugePages_Total:       0\n",
            "HugePages_Free:        0\n",
            "HugePages_Rsvd:        0\n",
            "HugePages_Surp:        0\n",
            "Hugepagesize:       2048 kB\n",
            "Hugetlb:               0 kB\n",
            "DirectMap4k:      187576 kB\n",
            "DirectMap2M:     7151616 kB\n",
            "DirectMap1G:    32505856 kB\n"
          ],
          "name": "stdout"
        }
      ]
    },
    {
      "cell_type": "code",
      "metadata": {
        "id": "YWofhGRB1ma1",
        "colab_type": "code",
        "colab": {
          "base_uri": "https://localhost:8080/",
          "height": 110
        },
        "outputId": "7409e68e-0e0d-4a29-f63b-0e79b0f7d25e"
      },
      "source": [
        "%load_ext rpy2.ipython"
      ],
      "execution_count": null,
      "outputs": [
        {
          "output_type": "stream",
          "text": [
            "/usr/local/lib/python3.6/dist-packages/rpy2/robjects/pandas2ri.py:14: FutureWarning: pandas.core.index is deprecated and will be removed in a future version.  The public classes are available in the top-level namespace.\n",
            "  from pandas.core.index import Index as PandasIndex\n",
            "/usr/local/lib/python3.6/dist-packages/rpy2/robjects/pandas2ri.py:34: UserWarning: pandas >= 1.0 is not supported.\n",
            "  warnings.warn('pandas >= 1.0 is not supported.')\n"
          ],
          "name": "stderr"
        }
      ]
    },
    {
      "cell_type": "code",
      "metadata": {
        "id": "9gjkOa0r2IDv",
        "colab_type": "code",
        "colab": {
          "base_uri": "https://localhost:8080/",
          "height": 1000
        },
        "outputId": "25763e0a-4d0d-4811-880f-cebe1bf70b16"
      },
      "source": [
        "%%R\n",
        "if (!requireNamespace(\"BiocManager\", quietly = TRUE))\n",
        "install.packages(\"BiocManager\")\n",
        "BiocManager::install(\"GSAR\")"
      ],
      "execution_count": null,
      "outputs": [
        {
          "output_type": "stream",
          "text": [
            "R[write to console]: Installing package into ‘/usr/local/lib/R/site-library’\n",
            "(as ‘lib’ is unspecified)\n",
            "\n",
            "R[write to console]: trying URL 'https://cran.rstudio.com/src/contrib/BiocManager_1.30.10.tar.gz'\n",
            "\n",
            "R[write to console]: Content type 'application/x-gzip'\n",
            "R[write to console]:  length 40205 bytes (39 KB)\n",
            "\n",
            "R[write to console]: =\n",
            "R[write to console]: =\n",
            "R[write to console]: =\n",
            "R[write to console]: =\n",
            "R[write to console]: =\n",
            "R[write to console]: =\n",
            "R[write to console]: =\n",
            "R[write to console]: =\n",
            "R[write to console]: =\n",
            "R[write to console]: =\n",
            "R[write to console]: =\n",
            "R[write to console]: =\n",
            "R[write to console]: =\n",
            "R[write to console]: =\n",
            "R[write to console]: =\n",
            "R[write to console]: =\n",
            "R[write to console]: =\n",
            "R[write to console]: =\n",
            "R[write to console]: =\n",
            "R[write to console]: =\n",
            "R[write to console]: =\n",
            "R[write to console]: =\n",
            "R[write to console]: =\n",
            "R[write to console]: =\n",
            "R[write to console]: =\n",
            "R[write to console]: =\n",
            "R[write to console]: =\n",
            "R[write to console]: =\n",
            "R[write to console]: =\n",
            "R[write to console]: =\n",
            "R[write to console]: =\n",
            "R[write to console]: =\n",
            "R[write to console]: =\n",
            "R[write to console]: =\n",
            "R[write to console]: =\n",
            "R[write to console]: =\n",
            "R[write to console]: =\n",
            "R[write to console]: =\n",
            "R[write to console]: =\n",
            "R[write to console]: =\n",
            "R[write to console]: =\n",
            "R[write to console]: =\n",
            "R[write to console]: =\n",
            "R[write to console]: =\n",
            "R[write to console]: =\n",
            "R[write to console]: =\n",
            "R[write to console]: =\n",
            "R[write to console]: =\n",
            "R[write to console]: =\n",
            "R[write to console]: =\n",
            "R[write to console]: \n",
            "\n",
            "R[write to console]: downloaded 39 KB\n",
            "\n",
            "\n"
          ],
          "name": "stderr"
        }
      ]
    },
    {
      "cell_type": "code",
      "metadata": {
        "id": "VAtaIVAC2b29",
        "colab_type": "code",
        "colab": {}
      },
      "source": [
        "%%R\n",
        "library(tidyverse)\n",
        "library(MASS)\n",
        "library(GSAR)\n",
        "library(parallel)"
      ],
      "execution_count": null,
      "outputs": []
    },
    {
      "cell_type": "code",
      "metadata": {
        "id": "JpiqdMoW2xPp",
        "colab_type": "code",
        "colab": {}
      },
      "source": [
        "%%R\n",
        "\n",
        "# Simplex sample generator\n",
        "simplex_gen  <- function(n, samples){\n",
        "    simplex_out  <- matrix(, nrow = samples, ncol = n)\n",
        "    for(r in c(1:samples)){\n",
        "        sample  <- runif(n-1,0,1)  %>%  \n",
        "                    sort(decreasing=FALSE)\n",
        "        sample  <- append(0.0, sample)  %>% \n",
        "                    append(1.0)\n",
        "        sample  <- sample[-1] - sample\n",
        "        sample  <- sample[1:n]\n",
        "\n",
        "        simplex_out[r,]  <- sample\n",
        "     }\n",
        "    return(simplex_out)\n",
        "}\n",
        "\n",
        "# Genberate hypercube\n",
        "hyper_gen  <- function(n, samples){\n",
        "    simplex_out  <- matrix(, nrow = samples, ncol = n)\n",
        "    for(r in c(1:samples)){\n",
        "        sample  <- runif(n,-1,1) \n",
        "        sample  <- sample[1:n]\n",
        "        simplex_out[r,]  <- sample\n",
        "     }\n",
        "    return(simplex_out)\n",
        "}\n",
        "\n",
        "# MST for simplex\n",
        "mst <- function(file_, nsamp=10000, perm=50){\n",
        "    # Read files with samples\n",
        "    df_  <- read_csv(file_)  %>%  \n",
        "    dplyr::select(starts_with('x_'))  %>% \n",
        "    sample_n(size=nsamp, replace=FALSE)\n",
        "    # Get dim of the read file\n",
        "    n_rows  <- dim(df_)[1]\n",
        "    n_cols  <- dim(df_)[2]\n",
        "        if (n_rows > (nsamp-1)){\n",
        "        simplex_sample  <- suppressWarnings(simplex_gen(n_cols,n_rows))\n",
        "        \n",
        "        df_  <- df_  %>% \n",
        "                data.matrix()   %>% \n",
        "                unname()\n",
        "        \n",
        "        df_  <- rbind(df_, simplex_sample)  \n",
        "        df_  <- df_ %>% \n",
        "                aperm(c(2,1)) \n",
        "        result <- WWtest(object=df_, group=c(rep(1, n_rows),rep(2, n_rows)),\n",
        "                         nperm=perm, pvalue.only=FALSE)\n",
        "        z_df  <- tibble(dim=n_cols, z=result$statistic, \n",
        "                        p_value=result$p.value,\n",
        "                             nsamp=nsamp)\n",
        "        gc()\n",
        "        return(z_df)\n",
        "        \n",
        "    }\n",
        "    \n",
        "}\n"
      ],
      "execution_count": null,
      "outputs": []
    },
    {
      "cell_type": "code",
      "metadata": {
        "id": "y0KM3rXkiZsh",
        "colab_type": "code",
        "colab": {}
      },
      "source": [
        "%%R\n",
        "path  <-  '/content/drive/My Drive/mhar_paper_samples_2/'\n",
        "set.seed(5)\n",
        "simplex_gen(5,10)\n",
        "files <- list.files(path)\n",
        "files  <- paste(path, files, sep='')\n",
        "\n",
        "# Extract dimenions\n",
        "m <- regexpr(\"%[0-9]+.csv\", files, perl=TRUE)\n",
        "dimension <- regmatches(files, m)\n",
        "m <- regexpr(\"[0-9]+\", dimension, perl=TRUE)\n",
        "dimension <- regmatches(dimension, m)\n",
        "dimension\n",
        "\n",
        "#Extract figure\n",
        "m <- regexpr(\"[0-9]+_[a-z]+%\", files, perl=TRUE)\n",
        "figure <- regmatches(files, m)\n",
        "m <- regexpr(\"[a-z]+\", figure, perl=TRUE)\n",
        "figure <- regmatches(figure, m)\n",
        "figure\n",
        "\n",
        "# Extract seed\n",
        "m <- regexpr(\"/[0-9]+_\", files, perl=TRUE)\n",
        "sed <- regmatches(files, m)\n",
        "m <- regexpr(\"[0-9]+\", sed, perl=TRUE)\n",
        "sed <- regmatches(sed, m)\n",
        "\n",
        "df_simulations <- tibble(file=files, n=dimension, figure=figure, seed=sed)"
      ],
      "execution_count": null,
      "outputs": []
    },
    {
      "cell_type": "code",
      "metadata": {
        "id": "D5eOYnCxpHlG",
        "colab_type": "code",
        "colab": {}
      },
      "source": [
        "%%R\n",
        "\n",
        "file_name <- files[1]\n",
        "perm <- 50\n",
        "n_sample <-5000\n",
        "print(file_name)\n",
        "df_  <- read_csv(file_name)\n",
        "df_ <- df_[c(1:n_sample),]\n",
        "# Get dim of the read file\n",
        "n_rows  <- dim(df_)[1]\n",
        "n_cols  <- dim(df_)[2]\n",
        "print(n_rows)\n",
        "print(n_cols)\n",
        "\n",
        "if (grepl('hyper', files[1], fixed = TRUE)){\n",
        "  real_sample  <- suppressWarnings(hyper_gen(n_cols,n_rows))\n",
        "}\n",
        "if (grepl('simplex', files[1], fixed = TRUE)){\n",
        "  real_sample  <- suppressWarnings(simplex_gen(n_cols,n_rows))\n",
        "}\n",
        "\n",
        "df_  <- df_  %>% data.matrix()   %>% unname()\n",
        "        \n",
        "df_  <- rbind(df_, real_sample)  \n",
        "df_  <- df_ %>% aperm(c(2,1)) \n",
        "dim(df_)\n",
        "result <- WWtest(object=df_, group=c(rep(1, n_rows),rep(2, n_rows)),\n",
        "                         nperm=2, pvalue.only=FALSE)\n",
        "z_df  <- tibble(dim=n_cols, z=result$statistic, \n",
        "                        p_value=result$p.value,\n",
        "                             nsamp=nsamp)\n",
        "gc()"
      ],
      "execution_count": null,
      "outputs": []
    },
    {
      "cell_type": "code",
      "metadata": {
        "id": "XGzi39exrCDL",
        "colab_type": "code",
        "colab": {}
      },
      "source": [
        "%%R\n",
        "result"
      ],
      "execution_count": null,
      "outputs": []
    }
  ]
}