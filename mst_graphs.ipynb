{
  "nbformat": 4,
  "nbformat_minor": 0,
  "metadata": {
    "colab": {
      "name": "mst_graphs.ipynb",
      "provenance": [],
      "authorship_tag": "ABX9TyMPnRfErtQ91OwmFX7B2zE+",
      "include_colab_link": true
    },
    "kernelspec": {
      "name": "python3",
      "display_name": "Python 3"
    }
  },
  "cells": [
    {
      "cell_type": "markdown",
      "metadata": {
        "id": "view-in-github",
        "colab_type": "text"
      },
      "source": [
        "<a href=\"https://colab.research.google.com/github/uumami/mhar_pytorch/blob/master/mst_graphs.ipynb\" target=\"_parent\"><img src=\"https://colab.research.google.com/assets/colab-badge.svg\" alt=\"Open In Colab\"/></a>"
      ]
    },
    {
      "cell_type": "code",
      "metadata": {
        "id": "_ign3G8E6ele",
        "colab_type": "code",
        "colab": {}
      },
      "source": [
        "# Importo las librerias que usare en este notebook\n",
        "import pandas as pd\n",
        "import numpy as np\n",
        "import matplotlib.pyplot as plt\n",
        "%matplotlib inline\n",
        "import seaborn as sns\n",
        "sns.set()\n",
        "sns.set_style(\"darkgrid\")"
      ],
      "execution_count": 13,
      "outputs": []
    },
    {
      "cell_type": "code",
      "metadata": {
        "id": "ujRzV1voWcjQ",
        "colab_type": "code",
        "colab": {
          "base_uri": "https://localhost:8080/",
          "height": 58
        },
        "outputId": "36d0684a-ae6f-43e0-a094-bd10e8fa7154"
      },
      "source": [
        "# mount Drive\n",
        "from google.colab import drive\n",
        "drive.mount('/content/drive')"
      ],
      "execution_count": 14,
      "outputs": [
        {
          "output_type": "stream",
          "text": [
            "Drive already mounted at /content/drive; to attempt to forcibly remount, call drive.mount(\"/content/drive\", force_remount=True).\n"
          ],
          "name": "stdout"
        }
      ]
    },
    {
      "cell_type": "code",
      "metadata": {
        "id": "kBn1XMNIY6C0",
        "colab_type": "code",
        "colab": {
          "base_uri": "https://localhost:8080/",
          "height": 502
        },
        "outputId": "efa1f6a9-eb9d-4487-f03e-02bd7502fb6f"
      },
      "source": [
        "mst = pd.read_csv('/content/drive/My Drive/mst_5000/mst_5000_heated.csv')\n",
        "mst"
      ],
      "execution_count": 15,
      "outputs": [
        {
          "output_type": "execute_result",
          "data": {
            "text/html": [
              "<div>\n",
              "<style scoped>\n",
              "    .dataframe tbody tr th:only-of-type {\n",
              "        vertical-align: middle;\n",
              "    }\n",
              "\n",
              "    .dataframe tbody tr th {\n",
              "        vertical-align: top;\n",
              "    }\n",
              "\n",
              "    .dataframe thead th {\n",
              "        text-align: right;\n",
              "    }\n",
              "</style>\n",
              "<table border=\"1\" class=\"dataframe\">\n",
              "  <thead>\n",
              "    <tr style=\"text-align: right;\">\n",
              "      <th></th>\n",
              "      <th>Unnamed: 0</th>\n",
              "      <th>figure</th>\n",
              "      <th>dim</th>\n",
              "      <th>z</th>\n",
              "      <th>p_value</th>\n",
              "      <th>nsamp</th>\n",
              "      <th>file</th>\n",
              "      <th>perm</th>\n",
              "      <th>seed</th>\n",
              "    </tr>\n",
              "  </thead>\n",
              "  <tbody>\n",
              "    <tr>\n",
              "      <th>0</th>\n",
              "      <td>1</td>\n",
              "      <td>Simplex</td>\n",
              "      <td>50</td>\n",
              "      <td>-0.867691</td>\n",
              "      <td>0.156863</td>\n",
              "      <td>5000</td>\n",
              "      <td>/content/drive/My Drive/mhar_paper_samples_2/9...</td>\n",
              "      <td>50</td>\n",
              "      <td>274861</td>\n",
              "    </tr>\n",
              "    <tr>\n",
              "      <th>1</th>\n",
              "      <td>2</td>\n",
              "      <td>Simplex</td>\n",
              "      <td>3</td>\n",
              "      <td>-2.003828</td>\n",
              "      <td>0.039216</td>\n",
              "      <td>5000</td>\n",
              "      <td>/content/drive/My Drive/mhar_paper_samples_2/9...</td>\n",
              "      <td>50</td>\n",
              "      <td>6571864</td>\n",
              "    </tr>\n",
              "    <tr>\n",
              "      <th>2</th>\n",
              "      <td>3</td>\n",
              "      <td>Simplex</td>\n",
              "      <td>25</td>\n",
              "      <td>0.337674</td>\n",
              "      <td>0.627451</td>\n",
              "      <td>5000</td>\n",
              "      <td>/content/drive/My Drive/mhar_paper_samples_2/9...</td>\n",
              "      <td>50</td>\n",
              "      <td>7872697</td>\n",
              "    </tr>\n",
              "    <tr>\n",
              "      <th>3</th>\n",
              "      <td>4</td>\n",
              "      <td>Simplex</td>\n",
              "      <td>15</td>\n",
              "      <td>-0.861907</td>\n",
              "      <td>0.254902</td>\n",
              "      <td>5000</td>\n",
              "      <td>/content/drive/My Drive/mhar_paper_samples_2/9...</td>\n",
              "      <td>50</td>\n",
              "      <td>7402166</td>\n",
              "    </tr>\n",
              "    <tr>\n",
              "      <th>4</th>\n",
              "      <td>5</td>\n",
              "      <td>Hypercube</td>\n",
              "      <td>50</td>\n",
              "      <td>1.457169</td>\n",
              "      <td>0.960784</td>\n",
              "      <td>5000</td>\n",
              "      <td>/content/drive/My Drive/mhar_paper_samples_2/9...</td>\n",
              "      <td>50</td>\n",
              "      <td>2105701</td>\n",
              "    </tr>\n",
              "    <tr>\n",
              "      <th>...</th>\n",
              "      <td>...</td>\n",
              "      <td>...</td>\n",
              "      <td>...</td>\n",
              "      <td>...</td>\n",
              "      <td>...</td>\n",
              "      <td>...</td>\n",
              "      <td>...</td>\n",
              "      <td>...</td>\n",
              "      <td>...</td>\n",
              "    </tr>\n",
              "    <tr>\n",
              "      <th>76</th>\n",
              "      <td>77</td>\n",
              "      <td>Hypercube</td>\n",
              "      <td>50</td>\n",
              "      <td>-0.989603</td>\n",
              "      <td>0.156863</td>\n",
              "      <td>5000</td>\n",
              "      <td>/content/drive/My Drive/mhar_paper_samples_2/1...</td>\n",
              "      <td>50</td>\n",
              "      <td>3466060</td>\n",
              "    </tr>\n",
              "    <tr>\n",
              "      <th>77</th>\n",
              "      <td>78</td>\n",
              "      <td>Hypercube</td>\n",
              "      <td>3</td>\n",
              "      <td>0.767523</td>\n",
              "      <td>0.862745</td>\n",
              "      <td>5000</td>\n",
              "      <td>/content/drive/My Drive/mhar_paper_samples_2/1...</td>\n",
              "      <td>50</td>\n",
              "      <td>3748783</td>\n",
              "    </tr>\n",
              "    <tr>\n",
              "      <th>78</th>\n",
              "      <td>79</td>\n",
              "      <td>Hypercube</td>\n",
              "      <td>25</td>\n",
              "      <td>0.021988</td>\n",
              "      <td>0.529412</td>\n",
              "      <td>5000</td>\n",
              "      <td>/content/drive/My Drive/mhar_paper_samples_2/1...</td>\n",
              "      <td>50</td>\n",
              "      <td>8556326</td>\n",
              "    </tr>\n",
              "    <tr>\n",
              "      <th>79</th>\n",
              "      <td>80</td>\n",
              "      <td>Hypercube</td>\n",
              "      <td>15</td>\n",
              "      <td>0.388230</td>\n",
              "      <td>0.686275</td>\n",
              "      <td>5000</td>\n",
              "      <td>/content/drive/My Drive/mhar_paper_samples_2/1...</td>\n",
              "      <td>50</td>\n",
              "      <td>2674389</td>\n",
              "    </tr>\n",
              "    <tr>\n",
              "      <th>80</th>\n",
              "      <td>81</td>\n",
              "      <td>Hypercube</td>\n",
              "      <td>3</td>\n",
              "      <td>-0.183197</td>\n",
              "      <td>0.450980</td>\n",
              "      <td>5000</td>\n",
              "      <td>/content/drive/My Drive/mhar_paper_samples_2/1...</td>\n",
              "      <td>50</td>\n",
              "      <td>4304747</td>\n",
              "    </tr>\n",
              "  </tbody>\n",
              "</table>\n",
              "<p>81 rows × 9 columns</p>\n",
              "</div>"
            ],
            "text/plain": [
              "    Unnamed: 0     figure  ...  perm     seed\n",
              "0            1    Simplex  ...    50   274861\n",
              "1            2    Simplex  ...    50  6571864\n",
              "2            3    Simplex  ...    50  7872697\n",
              "3            4    Simplex  ...    50  7402166\n",
              "4            5  Hypercube  ...    50  2105701\n",
              "..         ...        ...  ...   ...      ...\n",
              "76          77  Hypercube  ...    50  3466060\n",
              "77          78  Hypercube  ...    50  3748783\n",
              "78          79  Hypercube  ...    50  8556326\n",
              "79          80  Hypercube  ...    50  2674389\n",
              "80          81  Hypercube  ...    50  4304747\n",
              "\n",
              "[81 rows x 9 columns]"
            ]
          },
          "metadata": {
            "tags": []
          },
          "execution_count": 15
        }
      ]
    },
    {
      "cell_type": "code",
      "metadata": {
        "id": "sp_ELlLackqC",
        "colab_type": "code",
        "colab": {
          "base_uri": "https://localhost:8080/",
          "height": 38
        },
        "outputId": "f8841817-d699-41b0-8674-58cedd0c38d1"
      },
      "source": [
        "mst.drop_duplicates('file').shape"
      ],
      "execution_count": 16,
      "outputs": [
        {
          "output_type": "execute_result",
          "data": {
            "text/plain": [
              "(81, 9)"
            ]
          },
          "metadata": {
            "tags": []
          },
          "execution_count": 16
        }
      ]
    },
    {
      "cell_type": "code",
      "metadata": {
        "id": "R7jkuWJOZLHR",
        "colab_type": "code",
        "colab": {
          "base_uri": "https://localhost:8080/",
          "height": 502
        },
        "outputId": "433170d2-92e4-4957-9dcc-571915cda66a"
      },
      "source": [
        "mst[mst['z']>-1.64]\n"
      ],
      "execution_count": 17,
      "outputs": [
        {
          "output_type": "execute_result",
          "data": {
            "text/html": [
              "<div>\n",
              "<style scoped>\n",
              "    .dataframe tbody tr th:only-of-type {\n",
              "        vertical-align: middle;\n",
              "    }\n",
              "\n",
              "    .dataframe tbody tr th {\n",
              "        vertical-align: top;\n",
              "    }\n",
              "\n",
              "    .dataframe thead th {\n",
              "        text-align: right;\n",
              "    }\n",
              "</style>\n",
              "<table border=\"1\" class=\"dataframe\">\n",
              "  <thead>\n",
              "    <tr style=\"text-align: right;\">\n",
              "      <th></th>\n",
              "      <th>Unnamed: 0</th>\n",
              "      <th>figure</th>\n",
              "      <th>dim</th>\n",
              "      <th>z</th>\n",
              "      <th>p_value</th>\n",
              "      <th>nsamp</th>\n",
              "      <th>file</th>\n",
              "      <th>perm</th>\n",
              "      <th>seed</th>\n",
              "    </tr>\n",
              "  </thead>\n",
              "  <tbody>\n",
              "    <tr>\n",
              "      <th>0</th>\n",
              "      <td>1</td>\n",
              "      <td>Simplex</td>\n",
              "      <td>50</td>\n",
              "      <td>-0.867691</td>\n",
              "      <td>0.156863</td>\n",
              "      <td>5000</td>\n",
              "      <td>/content/drive/My Drive/mhar_paper_samples_2/9...</td>\n",
              "      <td>50</td>\n",
              "      <td>274861</td>\n",
              "    </tr>\n",
              "    <tr>\n",
              "      <th>2</th>\n",
              "      <td>3</td>\n",
              "      <td>Simplex</td>\n",
              "      <td>25</td>\n",
              "      <td>0.337674</td>\n",
              "      <td>0.627451</td>\n",
              "      <td>5000</td>\n",
              "      <td>/content/drive/My Drive/mhar_paper_samples_2/9...</td>\n",
              "      <td>50</td>\n",
              "      <td>7872697</td>\n",
              "    </tr>\n",
              "    <tr>\n",
              "      <th>3</th>\n",
              "      <td>4</td>\n",
              "      <td>Simplex</td>\n",
              "      <td>15</td>\n",
              "      <td>-0.861907</td>\n",
              "      <td>0.254902</td>\n",
              "      <td>5000</td>\n",
              "      <td>/content/drive/My Drive/mhar_paper_samples_2/9...</td>\n",
              "      <td>50</td>\n",
              "      <td>7402166</td>\n",
              "    </tr>\n",
              "    <tr>\n",
              "      <th>4</th>\n",
              "      <td>5</td>\n",
              "      <td>Hypercube</td>\n",
              "      <td>50</td>\n",
              "      <td>1.457169</td>\n",
              "      <td>0.960784</td>\n",
              "      <td>5000</td>\n",
              "      <td>/content/drive/My Drive/mhar_paper_samples_2/9...</td>\n",
              "      <td>50</td>\n",
              "      <td>2105701</td>\n",
              "    </tr>\n",
              "    <tr>\n",
              "      <th>5</th>\n",
              "      <td>6</td>\n",
              "      <td>Hypercube</td>\n",
              "      <td>3</td>\n",
              "      <td>0.056991</td>\n",
              "      <td>0.568627</td>\n",
              "      <td>5000</td>\n",
              "      <td>/content/drive/My Drive/mhar_paper_samples_2/9...</td>\n",
              "      <td>50</td>\n",
              "      <td>9206448</td>\n",
              "    </tr>\n",
              "    <tr>\n",
              "      <th>...</th>\n",
              "      <td>...</td>\n",
              "      <td>...</td>\n",
              "      <td>...</td>\n",
              "      <td>...</td>\n",
              "      <td>...</td>\n",
              "      <td>...</td>\n",
              "      <td>...</td>\n",
              "      <td>...</td>\n",
              "      <td>...</td>\n",
              "    </tr>\n",
              "    <tr>\n",
              "      <th>76</th>\n",
              "      <td>77</td>\n",
              "      <td>Hypercube</td>\n",
              "      <td>50</td>\n",
              "      <td>-0.989603</td>\n",
              "      <td>0.156863</td>\n",
              "      <td>5000</td>\n",
              "      <td>/content/drive/My Drive/mhar_paper_samples_2/1...</td>\n",
              "      <td>50</td>\n",
              "      <td>3466060</td>\n",
              "    </tr>\n",
              "    <tr>\n",
              "      <th>77</th>\n",
              "      <td>78</td>\n",
              "      <td>Hypercube</td>\n",
              "      <td>3</td>\n",
              "      <td>0.767523</td>\n",
              "      <td>0.862745</td>\n",
              "      <td>5000</td>\n",
              "      <td>/content/drive/My Drive/mhar_paper_samples_2/1...</td>\n",
              "      <td>50</td>\n",
              "      <td>3748783</td>\n",
              "    </tr>\n",
              "    <tr>\n",
              "      <th>78</th>\n",
              "      <td>79</td>\n",
              "      <td>Hypercube</td>\n",
              "      <td>25</td>\n",
              "      <td>0.021988</td>\n",
              "      <td>0.529412</td>\n",
              "      <td>5000</td>\n",
              "      <td>/content/drive/My Drive/mhar_paper_samples_2/1...</td>\n",
              "      <td>50</td>\n",
              "      <td>8556326</td>\n",
              "    </tr>\n",
              "    <tr>\n",
              "      <th>79</th>\n",
              "      <td>80</td>\n",
              "      <td>Hypercube</td>\n",
              "      <td>15</td>\n",
              "      <td>0.388230</td>\n",
              "      <td>0.686275</td>\n",
              "      <td>5000</td>\n",
              "      <td>/content/drive/My Drive/mhar_paper_samples_2/1...</td>\n",
              "      <td>50</td>\n",
              "      <td>2674389</td>\n",
              "    </tr>\n",
              "    <tr>\n",
              "      <th>80</th>\n",
              "      <td>81</td>\n",
              "      <td>Hypercube</td>\n",
              "      <td>3</td>\n",
              "      <td>-0.183197</td>\n",
              "      <td>0.450980</td>\n",
              "      <td>5000</td>\n",
              "      <td>/content/drive/My Drive/mhar_paper_samples_2/1...</td>\n",
              "      <td>50</td>\n",
              "      <td>4304747</td>\n",
              "    </tr>\n",
              "  </tbody>\n",
              "</table>\n",
              "<p>78 rows × 9 columns</p>\n",
              "</div>"
            ],
            "text/plain": [
              "    Unnamed: 0     figure  ...  perm     seed\n",
              "0            1    Simplex  ...    50   274861\n",
              "2            3    Simplex  ...    50  7872697\n",
              "3            4    Simplex  ...    50  7402166\n",
              "4            5  Hypercube  ...    50  2105701\n",
              "5            6  Hypercube  ...    50  9206448\n",
              "..         ...        ...  ...   ...      ...\n",
              "76          77  Hypercube  ...    50  3466060\n",
              "77          78  Hypercube  ...    50  3748783\n",
              "78          79  Hypercube  ...    50  8556326\n",
              "79          80  Hypercube  ...    50  2674389\n",
              "80          81  Hypercube  ...    50  4304747\n",
              "\n",
              "[78 rows x 9 columns]"
            ]
          },
          "metadata": {
            "tags": []
          },
          "execution_count": 17
        }
      ]
    },
    {
      "cell_type": "code",
      "metadata": {
        "id": "59YfvKQNlaSY",
        "colab_type": "code",
        "colab": {
          "base_uri": "https://localhost:8080/",
          "height": 502
        },
        "outputId": "1a39c8f0-58f0-426c-e217-b7a879c8323d"
      },
      "source": [
        "mst = pd.read_csv('/content/drive/My Drive/mst_5000/mst_5000_initial.csv')\n",
        "mst"
      ],
      "execution_count": 18,
      "outputs": [
        {
          "output_type": "execute_result",
          "data": {
            "text/html": [
              "<div>\n",
              "<style scoped>\n",
              "    .dataframe tbody tr th:only-of-type {\n",
              "        vertical-align: middle;\n",
              "    }\n",
              "\n",
              "    .dataframe tbody tr th {\n",
              "        vertical-align: top;\n",
              "    }\n",
              "\n",
              "    .dataframe thead th {\n",
              "        text-align: right;\n",
              "    }\n",
              "</style>\n",
              "<table border=\"1\" class=\"dataframe\">\n",
              "  <thead>\n",
              "    <tr style=\"text-align: right;\">\n",
              "      <th></th>\n",
              "      <th>Unnamed: 0</th>\n",
              "      <th>figure</th>\n",
              "      <th>dim</th>\n",
              "      <th>z</th>\n",
              "      <th>p_value</th>\n",
              "      <th>nsamp</th>\n",
              "      <th>file</th>\n",
              "      <th>perm</th>\n",
              "      <th>seed</th>\n",
              "    </tr>\n",
              "  </thead>\n",
              "  <tbody>\n",
              "    <tr>\n",
              "      <th>0</th>\n",
              "      <td>1</td>\n",
              "      <td>Hypercube</td>\n",
              "      <td>3</td>\n",
              "      <td>1.149749</td>\n",
              "      <td>0.862745</td>\n",
              "      <td>5000</td>\n",
              "      <td>/content/drive/My Drive/mhar_paper_samples_2/9...</td>\n",
              "      <td>50</td>\n",
              "      <td>2347461</td>\n",
              "    </tr>\n",
              "    <tr>\n",
              "      <th>1</th>\n",
              "      <td>2</td>\n",
              "      <td>Hypercube</td>\n",
              "      <td>25</td>\n",
              "      <td>0.687476</td>\n",
              "      <td>0.745098</td>\n",
              "      <td>5000</td>\n",
              "      <td>/content/drive/My Drive/mhar_paper_samples_2/9...</td>\n",
              "      <td>50</td>\n",
              "      <td>163777</td>\n",
              "    </tr>\n",
              "    <tr>\n",
              "      <th>2</th>\n",
              "      <td>3</td>\n",
              "      <td>Hypercube</td>\n",
              "      <td>15</td>\n",
              "      <td>-0.675153</td>\n",
              "      <td>0.196078</td>\n",
              "      <td>5000</td>\n",
              "      <td>/content/drive/My Drive/mhar_paper_samples_2/9...</td>\n",
              "      <td>50</td>\n",
              "      <td>9901819</td>\n",
              "    </tr>\n",
              "    <tr>\n",
              "      <th>3</th>\n",
              "      <td>4</td>\n",
              "      <td>Simplex</td>\n",
              "      <td>50</td>\n",
              "      <td>1.546320</td>\n",
              "      <td>0.921569</td>\n",
              "      <td>5000</td>\n",
              "      <td>/content/drive/My Drive/mhar_paper_samples_2/9...</td>\n",
              "      <td>50</td>\n",
              "      <td>505105</td>\n",
              "    </tr>\n",
              "    <tr>\n",
              "      <th>4</th>\n",
              "      <td>5</td>\n",
              "      <td>Simplex</td>\n",
              "      <td>3</td>\n",
              "      <td>0.587729</td>\n",
              "      <td>0.725490</td>\n",
              "      <td>5000</td>\n",
              "      <td>/content/drive/My Drive/mhar_paper_samples_2/9...</td>\n",
              "      <td>50</td>\n",
              "      <td>5240173</td>\n",
              "    </tr>\n",
              "    <tr>\n",
              "      <th>...</th>\n",
              "      <td>...</td>\n",
              "      <td>...</td>\n",
              "      <td>...</td>\n",
              "      <td>...</td>\n",
              "      <td>...</td>\n",
              "      <td>...</td>\n",
              "      <td>...</td>\n",
              "      <td>...</td>\n",
              "      <td>...</td>\n",
              "    </tr>\n",
              "    <tr>\n",
              "      <th>79</th>\n",
              "      <td>80</td>\n",
              "      <td>Hypercube</td>\n",
              "      <td>50</td>\n",
              "      <td>2.900092</td>\n",
              "      <td>1.000000</td>\n",
              "      <td>5000</td>\n",
              "      <td>/content/drive/My Drive/mhar_paper_samples_2/1...</td>\n",
              "      <td>50</td>\n",
              "      <td>280932</td>\n",
              "    </tr>\n",
              "    <tr>\n",
              "      <th>80</th>\n",
              "      <td>81</td>\n",
              "      <td>Hypercube</td>\n",
              "      <td>3</td>\n",
              "      <td>-0.735650</td>\n",
              "      <td>0.235294</td>\n",
              "      <td>5000</td>\n",
              "      <td>/content/drive/My Drive/mhar_paper_samples_2/1...</td>\n",
              "      <td>50</td>\n",
              "      <td>4071449</td>\n",
              "    </tr>\n",
              "    <tr>\n",
              "      <th>81</th>\n",
              "      <td>82</td>\n",
              "      <td>Hypercube</td>\n",
              "      <td>25</td>\n",
              "      <td>-1.289624</td>\n",
              "      <td>0.117647</td>\n",
              "      <td>5000</td>\n",
              "      <td>/content/drive/My Drive/mhar_paper_samples_2/1...</td>\n",
              "      <td>50</td>\n",
              "      <td>2120688</td>\n",
              "    </tr>\n",
              "    <tr>\n",
              "      <th>82</th>\n",
              "      <td>83</td>\n",
              "      <td>Hypercube</td>\n",
              "      <td>15</td>\n",
              "      <td>-1.551706</td>\n",
              "      <td>0.078431</td>\n",
              "      <td>5000</td>\n",
              "      <td>/content/drive/My Drive/mhar_paper_samples_2/1...</td>\n",
              "      <td>50</td>\n",
              "      <td>4589906</td>\n",
              "    </tr>\n",
              "    <tr>\n",
              "      <th>83</th>\n",
              "      <td>84</td>\n",
              "      <td>Hypercube</td>\n",
              "      <td>3</td>\n",
              "      <td>-1.161135</td>\n",
              "      <td>0.137255</td>\n",
              "      <td>5000</td>\n",
              "      <td>/content/drive/My Drive/mhar_paper_samples_2/1...</td>\n",
              "      <td>50</td>\n",
              "      <td>4724624</td>\n",
              "    </tr>\n",
              "  </tbody>\n",
              "</table>\n",
              "<p>84 rows × 9 columns</p>\n",
              "</div>"
            ],
            "text/plain": [
              "    Unnamed: 0     figure  ...  perm     seed\n",
              "0            1  Hypercube  ...    50  2347461\n",
              "1            2  Hypercube  ...    50   163777\n",
              "2            3  Hypercube  ...    50  9901819\n",
              "3            4    Simplex  ...    50   505105\n",
              "4            5    Simplex  ...    50  5240173\n",
              "..         ...        ...  ...   ...      ...\n",
              "79          80  Hypercube  ...    50   280932\n",
              "80          81  Hypercube  ...    50  4071449\n",
              "81          82  Hypercube  ...    50  2120688\n",
              "82          83  Hypercube  ...    50  4589906\n",
              "83          84  Hypercube  ...    50  4724624\n",
              "\n",
              "[84 rows x 9 columns]"
            ]
          },
          "metadata": {
            "tags": []
          },
          "execution_count": 18
        }
      ]
    },
    {
      "cell_type": "code",
      "metadata": {
        "id": "rUeCVMO9l7Fd",
        "colab_type": "code",
        "colab": {
          "base_uri": "https://localhost:8080/",
          "height": 437
        },
        "outputId": "f3646be2-afce-4c45-9697-59461733858d"
      },
      "source": [
        "\n",
        "g = sns.FacetGrid(mst, row=\"figure\")\n",
        "g = g.map(sns.scatterplot, \"dim\", \"z\")\n",
        "\n",
        "ax1, ax2 = g.axes\n",
        "\n",
        "ax1[0].axhline(-1.64, ls='--', color='r')\n",
        "ax2[0].axhline(-1.64, ls='--', color='r')\n",
        "\n",
        "#ax1.text(0.5,25, \"Some text\")\n",
        "#ax2.text(0.5,25, \"Some text\")\n",
        "\n",
        "plt.show()"
      ],
      "execution_count": 19,
      "outputs": [
        {
          "output_type": "display_data",
          "data": {
            "image/png": "[encoded data removed]",
            "text/plain": [
              "<Figure size 216x432 with 2 Axes>"
            ]
          },
          "metadata": {
            "tags": []
          }
        }
      ]
    },
    {
      "cell_type": "code",
      "metadata": {
        "id": "gf8J0drJmCBW",
        "colab_type": "code",
        "colab": {
          "base_uri": "https://localhost:8080/",
          "height": 499
        },
        "outputId": "e9b45c84-6a01-4324-9b17-4d16301887ad"
      },
      "source": [
        "g = sns.FacetGrid(mst, row=\"figure\")\n",
        "g = g.map(sns.boxplot, \"dim\", \"z\")\n",
        "\n",
        "ax1, ax2 = g.axes\n",
        "\n",
        "ax1[0].axhline(-1.64, ls='--', color='r')\n",
        "ax2[0].axhline(-1.64, ls='--', color='r')\n",
        "\n",
        "#ax1.text(0.5,25, \"Some text\")\n",
        "#ax2.text(0.5,25, \"Some text\")\n",
        "\n",
        "plt.show()"
      ],
      "execution_count": 20,
      "outputs": [
        {
          "output_type": "stream",
          "text": [
            "/usr/local/lib/python3.6/dist-packages/seaborn/axisgrid.py:723: UserWarning: Using the boxplot function without specifying `order` is likely to produce an incorrect plot.\n",
            "  warnings.warn(warning)\n"
          ],
          "name": "stderr"
        },
        {
          "output_type": "display_data",
          "data": {
            "image/png": "[encoded data removed]",
            "text/plain": [
              "<Figure size 216x432 with 2 Axes>"
            ]
          },
          "metadata": {
            "tags": []
          }
        }
      ]
    },
    {
      "cell_type": "code",
      "metadata": {
        "id": "aRJZfZxC9nLm",
        "colab_type": "code",
        "colab": {
          "base_uri": "https://localhost:8080/",
          "height": 81
        },
        "outputId": "d9942c0e-2f13-4c1d-e799-100a7b52750a"
      },
      "source": [
        "\n",
        "mst.head(1)"
      ],
      "execution_count": 21,
      "outputs": [
        {
          "output_type": "execute_result",
          "data": {
            "text/html": [
              "<div>\n",
              "<style scoped>\n",
              "    .dataframe tbody tr th:only-of-type {\n",
              "        vertical-align: middle;\n",
              "    }\n",
              "\n",
              "    .dataframe tbody tr th {\n",
              "        vertical-align: top;\n",
              "    }\n",
              "\n",
              "    .dataframe thead th {\n",
              "        text-align: right;\n",
              "    }\n",
              "</style>\n",
              "<table border=\"1\" class=\"dataframe\">\n",
              "  <thead>\n",
              "    <tr style=\"text-align: right;\">\n",
              "      <th></th>\n",
              "      <th>Unnamed: 0</th>\n",
              "      <th>figure</th>\n",
              "      <th>dim</th>\n",
              "      <th>z</th>\n",
              "      <th>p_value</th>\n",
              "      <th>nsamp</th>\n",
              "      <th>file</th>\n",
              "      <th>perm</th>\n",
              "      <th>seed</th>\n",
              "    </tr>\n",
              "  </thead>\n",
              "  <tbody>\n",
              "    <tr>\n",
              "      <th>0</th>\n",
              "      <td>1</td>\n",
              "      <td>Hypercube</td>\n",
              "      <td>3</td>\n",
              "      <td>1.149749</td>\n",
              "      <td>0.862745</td>\n",
              "      <td>5000</td>\n",
              "      <td>/content/drive/My Drive/mhar_paper_samples_2/9...</td>\n",
              "      <td>50</td>\n",
              "      <td>2347461</td>\n",
              "    </tr>\n",
              "  </tbody>\n",
              "</table>\n",
              "</div>"
            ],
            "text/plain": [
              "   Unnamed: 0     figure  ...  perm     seed\n",
              "0           1  Hypercube  ...    50  2347461\n",
              "\n",
              "[1 rows x 9 columns]"
            ]
          },
          "metadata": {
            "tags": []
          },
          "execution_count": 21
        }
      ]
    },
    {
      "cell_type": "code",
      "metadata": {
        "id": "QQIrQd6C-RlK",
        "colab_type": "code",
        "colab": {
          "base_uri": "https://localhost:8080/",
          "height": 34
        },
        "outputId": "9a89685e-3a47-4e2c-8a66-48fa48fd5c56"
      },
      "source": [
        ""
      ],
      "execution_count": 28,
      "outputs": [
        {
          "output_type": "execute_result",
          "data": {
            "text/plain": [
              "<matplotlib.lines.Line2D at 0x7fbeb70b7ba8>"
            ]
          },
          "metadata": {
            "tags": []
          },
          "execution_count": 28
        }
      ]
    },
    {
      "cell_type": "code",
      "metadata": {
        "id": "ypR3tGS28mWk",
        "colab_type": "code",
        "colab": {
          "base_uri": "https://localhost:8080/",
          "height": 911
        },
        "outputId": "b020534e-f3ea-4350-9eba-d75ea9970c27"
      },
      "source": [
        "# Save individuall images \n",
        "mst_ = mst.copy()\n",
        "mst_.rename(inplace=True, columns={'dim':'n', 'z':'z-score'})\n",
        "\n",
        "for fig_ in mst_['figure'].unique():\n",
        "  df_ = mst_[mst_['figure']==fig_]\n",
        "  plt.figure(figsize=(10,7)) # Clean Plot\n",
        "  g = sns.boxplot(data=df_, x='n', y='z-score')\n",
        "  g.set_title(fig_.capitalize() + ' z-scores')\n",
        "  g.axes.axhline(-1.64, ls='--', color='r')\n",
        "  fig = g.get_figure()\n",
        "  save_name = '/content/drive/My Drive/mhar_figures_mst/' + 'z_scores_boxplot_'+ fig_.lower() + '.png'\n",
        "  fig.savefig(save_name)"
      ],
      "execution_count": 40,
      "outputs": [
        {
          "output_type": "display_data",
          "data": {
            "image/png": "[encoded data removed]",
            "text/plain": [
              "<Figure size 720x504 with 1 Axes>"
            ]
          },
          "metadata": {
            "tags": []
          }
        },
        {
          "output_type": "display_data",
          "data": {
            "image/png": "[encoded data removed]",
            "text/plain": [
              "<Figure size 720x504 with 1 Axes>"
            ]
          },
          "metadata": {
            "tags": []
          }
        }
      ]
    },
    {
      "cell_type": "code",
      "metadata": {
        "id": "BqQ4m3vO_kgt",
        "colab_type": "code",
        "colab": {
          "base_uri": "https://localhost:8080/",
          "height": 911
        },
        "outputId": "94b21255-fca9-42a1-e128-edc3cc5c02df"
      },
      "source": [
        "# Save individuall images \n",
        "mst_ = mst.copy()\n",
        "mst_.rename(inplace=True, columns={'dim':'n', 'z':'z-score'})\n",
        "mst_['n'] = mst_['n'].astype(str)\n",
        "for fig_ in mst_['figure'].unique():\n",
        "  df_ = mst_[mst_['figure']==fig_]\n",
        "  plt.figure(figsize=(10,7)) # Clean Plot\n",
        "  g = sns.scatterplot(data=df_, x='n', y='z-score')\n",
        "  g.set_title(fig_.capitalize() + ' z-scores')\n",
        "  g.axes.axhline(-1.64, ls='--', color='r')\n",
        "  fig = g.get_figure()\n",
        "  save_name = '/content/drive/My Drive/mhar_figures_mst/' + 'z_scores_scatter_'+ fig_.lower() + '.png'\n",
        "  fig.savefig(save_name)"
      ],
      "execution_count": 41,
      "outputs": [
        {
          "output_type": "display_data",
          "data": {
            "image/png": "[encoded data removed]",
            "text/plain": [
              "<Figure size 720x504 with 1 Axes>"
            ]
          },
          "metadata": {
            "tags": []
          }
        },
        {
          "output_type": "display_data",
          "data": {
            "image/png": "[encoded data removed]",
            "text/plain": [
              "<Figure size 720x504 with 1 Axes>"
            ]
          },
          "metadata": {
            "tags": []
          }
        }
      ]
    }
  ]
}