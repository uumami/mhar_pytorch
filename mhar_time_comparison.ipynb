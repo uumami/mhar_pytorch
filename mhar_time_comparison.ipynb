{
  "nbformat": 4,
  "nbformat_minor": 0,
  "metadata": {
    "colab": {
      "name": "mhar_time_comparison.ipynb",
      "provenance": [],
      "collapsed_sections": []
    },
    "kernelspec": {
      "name": "python3",
      "display_name": "Python 3"
    }
  },
  "cells": [
    {
      "cell_type": "code",
      "metadata": {
        "id": "slpmOo0YNoSK",
        "colab_type": "code",
        "colab": {
          "base_uri": "https://localhost:8080/",
          "height": 74
        },
        "outputId": "826da0c2-b223-422f-b98c-a4a750b581c4"
      },
      "source": [
        "import pandas as pd\n",
        "import numpy as np\n",
        "\n",
        "import matplotlib.pyplot as plt\n",
        "plt.style.use('classic')\n",
        "%matplotlib inline\n",
        "\n",
        "import seaborn as sns\n",
        "sns.set()"
      ],
      "execution_count": null,
      "outputs": [
        {
          "output_type": "stream",
          "text": [
            "/usr/local/lib/python3.6/dist-packages/statsmodels/tools/_testing.py:19: FutureWarning: pandas.util.testing is deprecated. Use the functions in the public API at pandas.testing instead.\n",
            "  import pandas.util.testing as tm\n"
          ],
          "name": "stderr"
        }
      ]
    },
    {
      "cell_type": "code",
      "metadata": {
        "id": "j005oELUN6is",
        "colab_type": "code",
        "colab": {
          "base_uri": "https://localhost:8080/",
          "height": 129
        },
        "outputId": "9cd93581-42b0-4d40-a34f-e96e1f183132"
      },
      "source": [
        "from google.colab import drive\n",
        "drive.mount('/drive')"
      ],
      "execution_count": null,
      "outputs": [
        {
          "output_type": "stream",
          "text": [
            "Go to this URL in a browser: https://accounts.google.com/o/oauth2/auth?client_id=947318989803-6bn6qk8qdgf4n4g3pfee6491hc0brc4i.apps.googleusercontent.com&redirect_uri=urn%3aietf%3awg%3aoauth%3a2.0%3aoob&response_type=code&scope=email%20https%3a%2f%2fwww.googleapis.com%2fauth%2fdocs.test%20https%3a%2f%2fwww.googleapis.com%2fauth%2fdrive%20https%3a%2f%2fwww.googleapis.com%2fauth%2fdrive.photos.readonly%20https%3a%2f%2fwww.googleapis.com%2fauth%2fpeopleapi.readonly\n",
            "\n",
            "Enter your authorization code:\n",
            "··········\n",
            "Mounted at /drive\n"
          ],
          "name": "stdout"
        }
      ]
    },
    {
      "cell_type": "code",
      "metadata": {
        "id": "O12BHSIfORcr",
        "colab_type": "code",
        "colab": {}
      },
      "source": [
        "from os import listdir\n",
        "from os.path import isfile, join\n",
        "\n",
        "path_mhar = '/drive/My Drive/mhar_test_times_p100/'\n",
        "files_mhar = [path_mhar + f for f in listdir(path_mhar)]\n",
        "\n",
        "path_har = '/drive/My Drive/tommi_times/'\n",
        "files_har = [path_har + f for f in listdir(path_har)]\n",
        "\n",
        "mhar = []\n",
        "for f in files_mhar:\n",
        "  mhar.append(pd.read_csv(f))\n",
        "mhar = pd.concat(mhar, ignore_index=True)\n",
        "\n",
        "har = []\n",
        "for f in files_har:\n",
        "  har.append(pd.read_csv(f))\n",
        "har = pd.concat(har, ignore_index=True)\n",
        "\n",
        "har['Type'] = har['Type'].apply(lambda x: 'hypercube' if x==1 else 'simplex')\n"
      ],
      "execution_count": null,
      "outputs": []
    },
    {
      "cell_type": "code",
      "metadata": {
        "id": "hEChNyFzO-5W",
        "colab_type": "code",
        "colab": {
          "base_uri": "https://localhost:8080/",
          "height": 81
        },
        "outputId": "bdcf2ddb-7b31-44c2-fdee-a5960fd571da"
      },
      "source": [
        "mhar['mhar_total_points'] = mhar['thi'] * mhar['z']\n",
        "mhar.rename(inplace=True,\n",
        "            columns={\n",
        "                'time':'mhar_time',\n",
        "                'samples_sec': 'mhar_samples_sec',\n",
        "                'thi':'mhar_thi'\n",
        "            })\n",
        "mhar.head(1)"
      ],
      "execution_count": null,
      "outputs": [
        {
          "output_type": "execute_result",
          "data": {
            "text/html": [
              "<div>\n",
              "<style scoped>\n",
              "    .dataframe tbody tr th:only-of-type {\n",
              "        vertical-align: middle;\n",
              "    }\n",
              "\n",
              "    .dataframe tbody tr th {\n",
              "        vertical-align: top;\n",
              "    }\n",
              "\n",
              "    .dataframe thead th {\n",
              "        text-align: right;\n",
              "    }\n",
              "</style>\n",
              "<table border=\"1\" class=\"dataframe\">\n",
              "  <thead>\n",
              "    <tr style=\"text-align: right;\">\n",
              "      <th></th>\n",
              "      <th>n</th>\n",
              "      <th>z</th>\n",
              "      <th>mhar_time</th>\n",
              "      <th>mhar_thi</th>\n",
              "      <th>gpu</th>\n",
              "      <th>figure</th>\n",
              "      <th>mhar_samples_sec</th>\n",
              "      <th>mhar_total_points</th>\n",
              "    </tr>\n",
              "  </thead>\n",
              "  <tbody>\n",
              "    <tr>\n",
              "      <th>0</th>\n",
              "      <td>2500</td>\n",
              "      <td>500</td>\n",
              "      <td>63.911807</td>\n",
              "      <td>10000</td>\n",
              "      <td>p100</td>\n",
              "      <td>simplex</td>\n",
              "      <td>78232.806539</td>\n",
              "      <td>5000000</td>\n",
              "    </tr>\n",
              "  </tbody>\n",
              "</table>\n",
              "</div>"
            ],
            "text/plain": [
              "      n    z  mhar_time  ...   figure mhar_samples_sec mhar_total_points\n",
              "0  2500  500  63.911807  ...  simplex     78232.806539           5000000\n",
              "\n",
              "[1 rows x 8 columns]"
            ]
          },
          "metadata": {
            "tags": []
          },
          "execution_count": 16
        }
      ]
    },
    {
      "cell_type": "code",
      "metadata": {
        "id": "Aj2IdBWFSCmX",
        "colab_type": "code",
        "colab": {
          "base_uri": "https://localhost:8080/",
          "height": 81
        },
        "outputId": "bfb8cd0c-f30f-4e49-efc0-5d3a57ab7da0"
      },
      "source": [
        "har.head(1)"
      ],
      "execution_count": null,
      "outputs": [
        {
          "output_type": "execute_result",
          "data": {
            "text/html": [
              "<div>\n",
              "<style scoped>\n",
              "    .dataframe tbody tr th:only-of-type {\n",
              "        vertical-align: middle;\n",
              "    }\n",
              "\n",
              "    .dataframe tbody tr th {\n",
              "        vertical-align: top;\n",
              "    }\n",
              "\n",
              "    .dataframe thead th {\n",
              "        text-align: right;\n",
              "    }\n",
              "</style>\n",
              "<table border=\"1\" class=\"dataframe\">\n",
              "  <thead>\n",
              "    <tr style=\"text-align: right;\">\n",
              "      <th></th>\n",
              "      <th>time</th>\n",
              "      <th>figure</th>\n",
              "      <th>n</th>\n",
              "      <th>Samples</th>\n",
              "      <th>Iter</th>\n",
              "      <th>har_thi</th>\n",
              "    </tr>\n",
              "  </thead>\n",
              "  <tbody>\n",
              "    <tr>\n",
              "      <th>0</th>\n",
              "      <td>28866.492653</td>\n",
              "      <td>2</td>\n",
              "      <td>250</td>\n",
              "      <td>1</td>\n",
              "      <td>30000</td>\n",
              "      <td>30000</td>\n",
              "    </tr>\n",
              "  </tbody>\n",
              "</table>\n",
              "</div>"
            ],
            "text/plain": [
              "           time  figure    n  Samples   Iter  har_thi\n",
              "0  28866.492653       2  250        1  30000    30000"
            ]
          },
          "metadata": {
            "tags": []
          },
          "execution_count": 24
        }
      ]
    },
    {
      "cell_type": "code",
      "metadata": {
        "id": "Ij5XPvn0O9s5",
        "colab_type": "code",
        "colab": {
          "base_uri": "https://localhost:8080/",
          "height": 81
        },
        "outputId": "529c2649-0ffe-42a7-9261-68ab25603991"
      },
      "source": [
        "har.rename(inplace=True,\n",
        "           columns={\n",
        "               'Time':'har_time',\n",
        "               'Type':'figure',\n",
        "               'Dim':'n',\n",
        "               'Thinning':'har_thi',\n",
        "           })\n",
        "har['har_total_points'] = har['har_thi']\n",
        "har['har_samples_sec'] =  har['Iter']/har['har_time']\n",
        "\n",
        "har_experiments = har[['figure', 'n']].drop_duplicates()\n",
        "har.head(1)"
      ],
      "execution_count": null,
      "outputs": [
        {
          "output_type": "execute_result",
          "data": {
            "text/html": [
              "<div>\n",
              "<style scoped>\n",
              "    .dataframe tbody tr th:only-of-type {\n",
              "        vertical-align: middle;\n",
              "    }\n",
              "\n",
              "    .dataframe tbody tr th {\n",
              "        vertical-align: top;\n",
              "    }\n",
              "\n",
              "    .dataframe thead th {\n",
              "        text-align: right;\n",
              "    }\n",
              "</style>\n",
              "<table border=\"1\" class=\"dataframe\">\n",
              "  <thead>\n",
              "    <tr style=\"text-align: right;\">\n",
              "      <th></th>\n",
              "      <th>har_time</th>\n",
              "      <th>figure</th>\n",
              "      <th>n</th>\n",
              "      <th>Samples</th>\n",
              "      <th>Iter</th>\n",
              "      <th>har_thi</th>\n",
              "      <th>har_total_points</th>\n",
              "      <th>har_samples_sec</th>\n",
              "    </tr>\n",
              "  </thead>\n",
              "  <tbody>\n",
              "    <tr>\n",
              "      <th>0</th>\n",
              "      <td>28866.492653</td>\n",
              "      <td>simplex</td>\n",
              "      <td>250</td>\n",
              "      <td>1</td>\n",
              "      <td>30000</td>\n",
              "      <td>30000</td>\n",
              "      <td>30000</td>\n",
              "      <td>1.039267</td>\n",
              "    </tr>\n",
              "  </tbody>\n",
              "</table>\n",
              "</div>"
            ],
            "text/plain": [
              "       har_time   figure    n  ...  har_thi  har_total_points  har_samples_sec\n",
              "0  28866.492653  simplex  250  ...    30000             30000         1.039267\n",
              "\n",
              "[1 rows x 8 columns]"
            ]
          },
          "metadata": {
            "tags": []
          },
          "execution_count": 33
        }
      ]
    },
    {
      "cell_type": "code",
      "metadata": {
        "id": "OMdTYN7gP9zZ",
        "colab_type": "code",
        "colab": {
          "base_uri": "https://localhost:8080/",
          "height": 424
        },
        "outputId": "618b1ee7-341e-4770-81c3-29c72a036320"
      },
      "source": [
        "mhar[(mhar['n'].isin(har['n'])) & (mhar['figure'].isin(har['figure']))]"
      ],
      "execution_count": null,
      "outputs": [
        {
          "output_type": "execute_result",
          "data": {
            "text/html": [
              "<div>\n",
              "<style scoped>\n",
              "    .dataframe tbody tr th:only-of-type {\n",
              "        vertical-align: middle;\n",
              "    }\n",
              "\n",
              "    .dataframe tbody tr th {\n",
              "        vertical-align: top;\n",
              "    }\n",
              "\n",
              "    .dataframe thead th {\n",
              "        text-align: right;\n",
              "    }\n",
              "</style>\n",
              "<table border=\"1\" class=\"dataframe\">\n",
              "  <thead>\n",
              "    <tr style=\"text-align: right;\">\n",
              "      <th></th>\n",
              "      <th>n</th>\n",
              "      <th>z</th>\n",
              "      <th>time</th>\n",
              "      <th>thi</th>\n",
              "      <th>gpu</th>\n",
              "      <th>figure</th>\n",
              "      <th>samples_sec</th>\n",
              "    </tr>\n",
              "  </thead>\n",
              "  <tbody>\n",
              "    <tr>\n",
              "      <th>58</th>\n",
              "      <td>100</td>\n",
              "      <td>1</td>\n",
              "      <td>14.301037</td>\n",
              "      <td>30000</td>\n",
              "      <td>p100</td>\n",
              "      <td>simplex</td>\n",
              "      <td>2.097750e+03</td>\n",
              "    </tr>\n",
              "    <tr>\n",
              "      <th>59</th>\n",
              "      <td>100</td>\n",
              "      <td>500</td>\n",
              "      <td>13.050720</td>\n",
              "      <td>30000</td>\n",
              "      <td>p100</td>\n",
              "      <td>simplex</td>\n",
              "      <td>1.149362e+06</td>\n",
              "    </tr>\n",
              "    <tr>\n",
              "      <th>60</th>\n",
              "      <td>100</td>\n",
              "      <td>1500</td>\n",
              "      <td>12.647002</td>\n",
              "      <td>30000</td>\n",
              "      <td>p100</td>\n",
              "      <td>simplex</td>\n",
              "      <td>3.558156e+06</td>\n",
              "    </tr>\n",
              "    <tr>\n",
              "      <th>61</th>\n",
              "      <td>100</td>\n",
              "      <td>3000</td>\n",
              "      <td>12.469758</td>\n",
              "      <td>30000</td>\n",
              "      <td>p100</td>\n",
              "      <td>simplex</td>\n",
              "      <td>7.217462e+06</td>\n",
              "    </tr>\n",
              "    <tr>\n",
              "      <th>62</th>\n",
              "      <td>100</td>\n",
              "      <td>4000</td>\n",
              "      <td>27.450917</td>\n",
              "      <td>30000</td>\n",
              "      <td>p100</td>\n",
              "      <td>simplex</td>\n",
              "      <td>4.371439e+06</td>\n",
              "    </tr>\n",
              "    <tr>\n",
              "      <th>...</th>\n",
              "      <td>...</td>\n",
              "      <td>...</td>\n",
              "      <td>...</td>\n",
              "      <td>...</td>\n",
              "      <td>...</td>\n",
              "      <td>...</td>\n",
              "      <td>...</td>\n",
              "    </tr>\n",
              "    <tr>\n",
              "      <th>1429</th>\n",
              "      <td>100</td>\n",
              "      <td>2000</td>\n",
              "      <td>25.942930</td>\n",
              "      <td>30000</td>\n",
              "      <td>p100</td>\n",
              "      <td>hypercube</td>\n",
              "      <td>2.312769e+06</td>\n",
              "    </tr>\n",
              "    <tr>\n",
              "      <th>1430</th>\n",
              "      <td>100</td>\n",
              "      <td>2500</td>\n",
              "      <td>45.858667</td>\n",
              "      <td>30000</td>\n",
              "      <td>p100</td>\n",
              "      <td>hypercube</td>\n",
              "      <td>1.635460e+06</td>\n",
              "    </tr>\n",
              "    <tr>\n",
              "      <th>1431</th>\n",
              "      <td>100</td>\n",
              "      <td>3500</td>\n",
              "      <td>24.417930</td>\n",
              "      <td>30000</td>\n",
              "      <td>p100</td>\n",
              "      <td>hypercube</td>\n",
              "      <td>4.300119e+06</td>\n",
              "    </tr>\n",
              "    <tr>\n",
              "      <th>1432</th>\n",
              "      <td>100</td>\n",
              "      <td>5000</td>\n",
              "      <td>67.373997</td>\n",
              "      <td>30000</td>\n",
              "      <td>p100</td>\n",
              "      <td>hypercube</td>\n",
              "      <td>2.226378e+06</td>\n",
              "    </tr>\n",
              "    <tr>\n",
              "      <th>1433</th>\n",
              "      <td>100</td>\n",
              "      <td>7500</td>\n",
              "      <td>73.441834</td>\n",
              "      <td>30000</td>\n",
              "      <td>p100</td>\n",
              "      <td>hypercube</td>\n",
              "      <td>3.063649e+06</td>\n",
              "    </tr>\n",
              "  </tbody>\n",
              "</table>\n",
              "<p>916 rows × 7 columns</p>\n",
              "</div>"
            ],
            "text/plain": [
              "        n     z       time    thi   gpu     figure   samples_sec\n",
              "58    100     1  14.301037  30000  p100    simplex  2.097750e+03\n",
              "59    100   500  13.050720  30000  p100    simplex  1.149362e+06\n",
              "60    100  1500  12.647002  30000  p100    simplex  3.558156e+06\n",
              "61    100  3000  12.469758  30000  p100    simplex  7.217462e+06\n",
              "62    100  4000  27.450917  30000  p100    simplex  4.371439e+06\n",
              "...   ...   ...        ...    ...   ...        ...           ...\n",
              "1429  100  2000  25.942930  30000  p100  hypercube  2.312769e+06\n",
              "1430  100  2500  45.858667  30000  p100  hypercube  1.635460e+06\n",
              "1431  100  3500  24.417930  30000  p100  hypercube  4.300119e+06\n",
              "1432  100  5000  67.373997  30000  p100  hypercube  2.226378e+06\n",
              "1433  100  7500  73.441834  30000  p100  hypercube  3.063649e+06\n",
              "\n",
              "[916 rows x 7 columns]"
            ]
          },
          "metadata": {
            "tags": []
          },
          "execution_count": 34
        }
      ]
    }
  ]
}